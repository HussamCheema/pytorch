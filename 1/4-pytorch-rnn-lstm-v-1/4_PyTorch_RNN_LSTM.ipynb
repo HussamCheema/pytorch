{
 "cells": [
  {
   "cell_type": "code",
   "execution_count": 2,
   "metadata": {
    "id": "QqsJD2WOGB-9"
   },
   "outputs": [],
   "source": [
    "import numpy\n",
    "import torch\n",
    "import torch.nn as nn\n",
    "import torch.optim as optim\n",
    "import torch.nn.functional as F # activation functions\n",
    "from torch.utils.data import DataLoader\n",
    "import torchvision.datasets as datasets\n",
    "import torchvision.transforms as transforms\n",
    "from tqdm import tqdm"
   ]
  },
  {
   "cell_type": "markdown",
   "metadata": {
    "id": "s8EgNE2pGXA7"
   },
   "source": [
    "### Set Device"
   ]
  },
  {
   "cell_type": "code",
   "execution_count": 3,
   "metadata": {
    "id": "r2lCdmUPGR3L"
   },
   "outputs": [],
   "source": [
    "device = torch.device(\"cuda\" if torch.cuda.is_available() else \"cpu\")"
   ]
  },
  {
   "cell_type": "markdown",
   "metadata": {
    "id": "lYpDmZBbGajU"
   },
   "source": [
    "### Hyperparameters"
   ]
  },
  {
   "cell_type": "code",
   "execution_count": 4,
   "metadata": {
    "id": "gy7laUWvGZv8"
   },
   "outputs": [],
   "source": [
    "input_size = 28\n",
    "sequence_length = 28\n",
    "num_layers = 2\n",
    "hidden_size = 256\n",
    "num_classes = 10\n",
    "learning_rate = 0.001\n",
    "batch_size = 64\n",
    "num_epochs = 5"
   ]
  },
  {
   "cell_type": "markdown",
   "metadata": {
    "id": "2KogeqAIGfQ7"
   },
   "source": [
    "### Load Data"
   ]
  },
  {
   "cell_type": "code",
   "execution_count": 5,
   "metadata": {
    "colab": {
     "base_uri": "https://localhost:8080/",
     "height": 443,
     "referenced_widgets": [
      "62c1fa5d4b264f72bad0228bfd8a5348",
      "90ee2dfb851843dfbd77dcbc349f8b17",
      "81ce0138c13f44f48faa34915d9c0e70",
      "d6260a63b36f4eb2a8dfcc346523ecd5",
      "937018951ac54494b4781c4f876efc6c",
      "b26ccd818fef4811aafe908b8ef83b6b",
      "ca2fd5a7f0a849eaba68a8a78083ad9a",
      "95ae250721da46df894486d801e678f3",
      "be575b8c588247769c7549c176df7b9d",
      "4db8151a5a7e4f20bdcd70c5e7dddf6a",
      "fdd6b0cced384e7a830c48823274f067",
      "02b37df0019e4239b2a191cb34c56703",
      "f27fedf7f744406b8c9ded371ef32953",
      "894fc6ad0b0f43ce85db3f6527072d6b",
      "eb3edfd68dc648fab1f8223a9c15e779",
      "15f90696efa544bf96d4256d99d40e95",
      "ab02576f18a24c58a6ceb9af280a0eb4",
      "9ea00bbb3e284ca692a7ebe1ef1a2bcd",
      "eb919294e6034a098251781fdaebd5c4",
      "3a37e0fe57a348359703b01f38f62d61",
      "6824a48f66314edeb94ad098af71fc0e",
      "fd9d4f0c8dca4bb682960c0fd74011a3",
      "05ff09c4a3ef4fd7867b4fa17cc9823e",
      "7b736a0ef9b1437da1a4007de9b8fa3e",
      "c88b9e8f614b4d959566d673d75e6ee2",
      "04e12d05d5004adc84ac1f586a4d3cc6",
      "b06dbc8b3b144459bf4dc58863508df1",
      "6c00aad91a3049a387620979e166f3c3",
      "d83f48413a674064b1d9d406d5cc42b8",
      "c0e681eb5b1e4284bd09bfa8ca8b05b7",
      "d08f2f7d361144cca72bc33c8094a451",
      "7febdd31b3374be5a509e3598ae567b4",
      "431e8c2d02214fb3b7953f216e898314",
      "63efdef65f584dbdae093d82723e6db9",
      "35399493a47c43c0ac0f9764630e54a1",
      "e53e00e6ed7442e5985c6e447f736a3a",
      "9fc72ed548d844049e30ffb995bd491b",
      "fa37387a61824af0aeac0c8213c04cbc",
      "33fb3d53584841f98f6ca8022d54a186",
      "17aaca915a124161b77308b74d09d085",
      "c478f8ecbf2d44e18e66ba631d97ecec",
      "8a143d2583d44800b3d360a49457a006",
      "0f340db27a8c41f5849bdd03e34f28a6",
      "3968d67837624324970e056242df1f5c"
     ]
    },
    "id": "JtllBDuyGdby",
    "outputId": "564e40aa-8b64-41d5-c380-9ed99fb9186e"
   },
   "outputs": [
    {
     "name": "stdout",
     "output_type": "stream",
     "text": [
      "Downloading http://yann.lecun.com/exdb/mnist/train-images-idx3-ubyte.gz\n",
      "Downloading http://yann.lecun.com/exdb/mnist/train-images-idx3-ubyte.gz to dataset/MNIST/raw/train-images-idx3-ubyte.gz\n"
     ]
    },
    {
     "data": {
      "application/vnd.jupyter.widget-view+json": {
       "model_id": "62c1fa5d4b264f72bad0228bfd8a5348",
       "version_major": 2,
       "version_minor": 0
      },
      "text/plain": [
       "  0%|          | 0/9912422 [00:00<?, ?it/s]"
      ]
     },
     "metadata": {},
     "output_type": "display_data"
    },
    {
     "name": "stdout",
     "output_type": "stream",
     "text": [
      "Extracting dataset/MNIST/raw/train-images-idx3-ubyte.gz to dataset/MNIST/raw\n",
      "\n",
      "Downloading http://yann.lecun.com/exdb/mnist/train-labels-idx1-ubyte.gz\n",
      "Downloading http://yann.lecun.com/exdb/mnist/train-labels-idx1-ubyte.gz to dataset/MNIST/raw/train-labels-idx1-ubyte.gz\n"
     ]
    },
    {
     "data": {
      "application/vnd.jupyter.widget-view+json": {
       "model_id": "02b37df0019e4239b2a191cb34c56703",
       "version_major": 2,
       "version_minor": 0
      },
      "text/plain": [
       "  0%|          | 0/28881 [00:00<?, ?it/s]"
      ]
     },
     "metadata": {},
     "output_type": "display_data"
    },
    {
     "name": "stdout",
     "output_type": "stream",
     "text": [
      "Extracting dataset/MNIST/raw/train-labels-idx1-ubyte.gz to dataset/MNIST/raw\n",
      "\n",
      "Downloading http://yann.lecun.com/exdb/mnist/t10k-images-idx3-ubyte.gz\n",
      "Downloading http://yann.lecun.com/exdb/mnist/t10k-images-idx3-ubyte.gz to dataset/MNIST/raw/t10k-images-idx3-ubyte.gz\n"
     ]
    },
    {
     "data": {
      "application/vnd.jupyter.widget-view+json": {
       "model_id": "05ff09c4a3ef4fd7867b4fa17cc9823e",
       "version_major": 2,
       "version_minor": 0
      },
      "text/plain": [
       "  0%|          | 0/1648877 [00:00<?, ?it/s]"
      ]
     },
     "metadata": {},
     "output_type": "display_data"
    },
    {
     "name": "stdout",
     "output_type": "stream",
     "text": [
      "Extracting dataset/MNIST/raw/t10k-images-idx3-ubyte.gz to dataset/MNIST/raw\n",
      "\n",
      "Downloading http://yann.lecun.com/exdb/mnist/t10k-labels-idx1-ubyte.gz\n",
      "Downloading http://yann.lecun.com/exdb/mnist/t10k-labels-idx1-ubyte.gz to dataset/MNIST/raw/t10k-labels-idx1-ubyte.gz\n"
     ]
    },
    {
     "data": {
      "application/vnd.jupyter.widget-view+json": {
       "model_id": "63efdef65f584dbdae093d82723e6db9",
       "version_major": 2,
       "version_minor": 0
      },
      "text/plain": [
       "  0%|          | 0/4542 [00:00<?, ?it/s]"
      ]
     },
     "metadata": {},
     "output_type": "display_data"
    },
    {
     "name": "stdout",
     "output_type": "stream",
     "text": [
      "Extracting dataset/MNIST/raw/t10k-labels-idx1-ubyte.gz to dataset/MNIST/raw\n",
      "\n"
     ]
    }
   ],
   "source": [
    "train_dataset = datasets.MNIST(root='dataset/', \n",
    "                               train=True, \n",
    "                               transform=transforms.ToTensor(), \n",
    "                               download=True)\n",
    "\n",
    "train_loader = DataLoader(dataset=train_dataset, batch_size=batch_size, shuffle=True)\n",
    "\n",
    "test_dataset = datasets.MNIST(root='dataset/', \n",
    "                               train=False, \n",
    "                               transform=transforms.ToTensor(), \n",
    "                               download=True)\n",
    "\n",
    "test_loader = DataLoader(dataset=test_dataset, batch_size=batch_size, shuffle=True)"
   ]
  },
  {
   "cell_type": "markdown",
   "metadata": {
    "id": "lpI0pSe5GnPm"
   },
   "source": [
    "### Create a RNN"
   ]
  },
  {
   "cell_type": "markdown",
   "metadata": {
    "id": "IidOKa8x0o6B"
   },
   "source": [
    "![image.png](data:image/png;base64,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)"
   ]
  },
  {
   "cell_type": "code",
   "execution_count": 10,
   "metadata": {
    "id": "TIkU6SPcGhae"
   },
   "outputs": [],
   "source": [
    "class RNN(nn.Module):\n",
    "  def __init__(self, input_size, hidden_size, num_layers, num_classes):\n",
    "    super(RNN, self).__init__()\n",
    "    self.hidden_size = hidden_size\n",
    "    self.num_layers = num_layers\n",
    "    self.rnn = nn.RNN(input_size, hidden_size, num_layers, batch_first=True) # batch_first=> keeps the batch_size as first dim/axis\n",
    "    # Input => batch_size * time_seq * features\n",
    "    self.fc = nn.Linear(hidden_size*sequence_length, num_classes)\n",
    "\n",
    "  def forward(self, x):\n",
    "    h0 = torch.zeros(self.num_layers, x.size(0), self.hidden_size).to(device)\n",
    "    # Forward Prop\n",
    "    out, _ = self.rnn(x, h0)\n",
    "    out = out.reshape(out.shape[0], -1)\n",
    "    out = self.fc(out)\n",
    "    return out"
   ]
  },
  {
   "cell_type": "code",
   "execution_count": 19,
   "metadata": {
    "id": "4y8UOBhI209Y"
   },
   "outputs": [],
   "source": [
    "class LSTM(nn.Module):\n",
    "  def __init__(self, input_size, hidden_size, num_layers, num_classes):\n",
    "    super(LSTM, self).__init__()\n",
    "    self.hidden_size = hidden_size\n",
    "    self.num_layers = num_layers\n",
    "    self.lstm = nn.LSTM(input_size, hidden_size, num_layers, batch_first=True) # batch_first=> keeps the batch_size as first dim/axis\n",
    "    # Input => batch_size * time_seq * features\n",
    "    self.fc = nn.Linear(hidden_size*sequence_length, num_classes)\n",
    "\n",
    "  def forward(self, x):\n",
    "    h0 = torch.zeros(self.num_layers, x.size(0), self.hidden_size).to(device)\n",
    "    c0 = torch.zeros(self.num_layers, x.size(0), self.hidden_size).to(device)\n",
    "    # Forward Prop\n",
    "    out, _ = self.lstm(x, (h0, c0))\n",
    "    out = out.reshape(out.shape[0], -1)\n",
    "    # out = self.fc(out[:,-1,:]) # all training examples, last hidden state, all features\n",
    "    out = self.fc(out)\n",
    "    return out"
   ]
  },
  {
   "cell_type": "markdown",
   "metadata": {
    "id": "WmhEuKRgyvAX"
   },
   "source": [
    "### Initialize the Model"
   ]
  },
  {
   "cell_type": "code",
   "execution_count": 20,
   "metadata": {
    "id": "IlaZSWe2Gmf3"
   },
   "outputs": [],
   "source": [
    "# model = RNN(input_size, hidden_size, num_layers, num_classes).to(device)\n",
    "model = LSTM(input_size, hidden_size, num_layers, num_classes).to(device)"
   ]
  },
  {
   "cell_type": "markdown",
   "metadata": {
    "id": "zrZyCFWZyxRH"
   },
   "source": [
    "### Loss and Optimizer"
   ]
  },
  {
   "cell_type": "code",
   "execution_count": 12,
   "metadata": {
    "id": "B6kdECvnysl1"
   },
   "outputs": [],
   "source": [
    "criterion = nn.CrossEntropyLoss()\n",
    "optimizer = optim.Adam(model.parameters(), lr=learning_rate) # Remember to give model parameters here"
   ]
  },
  {
   "cell_type": "markdown",
   "metadata": {
    "id": "2OTT47duy4Pj"
   },
   "source": [
    "### Training the Model"
   ]
  },
  {
   "cell_type": "code",
   "execution_count": 21,
   "metadata": {
    "colab": {
     "base_uri": "https://localhost:8080/"
    },
    "id": "hxj0S3E3y1LN",
    "outputId": "ac419069-afc8-4fa2-dfe8-f586549f4899"
   },
   "outputs": [
    {
     "name": "stderr",
     "output_type": "stream",
     "text": [
      " 20%|██        | 1/5 [03:34<14:19, 214.76s/it]"
     ]
    },
    {
     "name": "stdout",
     "output_type": "stream",
     "text": [
      "Epoch 1 is done\n"
     ]
    },
    {
     "name": "stderr",
     "output_type": "stream",
     "text": [
      "\r",
      " 40%|████      | 2/5 [07:08<10:42, 214.08s/it]"
     ]
    },
    {
     "name": "stdout",
     "output_type": "stream",
     "text": [
      "Epoch 2 is done\n"
     ]
    },
    {
     "name": "stderr",
     "output_type": "stream",
     "text": [
      "\r",
      " 60%|██████    | 3/5 [10:42<07:08, 214.20s/it]"
     ]
    },
    {
     "name": "stdout",
     "output_type": "stream",
     "text": [
      "Epoch 3 is done\n"
     ]
    },
    {
     "name": "stderr",
     "output_type": "stream",
     "text": [
      "\r",
      " 80%|████████  | 4/5 [14:16<03:34, 214.07s/it]"
     ]
    },
    {
     "name": "stdout",
     "output_type": "stream",
     "text": [
      "Epoch 4 is done\n"
     ]
    },
    {
     "name": "stderr",
     "output_type": "stream",
     "text": [
      "100%|██████████| 5/5 [17:49<00:00, 213.98s/it]"
     ]
    },
    {
     "name": "stdout",
     "output_type": "stream",
     "text": [
      "Epoch 5 is done\n"
     ]
    },
    {
     "name": "stderr",
     "output_type": "stream",
     "text": [
      "\n"
     ]
    }
   ],
   "source": [
    "for epoch in tqdm(range(num_epochs)):\n",
    "  for ind, (data, target) in enumerate(train_loader):\n",
    "    data = data.to(device=device).squeeze(1)\n",
    "    target = target.to(device=device)\n",
    "    \n",
    "    # forward\n",
    "    scores = model(data)\n",
    "    loss = criterion(scores, target)\n",
    "\n",
    "    # backward\n",
    "    optimizer.zero_grad() # set all the gradients to 0 for each batch\n",
    "    loss.backward()\n",
    "\n",
    "    # gradient descent or adam step - updates the parameters\n",
    "    optimizer.step()\n",
    "\n",
    "  print(f\"Epoch {epoch+1} is done\")"
   ]
  },
  {
   "cell_type": "code",
   "execution_count": 22,
   "metadata": {
    "id": "3lNIKESmzHZl"
   },
   "outputs": [],
   "source": [
    "def check_accuracy(loader, model):\n",
    "  num_correct = 0\n",
    "  num_samples = 0\n",
    "  model.eval() # Let the model know that this is evaluation mode\n",
    "\n",
    "  with torch.no_grad():\n",
    "    for x, y in loader:\n",
    "      x = x.to(device=device).squeeze(1)\n",
    "      y = y.to(device=device)\n",
    "\n",
    "      scores = model(x)\n",
    "      \n",
    "      # Which class has the max value\n",
    "      _, pred = scores.max(dim=1)\n",
    "      num_correct += (pred == y).sum()\n",
    "      num_samples += pred.size(0) # 64\n",
    "\n",
    "    print(f\"Got {num_correct} / {num_samples} with accuracy {(float(num_correct)/float(num_samples)*100):.2f}%\")"
   ]
  },
  {
   "cell_type": "code",
   "execution_count": 23,
   "metadata": {
    "colab": {
     "base_uri": "https://localhost:8080/"
    },
    "id": "Qk55_Qm00flz",
    "outputId": "8eab09c6-87a3-49ef-a4eb-94925f9ccce0"
   },
   "outputs": [
    {
     "name": "stdout",
     "output_type": "stream",
     "text": [
      "Got 954 / 10000 with accuracy 9.54%\n"
     ]
    }
   ],
   "source": [
    "check_accuracy(test_loader, model)"
   ]
  },
  {
   "cell_type": "code",
   "execution_count": null,
   "metadata": {
    "id": "-RlQupKz0hC5"
   },
   "outputs": [],
   "source": []
  }
 ],
 "metadata": {
  "colab": {
   "collapsed_sections": [],
   "name": "4 - PyTorch - RNN - LSTM.ipynb",
   "provenance": []
  },
  "language_info": {
   "name": "python"
  },
  "widgets": {
   "application/vnd.jupyter.widget-state+json": {
    "02b37df0019e4239b2a191cb34c56703": {
     "model_module": "@jupyter-widgets/controls",
     "model_module_version": "1.5.0",
     "model_name": "HBoxModel",
     "state": {
      "_dom_classes": [],
      "_model_module": "@jupyter-widgets/controls",
      "_model_module_version": "1.5.0",
      "_model_name": "HBoxModel",
      "_view_count": null,
      "_view_module": "@jupyter-widgets/controls",
      "_view_module_version": "1.5.0",
      "_view_name": "HBoxView",
      "box_style": "",
      "children": [
       "IPY_MODEL_894fc6ad0b0f43ce85db3f6527072d6b",
       "IPY_MODEL_eb3edfd68dc648fab1f8223a9c15e779",
       "IPY_MODEL_15f90696efa544bf96d4256d99d40e95"
      ],
      "layout": "IPY_MODEL_f27fedf7f744406b8c9ded371ef32953"
     }
    },
    "04e12d05d5004adc84ac1f586a4d3cc6": {
     "model_module": "@jupyter-widgets/controls",
     "model_module_version": "1.5.0",
     "model_name": "FloatProgressModel",
     "state": {
      "_dom_classes": [],
      "_model_module": "@jupyter-widgets/controls",
      "_model_module_version": "1.5.0",
      "_model_name": "FloatProgressModel",
      "_view_count": null,
      "_view_module": "@jupyter-widgets/controls",
      "_view_module_version": "1.5.0",
      "_view_name": "ProgressView",
      "bar_style": "success",
      "description": "",
      "description_tooltip": null,
      "layout": "IPY_MODEL_d08f2f7d361144cca72bc33c8094a451",
      "max": 1648877,
      "min": 0,
      "orientation": "horizontal",
      "style": "IPY_MODEL_c0e681eb5b1e4284bd09bfa8ca8b05b7",
      "value": 1648877
     }
    },
    "05ff09c4a3ef4fd7867b4fa17cc9823e": {
     "model_module": "@jupyter-widgets/controls",
     "model_module_version": "1.5.0",
     "model_name": "HBoxModel",
     "state": {
      "_dom_classes": [],
      "_model_module": "@jupyter-widgets/controls",
      "_model_module_version": "1.5.0",
      "_model_name": "HBoxModel",
      "_view_count": null,
      "_view_module": "@jupyter-widgets/controls",
      "_view_module_version": "1.5.0",
      "_view_name": "HBoxView",
      "box_style": "",
      "children": [
       "IPY_MODEL_c88b9e8f614b4d959566d673d75e6ee2",
       "IPY_MODEL_04e12d05d5004adc84ac1f586a4d3cc6",
       "IPY_MODEL_b06dbc8b3b144459bf4dc58863508df1"
      ],
      "layout": "IPY_MODEL_7b736a0ef9b1437da1a4007de9b8fa3e"
     }
    },
    "0f340db27a8c41f5849bdd03e34f28a6": {
     "model_module": "@jupyter-widgets/controls",
     "model_module_version": "1.5.0",
     "model_name": "DescriptionStyleModel",
     "state": {
      "_model_module": "@jupyter-widgets/controls",
      "_model_module_version": "1.5.0",
      "_model_name": "DescriptionStyleModel",
      "_view_count": null,
      "_view_module": "@jupyter-widgets/base",
      "_view_module_version": "1.2.0",
      "_view_name": "StyleView",
      "description_width": ""
     }
    },
    "15f90696efa544bf96d4256d99d40e95": {
     "model_module": "@jupyter-widgets/controls",
     "model_module_version": "1.5.0",
     "model_name": "HTMLModel",
     "state": {
      "_dom_classes": [],
      "_model_module": "@jupyter-widgets/controls",
      "_model_module_version": "1.5.0",
      "_model_name": "HTMLModel",
      "_view_count": null,
      "_view_module": "@jupyter-widgets/controls",
      "_view_module_version": "1.5.0",
      "_view_name": "HTMLView",
      "description": "",
      "description_tooltip": null,
      "layout": "IPY_MODEL_fd9d4f0c8dca4bb682960c0fd74011a3",
      "placeholder": "​",
      "style": "IPY_MODEL_6824a48f66314edeb94ad098af71fc0e",
      "value": " 29696/? [00:00&lt;00:00, 575203.78it/s]"
     }
    },
    "17aaca915a124161b77308b74d09d085": {
     "model_module": "@jupyter-widgets/base",
     "model_module_version": "1.2.0",
     "model_name": "LayoutModel",
     "state": {
      "_model_module": "@jupyter-widgets/base",
      "_model_module_version": "1.2.0",
      "_model_name": "LayoutModel",
      "_view_count": null,
      "_view_module": "@jupyter-widgets/base",
      "_view_module_version": "1.2.0",
      "_view_name": "LayoutView",
      "align_content": null,
      "align_items": null,
      "align_self": null,
      "border": null,
      "bottom": null,
      "display": null,
      "flex": null,
      "flex_flow": null,
      "grid_area": null,
      "grid_auto_columns": null,
      "grid_auto_flow": null,
      "grid_auto_rows": null,
      "grid_column": null,
      "grid_gap": null,
      "grid_row": null,
      "grid_template_areas": null,
      "grid_template_columns": null,
      "grid_template_rows": null,
      "height": null,
      "justify_content": null,
      "justify_items": null,
      "left": null,
      "margin": null,
      "max_height": null,
      "max_width": null,
      "min_height": null,
      "min_width": null,
      "object_fit": null,
      "object_position": null,
      "order": null,
      "overflow": null,
      "overflow_x": null,
      "overflow_y": null,
      "padding": null,
      "right": null,
      "top": null,
      "visibility": null,
      "width": null
     }
    },
    "33fb3d53584841f98f6ca8022d54a186": {
     "model_module": "@jupyter-widgets/controls",
     "model_module_version": "1.5.0",
     "model_name": "DescriptionStyleModel",
     "state": {
      "_model_module": "@jupyter-widgets/controls",
      "_model_module_version": "1.5.0",
      "_model_name": "DescriptionStyleModel",
      "_view_count": null,
      "_view_module": "@jupyter-widgets/base",
      "_view_module_version": "1.2.0",
      "_view_name": "StyleView",
      "description_width": ""
     }
    },
    "35399493a47c43c0ac0f9764630e54a1": {
     "model_module": "@jupyter-widgets/base",
     "model_module_version": "1.2.0",
     "model_name": "LayoutModel",
     "state": {
      "_model_module": "@jupyter-widgets/base",
      "_model_module_version": "1.2.0",
      "_model_name": "LayoutModel",
      "_view_count": null,
      "_view_module": "@jupyter-widgets/base",
      "_view_module_version": "1.2.0",
      "_view_name": "LayoutView",
      "align_content": null,
      "align_items": null,
      "align_self": null,
      "border": null,
      "bottom": null,
      "display": null,
      "flex": null,
      "flex_flow": null,
      "grid_area": null,
      "grid_auto_columns": null,
      "grid_auto_flow": null,
      "grid_auto_rows": null,
      "grid_column": null,
      "grid_gap": null,
      "grid_row": null,
      "grid_template_areas": null,
      "grid_template_columns": null,
      "grid_template_rows": null,
      "height": null,
      "justify_content": null,
      "justify_items": null,
      "left": null,
      "margin": null,
      "max_height": null,
      "max_width": null,
      "min_height": null,
      "min_width": null,
      "object_fit": null,
      "object_position": null,
      "order": null,
      "overflow": null,
      "overflow_x": null,
      "overflow_y": null,
      "padding": null,
      "right": null,
      "top": null,
      "visibility": null,
      "width": null
     }
    },
    "3968d67837624324970e056242df1f5c": {
     "model_module": "@jupyter-widgets/base",
     "model_module_version": "1.2.0",
     "model_name": "LayoutModel",
     "state": {
      "_model_module": "@jupyter-widgets/base",
      "_model_module_version": "1.2.0",
      "_model_name": "LayoutModel",
      "_view_count": null,
      "_view_module": "@jupyter-widgets/base",
      "_view_module_version": "1.2.0",
      "_view_name": "LayoutView",
      "align_content": null,
      "align_items": null,
      "align_self": null,
      "border": null,
      "bottom": null,
      "display": null,
      "flex": null,
      "flex_flow": null,
      "grid_area": null,
      "grid_auto_columns": null,
      "grid_auto_flow": null,
      "grid_auto_rows": null,
      "grid_column": null,
      "grid_gap": null,
      "grid_row": null,
      "grid_template_areas": null,
      "grid_template_columns": null,
      "grid_template_rows": null,
      "height": null,
      "justify_content": null,
      "justify_items": null,
      "left": null,
      "margin": null,
      "max_height": null,
      "max_width": null,
      "min_height": null,
      "min_width": null,
      "object_fit": null,
      "object_position": null,
      "order": null,
      "overflow": null,
      "overflow_x": null,
      "overflow_y": null,
      "padding": null,
      "right": null,
      "top": null,
      "visibility": null,
      "width": null
     }
    },
    "3a37e0fe57a348359703b01f38f62d61": {
     "model_module": "@jupyter-widgets/base",
     "model_module_version": "1.2.0",
     "model_name": "LayoutModel",
     "state": {
      "_model_module": "@jupyter-widgets/base",
      "_model_module_version": "1.2.0",
      "_model_name": "LayoutModel",
      "_view_count": null,
      "_view_module": "@jupyter-widgets/base",
      "_view_module_version": "1.2.0",
      "_view_name": "LayoutView",
      "align_content": null,
      "align_items": null,
      "align_self": null,
      "border": null,
      "bottom": null,
      "display": null,
      "flex": null,
      "flex_flow": null,
      "grid_area": null,
      "grid_auto_columns": null,
      "grid_auto_flow": null,
      "grid_auto_rows": null,
      "grid_column": null,
      "grid_gap": null,
      "grid_row": null,
      "grid_template_areas": null,
      "grid_template_columns": null,
      "grid_template_rows": null,
      "height": null,
      "justify_content": null,
      "justify_items": null,
      "left": null,
      "margin": null,
      "max_height": null,
      "max_width": null,
      "min_height": null,
      "min_width": null,
      "object_fit": null,
      "object_position": null,
      "order": null,
      "overflow": null,
      "overflow_x": null,
      "overflow_y": null,
      "padding": null,
      "right": null,
      "top": null,
      "visibility": null,
      "width": null
     }
    },
    "431e8c2d02214fb3b7953f216e898314": {
     "model_module": "@jupyter-widgets/base",
     "model_module_version": "1.2.0",
     "model_name": "LayoutModel",
     "state": {
      "_model_module": "@jupyter-widgets/base",
      "_model_module_version": "1.2.0",
      "_model_name": "LayoutModel",
      "_view_count": null,
      "_view_module": "@jupyter-widgets/base",
      "_view_module_version": "1.2.0",
      "_view_name": "LayoutView",
      "align_content": null,
      "align_items": null,
      "align_self": null,
      "border": null,
      "bottom": null,
      "display": null,
      "flex": null,
      "flex_flow": null,
      "grid_area": null,
      "grid_auto_columns": null,
      "grid_auto_flow": null,
      "grid_auto_rows": null,
      "grid_column": null,
      "grid_gap": null,
      "grid_row": null,
      "grid_template_areas": null,
      "grid_template_columns": null,
      "grid_template_rows": null,
      "height": null,
      "justify_content": null,
      "justify_items": null,
      "left": null,
      "margin": null,
      "max_height": null,
      "max_width": null,
      "min_height": null,
      "min_width": null,
      "object_fit": null,
      "object_position": null,
      "order": null,
      "overflow": null,
      "overflow_x": null,
      "overflow_y": null,
      "padding": null,
      "right": null,
      "top": null,
      "visibility": null,
      "width": null
     }
    },
    "4db8151a5a7e4f20bdcd70c5e7dddf6a": {
     "model_module": "@jupyter-widgets/controls",
     "model_module_version": "1.5.0",
     "model_name": "DescriptionStyleModel",
     "state": {
      "_model_module": "@jupyter-widgets/controls",
      "_model_module_version": "1.5.0",
      "_model_name": "DescriptionStyleModel",
      "_view_count": null,
      "_view_module": "@jupyter-widgets/base",
      "_view_module_version": "1.2.0",
      "_view_name": "StyleView",
      "description_width": ""
     }
    },
    "62c1fa5d4b264f72bad0228bfd8a5348": {
     "model_module": "@jupyter-widgets/controls",
     "model_module_version": "1.5.0",
     "model_name": "HBoxModel",
     "state": {
      "_dom_classes": [],
      "_model_module": "@jupyter-widgets/controls",
      "_model_module_version": "1.5.0",
      "_model_name": "HBoxModel",
      "_view_count": null,
      "_view_module": "@jupyter-widgets/controls",
      "_view_module_version": "1.5.0",
      "_view_name": "HBoxView",
      "box_style": "",
      "children": [
       "IPY_MODEL_81ce0138c13f44f48faa34915d9c0e70",
       "IPY_MODEL_d6260a63b36f4eb2a8dfcc346523ecd5",
       "IPY_MODEL_937018951ac54494b4781c4f876efc6c"
      ],
      "layout": "IPY_MODEL_90ee2dfb851843dfbd77dcbc349f8b17"
     }
    },
    "63efdef65f584dbdae093d82723e6db9": {
     "model_module": "@jupyter-widgets/controls",
     "model_module_version": "1.5.0",
     "model_name": "HBoxModel",
     "state": {
      "_dom_classes": [],
      "_model_module": "@jupyter-widgets/controls",
      "_model_module_version": "1.5.0",
      "_model_name": "HBoxModel",
      "_view_count": null,
      "_view_module": "@jupyter-widgets/controls",
      "_view_module_version": "1.5.0",
      "_view_name": "HBoxView",
      "box_style": "",
      "children": [
       "IPY_MODEL_e53e00e6ed7442e5985c6e447f736a3a",
       "IPY_MODEL_9fc72ed548d844049e30ffb995bd491b",
       "IPY_MODEL_fa37387a61824af0aeac0c8213c04cbc"
      ],
      "layout": "IPY_MODEL_35399493a47c43c0ac0f9764630e54a1"
     }
    },
    "6824a48f66314edeb94ad098af71fc0e": {
     "model_module": "@jupyter-widgets/controls",
     "model_module_version": "1.5.0",
     "model_name": "DescriptionStyleModel",
     "state": {
      "_model_module": "@jupyter-widgets/controls",
      "_model_module_version": "1.5.0",
      "_model_name": "DescriptionStyleModel",
      "_view_count": null,
      "_view_module": "@jupyter-widgets/base",
      "_view_module_version": "1.2.0",
      "_view_name": "StyleView",
      "description_width": ""
     }
    },
    "6c00aad91a3049a387620979e166f3c3": {
     "model_module": "@jupyter-widgets/controls",
     "model_module_version": "1.5.0",
     "model_name": "DescriptionStyleModel",
     "state": {
      "_model_module": "@jupyter-widgets/controls",
      "_model_module_version": "1.5.0",
      "_model_name": "DescriptionStyleModel",
      "_view_count": null,
      "_view_module": "@jupyter-widgets/base",
      "_view_module_version": "1.2.0",
      "_view_name": "StyleView",
      "description_width": ""
     }
    },
    "7b736a0ef9b1437da1a4007de9b8fa3e": {
     "model_module": "@jupyter-widgets/base",
     "model_module_version": "1.2.0",
     "model_name": "LayoutModel",
     "state": {
      "_model_module": "@jupyter-widgets/base",
      "_model_module_version": "1.2.0",
      "_model_name": "LayoutModel",
      "_view_count": null,
      "_view_module": "@jupyter-widgets/base",
      "_view_module_version": "1.2.0",
      "_view_name": "LayoutView",
      "align_content": null,
      "align_items": null,
      "align_self": null,
      "border": null,
      "bottom": null,
      "display": null,
      "flex": null,
      "flex_flow": null,
      "grid_area": null,
      "grid_auto_columns": null,
      "grid_auto_flow": null,
      "grid_auto_rows": null,
      "grid_column": null,
      "grid_gap": null,
      "grid_row": null,
      "grid_template_areas": null,
      "grid_template_columns": null,
      "grid_template_rows": null,
      "height": null,
      "justify_content": null,
      "justify_items": null,
      "left": null,
      "margin": null,
      "max_height": null,
      "max_width": null,
      "min_height": null,
      "min_width": null,
      "object_fit": null,
      "object_position": null,
      "order": null,
      "overflow": null,
      "overflow_x": null,
      "overflow_y": null,
      "padding": null,
      "right": null,
      "top": null,
      "visibility": null,
      "width": null
     }
    },
    "7febdd31b3374be5a509e3598ae567b4": {
     "model_module": "@jupyter-widgets/controls",
     "model_module_version": "1.5.0",
     "model_name": "DescriptionStyleModel",
     "state": {
      "_model_module": "@jupyter-widgets/controls",
      "_model_module_version": "1.5.0",
      "_model_name": "DescriptionStyleModel",
      "_view_count": null,
      "_view_module": "@jupyter-widgets/base",
      "_view_module_version": "1.2.0",
      "_view_name": "StyleView",
      "description_width": ""
     }
    },
    "81ce0138c13f44f48faa34915d9c0e70": {
     "model_module": "@jupyter-widgets/controls",
     "model_module_version": "1.5.0",
     "model_name": "HTMLModel",
     "state": {
      "_dom_classes": [],
      "_model_module": "@jupyter-widgets/controls",
      "_model_module_version": "1.5.0",
      "_model_name": "HTMLModel",
      "_view_count": null,
      "_view_module": "@jupyter-widgets/controls",
      "_view_module_version": "1.5.0",
      "_view_name": "HTMLView",
      "description": "",
      "description_tooltip": null,
      "layout": "IPY_MODEL_ca2fd5a7f0a849eaba68a8a78083ad9a",
      "placeholder": "​",
      "style": "IPY_MODEL_b26ccd818fef4811aafe908b8ef83b6b",
      "value": ""
     }
    },
    "894fc6ad0b0f43ce85db3f6527072d6b": {
     "model_module": "@jupyter-widgets/controls",
     "model_module_version": "1.5.0",
     "model_name": "HTMLModel",
     "state": {
      "_dom_classes": [],
      "_model_module": "@jupyter-widgets/controls",
      "_model_module_version": "1.5.0",
      "_model_name": "HTMLModel",
      "_view_count": null,
      "_view_module": "@jupyter-widgets/controls",
      "_view_module_version": "1.5.0",
      "_view_name": "HTMLView",
      "description": "",
      "description_tooltip": null,
      "layout": "IPY_MODEL_9ea00bbb3e284ca692a7ebe1ef1a2bcd",
      "placeholder": "​",
      "style": "IPY_MODEL_ab02576f18a24c58a6ceb9af280a0eb4",
      "value": ""
     }
    },
    "8a143d2583d44800b3d360a49457a006": {
     "model_module": "@jupyter-widgets/base",
     "model_module_version": "1.2.0",
     "model_name": "LayoutModel",
     "state": {
      "_model_module": "@jupyter-widgets/base",
      "_model_module_version": "1.2.0",
      "_model_name": "LayoutModel",
      "_view_count": null,
      "_view_module": "@jupyter-widgets/base",
      "_view_module_version": "1.2.0",
      "_view_name": "LayoutView",
      "align_content": null,
      "align_items": null,
      "align_self": null,
      "border": null,
      "bottom": null,
      "display": null,
      "flex": null,
      "flex_flow": null,
      "grid_area": null,
      "grid_auto_columns": null,
      "grid_auto_flow": null,
      "grid_auto_rows": null,
      "grid_column": null,
      "grid_gap": null,
      "grid_row": null,
      "grid_template_areas": null,
      "grid_template_columns": null,
      "grid_template_rows": null,
      "height": null,
      "justify_content": null,
      "justify_items": null,
      "left": null,
      "margin": null,
      "max_height": null,
      "max_width": null,
      "min_height": null,
      "min_width": null,
      "object_fit": null,
      "object_position": null,
      "order": null,
      "overflow": null,
      "overflow_x": null,
      "overflow_y": null,
      "padding": null,
      "right": null,
      "top": null,
      "visibility": null,
      "width": null
     }
    },
    "90ee2dfb851843dfbd77dcbc349f8b17": {
     "model_module": "@jupyter-widgets/base",
     "model_module_version": "1.2.0",
     "model_name": "LayoutModel",
     "state": {
      "_model_module": "@jupyter-widgets/base",
      "_model_module_version": "1.2.0",
      "_model_name": "LayoutModel",
      "_view_count": null,
      "_view_module": "@jupyter-widgets/base",
      "_view_module_version": "1.2.0",
      "_view_name": "LayoutView",
      "align_content": null,
      "align_items": null,
      "align_self": null,
      "border": null,
      "bottom": null,
      "display": null,
      "flex": null,
      "flex_flow": null,
      "grid_area": null,
      "grid_auto_columns": null,
      "grid_auto_flow": null,
      "grid_auto_rows": null,
      "grid_column": null,
      "grid_gap": null,
      "grid_row": null,
      "grid_template_areas": null,
      "grid_template_columns": null,
      "grid_template_rows": null,
      "height": null,
      "justify_content": null,
      "justify_items": null,
      "left": null,
      "margin": null,
      "max_height": null,
      "max_width": null,
      "min_height": null,
      "min_width": null,
      "object_fit": null,
      "object_position": null,
      "order": null,
      "overflow": null,
      "overflow_x": null,
      "overflow_y": null,
      "padding": null,
      "right": null,
      "top": null,
      "visibility": null,
      "width": null
     }
    },
    "937018951ac54494b4781c4f876efc6c": {
     "model_module": "@jupyter-widgets/controls",
     "model_module_version": "1.5.0",
     "model_name": "HTMLModel",
     "state": {
      "_dom_classes": [],
      "_model_module": "@jupyter-widgets/controls",
      "_model_module_version": "1.5.0",
      "_model_name": "HTMLModel",
      "_view_count": null,
      "_view_module": "@jupyter-widgets/controls",
      "_view_module_version": "1.5.0",
      "_view_name": "HTMLView",
      "description": "",
      "description_tooltip": null,
      "layout": "IPY_MODEL_fdd6b0cced384e7a830c48823274f067",
      "placeholder": "​",
      "style": "IPY_MODEL_4db8151a5a7e4f20bdcd70c5e7dddf6a",
      "value": " 9913344/? [00:00&lt;00:00, 21664921.10it/s]"
     }
    },
    "95ae250721da46df894486d801e678f3": {
     "model_module": "@jupyter-widgets/controls",
     "model_module_version": "1.5.0",
     "model_name": "ProgressStyleModel",
     "state": {
      "_model_module": "@jupyter-widgets/controls",
      "_model_module_version": "1.5.0",
      "_model_name": "ProgressStyleModel",
      "_view_count": null,
      "_view_module": "@jupyter-widgets/base",
      "_view_module_version": "1.2.0",
      "_view_name": "StyleView",
      "bar_color": null,
      "description_width": ""
     }
    },
    "9ea00bbb3e284ca692a7ebe1ef1a2bcd": {
     "model_module": "@jupyter-widgets/base",
     "model_module_version": "1.2.0",
     "model_name": "LayoutModel",
     "state": {
      "_model_module": "@jupyter-widgets/base",
      "_model_module_version": "1.2.0",
      "_model_name": "LayoutModel",
      "_view_count": null,
      "_view_module": "@jupyter-widgets/base",
      "_view_module_version": "1.2.0",
      "_view_name": "LayoutView",
      "align_content": null,
      "align_items": null,
      "align_self": null,
      "border": null,
      "bottom": null,
      "display": null,
      "flex": null,
      "flex_flow": null,
      "grid_area": null,
      "grid_auto_columns": null,
      "grid_auto_flow": null,
      "grid_auto_rows": null,
      "grid_column": null,
      "grid_gap": null,
      "grid_row": null,
      "grid_template_areas": null,
      "grid_template_columns": null,
      "grid_template_rows": null,
      "height": null,
      "justify_content": null,
      "justify_items": null,
      "left": null,
      "margin": null,
      "max_height": null,
      "max_width": null,
      "min_height": null,
      "min_width": null,
      "object_fit": null,
      "object_position": null,
      "order": null,
      "overflow": null,
      "overflow_x": null,
      "overflow_y": null,
      "padding": null,
      "right": null,
      "top": null,
      "visibility": null,
      "width": null
     }
    },
    "9fc72ed548d844049e30ffb995bd491b": {
     "model_module": "@jupyter-widgets/controls",
     "model_module_version": "1.5.0",
     "model_name": "FloatProgressModel",
     "state": {
      "_dom_classes": [],
      "_model_module": "@jupyter-widgets/controls",
      "_model_module_version": "1.5.0",
      "_model_name": "FloatProgressModel",
      "_view_count": null,
      "_view_module": "@jupyter-widgets/controls",
      "_view_module_version": "1.5.0",
      "_view_name": "ProgressView",
      "bar_style": "success",
      "description": "",
      "description_tooltip": null,
      "layout": "IPY_MODEL_8a143d2583d44800b3d360a49457a006",
      "max": 4542,
      "min": 0,
      "orientation": "horizontal",
      "style": "IPY_MODEL_c478f8ecbf2d44e18e66ba631d97ecec",
      "value": 4542
     }
    },
    "ab02576f18a24c58a6ceb9af280a0eb4": {
     "model_module": "@jupyter-widgets/controls",
     "model_module_version": "1.5.0",
     "model_name": "DescriptionStyleModel",
     "state": {
      "_model_module": "@jupyter-widgets/controls",
      "_model_module_version": "1.5.0",
      "_model_name": "DescriptionStyleModel",
      "_view_count": null,
      "_view_module": "@jupyter-widgets/base",
      "_view_module_version": "1.2.0",
      "_view_name": "StyleView",
      "description_width": ""
     }
    },
    "b06dbc8b3b144459bf4dc58863508df1": {
     "model_module": "@jupyter-widgets/controls",
     "model_module_version": "1.5.0",
     "model_name": "HTMLModel",
     "state": {
      "_dom_classes": [],
      "_model_module": "@jupyter-widgets/controls",
      "_model_module_version": "1.5.0",
      "_model_name": "HTMLModel",
      "_view_count": null,
      "_view_module": "@jupyter-widgets/controls",
      "_view_module_version": "1.5.0",
      "_view_name": "HTMLView",
      "description": "",
      "description_tooltip": null,
      "layout": "IPY_MODEL_431e8c2d02214fb3b7953f216e898314",
      "placeholder": "​",
      "style": "IPY_MODEL_7febdd31b3374be5a509e3598ae567b4",
      "value": " 1649664/? [00:00&lt;00:00, 3880092.71it/s]"
     }
    },
    "b26ccd818fef4811aafe908b8ef83b6b": {
     "model_module": "@jupyter-widgets/controls",
     "model_module_version": "1.5.0",
     "model_name": "DescriptionStyleModel",
     "state": {
      "_model_module": "@jupyter-widgets/controls",
      "_model_module_version": "1.5.0",
      "_model_name": "DescriptionStyleModel",
      "_view_count": null,
      "_view_module": "@jupyter-widgets/base",
      "_view_module_version": "1.2.0",
      "_view_name": "StyleView",
      "description_width": ""
     }
    },
    "be575b8c588247769c7549c176df7b9d": {
     "model_module": "@jupyter-widgets/base",
     "model_module_version": "1.2.0",
     "model_name": "LayoutModel",
     "state": {
      "_model_module": "@jupyter-widgets/base",
      "_model_module_version": "1.2.0",
      "_model_name": "LayoutModel",
      "_view_count": null,
      "_view_module": "@jupyter-widgets/base",
      "_view_module_version": "1.2.0",
      "_view_name": "LayoutView",
      "align_content": null,
      "align_items": null,
      "align_self": null,
      "border": null,
      "bottom": null,
      "display": null,
      "flex": null,
      "flex_flow": null,
      "grid_area": null,
      "grid_auto_columns": null,
      "grid_auto_flow": null,
      "grid_auto_rows": null,
      "grid_column": null,
      "grid_gap": null,
      "grid_row": null,
      "grid_template_areas": null,
      "grid_template_columns": null,
      "grid_template_rows": null,
      "height": null,
      "justify_content": null,
      "justify_items": null,
      "left": null,
      "margin": null,
      "max_height": null,
      "max_width": null,
      "min_height": null,
      "min_width": null,
      "object_fit": null,
      "object_position": null,
      "order": null,
      "overflow": null,
      "overflow_x": null,
      "overflow_y": null,
      "padding": null,
      "right": null,
      "top": null,
      "visibility": null,
      "width": null
     }
    },
    "c0e681eb5b1e4284bd09bfa8ca8b05b7": {
     "model_module": "@jupyter-widgets/controls",
     "model_module_version": "1.5.0",
     "model_name": "ProgressStyleModel",
     "state": {
      "_model_module": "@jupyter-widgets/controls",
      "_model_module_version": "1.5.0",
      "_model_name": "ProgressStyleModel",
      "_view_count": null,
      "_view_module": "@jupyter-widgets/base",
      "_view_module_version": "1.2.0",
      "_view_name": "StyleView",
      "bar_color": null,
      "description_width": ""
     }
    },
    "c478f8ecbf2d44e18e66ba631d97ecec": {
     "model_module": "@jupyter-widgets/controls",
     "model_module_version": "1.5.0",
     "model_name": "ProgressStyleModel",
     "state": {
      "_model_module": "@jupyter-widgets/controls",
      "_model_module_version": "1.5.0",
      "_model_name": "ProgressStyleModel",
      "_view_count": null,
      "_view_module": "@jupyter-widgets/base",
      "_view_module_version": "1.2.0",
      "_view_name": "StyleView",
      "bar_color": null,
      "description_width": ""
     }
    },
    "c88b9e8f614b4d959566d673d75e6ee2": {
     "model_module": "@jupyter-widgets/controls",
     "model_module_version": "1.5.0",
     "model_name": "HTMLModel",
     "state": {
      "_dom_classes": [],
      "_model_module": "@jupyter-widgets/controls",
      "_model_module_version": "1.5.0",
      "_model_name": "HTMLModel",
      "_view_count": null,
      "_view_module": "@jupyter-widgets/controls",
      "_view_module_version": "1.5.0",
      "_view_name": "HTMLView",
      "description": "",
      "description_tooltip": null,
      "layout": "IPY_MODEL_d83f48413a674064b1d9d406d5cc42b8",
      "placeholder": "​",
      "style": "IPY_MODEL_6c00aad91a3049a387620979e166f3c3",
      "value": ""
     }
    },
    "ca2fd5a7f0a849eaba68a8a78083ad9a": {
     "model_module": "@jupyter-widgets/base",
     "model_module_version": "1.2.0",
     "model_name": "LayoutModel",
     "state": {
      "_model_module": "@jupyter-widgets/base",
      "_model_module_version": "1.2.0",
      "_model_name": "LayoutModel",
      "_view_count": null,
      "_view_module": "@jupyter-widgets/base",
      "_view_module_version": "1.2.0",
      "_view_name": "LayoutView",
      "align_content": null,
      "align_items": null,
      "align_self": null,
      "border": null,
      "bottom": null,
      "display": null,
      "flex": null,
      "flex_flow": null,
      "grid_area": null,
      "grid_auto_columns": null,
      "grid_auto_flow": null,
      "grid_auto_rows": null,
      "grid_column": null,
      "grid_gap": null,
      "grid_row": null,
      "grid_template_areas": null,
      "grid_template_columns": null,
      "grid_template_rows": null,
      "height": null,
      "justify_content": null,
      "justify_items": null,
      "left": null,
      "margin": null,
      "max_height": null,
      "max_width": null,
      "min_height": null,
      "min_width": null,
      "object_fit": null,
      "object_position": null,
      "order": null,
      "overflow": null,
      "overflow_x": null,
      "overflow_y": null,
      "padding": null,
      "right": null,
      "top": null,
      "visibility": null,
      "width": null
     }
    },
    "d08f2f7d361144cca72bc33c8094a451": {
     "model_module": "@jupyter-widgets/base",
     "model_module_version": "1.2.0",
     "model_name": "LayoutModel",
     "state": {
      "_model_module": "@jupyter-widgets/base",
      "_model_module_version": "1.2.0",
      "_model_name": "LayoutModel",
      "_view_count": null,
      "_view_module": "@jupyter-widgets/base",
      "_view_module_version": "1.2.0",
      "_view_name": "LayoutView",
      "align_content": null,
      "align_items": null,
      "align_self": null,
      "border": null,
      "bottom": null,
      "display": null,
      "flex": null,
      "flex_flow": null,
      "grid_area": null,
      "grid_auto_columns": null,
      "grid_auto_flow": null,
      "grid_auto_rows": null,
      "grid_column": null,
      "grid_gap": null,
      "grid_row": null,
      "grid_template_areas": null,
      "grid_template_columns": null,
      "grid_template_rows": null,
      "height": null,
      "justify_content": null,
      "justify_items": null,
      "left": null,
      "margin": null,
      "max_height": null,
      "max_width": null,
      "min_height": null,
      "min_width": null,
      "object_fit": null,
      "object_position": null,
      "order": null,
      "overflow": null,
      "overflow_x": null,
      "overflow_y": null,
      "padding": null,
      "right": null,
      "top": null,
      "visibility": null,
      "width": null
     }
    },
    "d6260a63b36f4eb2a8dfcc346523ecd5": {
     "model_module": "@jupyter-widgets/controls",
     "model_module_version": "1.5.0",
     "model_name": "FloatProgressModel",
     "state": {
      "_dom_classes": [],
      "_model_module": "@jupyter-widgets/controls",
      "_model_module_version": "1.5.0",
      "_model_name": "FloatProgressModel",
      "_view_count": null,
      "_view_module": "@jupyter-widgets/controls",
      "_view_module_version": "1.5.0",
      "_view_name": "ProgressView",
      "bar_style": "success",
      "description": "",
      "description_tooltip": null,
      "layout": "IPY_MODEL_be575b8c588247769c7549c176df7b9d",
      "max": 9912422,
      "min": 0,
      "orientation": "horizontal",
      "style": "IPY_MODEL_95ae250721da46df894486d801e678f3",
      "value": 9912422
     }
    },
    "d83f48413a674064b1d9d406d5cc42b8": {
     "model_module": "@jupyter-widgets/base",
     "model_module_version": "1.2.0",
     "model_name": "LayoutModel",
     "state": {
      "_model_module": "@jupyter-widgets/base",
      "_model_module_version": "1.2.0",
      "_model_name": "LayoutModel",
      "_view_count": null,
      "_view_module": "@jupyter-widgets/base",
      "_view_module_version": "1.2.0",
      "_view_name": "LayoutView",
      "align_content": null,
      "align_items": null,
      "align_self": null,
      "border": null,
      "bottom": null,
      "display": null,
      "flex": null,
      "flex_flow": null,
      "grid_area": null,
      "grid_auto_columns": null,
      "grid_auto_flow": null,
      "grid_auto_rows": null,
      "grid_column": null,
      "grid_gap": null,
      "grid_row": null,
      "grid_template_areas": null,
      "grid_template_columns": null,
      "grid_template_rows": null,
      "height": null,
      "justify_content": null,
      "justify_items": null,
      "left": null,
      "margin": null,
      "max_height": null,
      "max_width": null,
      "min_height": null,
      "min_width": null,
      "object_fit": null,
      "object_position": null,
      "order": null,
      "overflow": null,
      "overflow_x": null,
      "overflow_y": null,
      "padding": null,
      "right": null,
      "top": null,
      "visibility": null,
      "width": null
     }
    },
    "e53e00e6ed7442e5985c6e447f736a3a": {
     "model_module": "@jupyter-widgets/controls",
     "model_module_version": "1.5.0",
     "model_name": "HTMLModel",
     "state": {
      "_dom_classes": [],
      "_model_module": "@jupyter-widgets/controls",
      "_model_module_version": "1.5.0",
      "_model_name": "HTMLModel",
      "_view_count": null,
      "_view_module": "@jupyter-widgets/controls",
      "_view_module_version": "1.5.0",
      "_view_name": "HTMLView",
      "description": "",
      "description_tooltip": null,
      "layout": "IPY_MODEL_17aaca915a124161b77308b74d09d085",
      "placeholder": "​",
      "style": "IPY_MODEL_33fb3d53584841f98f6ca8022d54a186",
      "value": ""
     }
    },
    "eb3edfd68dc648fab1f8223a9c15e779": {
     "model_module": "@jupyter-widgets/controls",
     "model_module_version": "1.5.0",
     "model_name": "FloatProgressModel",
     "state": {
      "_dom_classes": [],
      "_model_module": "@jupyter-widgets/controls",
      "_model_module_version": "1.5.0",
      "_model_name": "FloatProgressModel",
      "_view_count": null,
      "_view_module": "@jupyter-widgets/controls",
      "_view_module_version": "1.5.0",
      "_view_name": "ProgressView",
      "bar_style": "success",
      "description": "",
      "description_tooltip": null,
      "layout": "IPY_MODEL_3a37e0fe57a348359703b01f38f62d61",
      "max": 28881,
      "min": 0,
      "orientation": "horizontal",
      "style": "IPY_MODEL_eb919294e6034a098251781fdaebd5c4",
      "value": 28881
     }
    },
    "eb919294e6034a098251781fdaebd5c4": {
     "model_module": "@jupyter-widgets/controls",
     "model_module_version": "1.5.0",
     "model_name": "ProgressStyleModel",
     "state": {
      "_model_module": "@jupyter-widgets/controls",
      "_model_module_version": "1.5.0",
      "_model_name": "ProgressStyleModel",
      "_view_count": null,
      "_view_module": "@jupyter-widgets/base",
      "_view_module_version": "1.2.0",
      "_view_name": "StyleView",
      "bar_color": null,
      "description_width": ""
     }
    },
    "f27fedf7f744406b8c9ded371ef32953": {
     "model_module": "@jupyter-widgets/base",
     "model_module_version": "1.2.0",
     "model_name": "LayoutModel",
     "state": {
      "_model_module": "@jupyter-widgets/base",
      "_model_module_version": "1.2.0",
      "_model_name": "LayoutModel",
      "_view_count": null,
      "_view_module": "@jupyter-widgets/base",
      "_view_module_version": "1.2.0",
      "_view_name": "LayoutView",
      "align_content": null,
      "align_items": null,
      "align_self": null,
      "border": null,
      "bottom": null,
      "display": null,
      "flex": null,
      "flex_flow": null,
      "grid_area": null,
      "grid_auto_columns": null,
      "grid_auto_flow": null,
      "grid_auto_rows": null,
      "grid_column": null,
      "grid_gap": null,
      "grid_row": null,
      "grid_template_areas": null,
      "grid_template_columns": null,
      "grid_template_rows": null,
      "height": null,
      "justify_content": null,
      "justify_items": null,
      "left": null,
      "margin": null,
      "max_height": null,
      "max_width": null,
      "min_height": null,
      "min_width": null,
      "object_fit": null,
      "object_position": null,
      "order": null,
      "overflow": null,
      "overflow_x": null,
      "overflow_y": null,
      "padding": null,
      "right": null,
      "top": null,
      "visibility": null,
      "width": null
     }
    },
    "fa37387a61824af0aeac0c8213c04cbc": {
     "model_module": "@jupyter-widgets/controls",
     "model_module_version": "1.5.0",
     "model_name": "HTMLModel",
     "state": {
      "_dom_classes": [],
      "_model_module": "@jupyter-widgets/controls",
      "_model_module_version": "1.5.0",
      "_model_name": "HTMLModel",
      "_view_count": null,
      "_view_module": "@jupyter-widgets/controls",
      "_view_module_version": "1.5.0",
      "_view_name": "HTMLView",
      "description": "",
      "description_tooltip": null,
      "layout": "IPY_MODEL_3968d67837624324970e056242df1f5c",
      "placeholder": "​",
      "style": "IPY_MODEL_0f340db27a8c41f5849bdd03e34f28a6",
      "value": " 5120/? [00:00&lt;00:00, 133349.29it/s]"
     }
    },
    "fd9d4f0c8dca4bb682960c0fd74011a3": {
     "model_module": "@jupyter-widgets/base",
     "model_module_version": "1.2.0",
     "model_name": "LayoutModel",
     "state": {
      "_model_module": "@jupyter-widgets/base",
      "_model_module_version": "1.2.0",
      "_model_name": "LayoutModel",
      "_view_count": null,
      "_view_module": "@jupyter-widgets/base",
      "_view_module_version": "1.2.0",
      "_view_name": "LayoutView",
      "align_content": null,
      "align_items": null,
      "align_self": null,
      "border": null,
      "bottom": null,
      "display": null,
      "flex": null,
      "flex_flow": null,
      "grid_area": null,
      "grid_auto_columns": null,
      "grid_auto_flow": null,
      "grid_auto_rows": null,
      "grid_column": null,
      "grid_gap": null,
      "grid_row": null,
      "grid_template_areas": null,
      "grid_template_columns": null,
      "grid_template_rows": null,
      "height": null,
      "justify_content": null,
      "justify_items": null,
      "left": null,
      "margin": null,
      "max_height": null,
      "max_width": null,
      "min_height": null,
      "min_width": null,
      "object_fit": null,
      "object_position": null,
      "order": null,
      "overflow": null,
      "overflow_x": null,
      "overflow_y": null,
      "padding": null,
      "right": null,
      "top": null,
      "visibility": null,
      "width": null
     }
    },
    "fdd6b0cced384e7a830c48823274f067": {
     "model_module": "@jupyter-widgets/base",
     "model_module_version": "1.2.0",
     "model_name": "LayoutModel",
     "state": {
      "_model_module": "@jupyter-widgets/base",
      "_model_module_version": "1.2.0",
      "_model_name": "LayoutModel",
      "_view_count": null,
      "_view_module": "@jupyter-widgets/base",
      "_view_module_version": "1.2.0",
      "_view_name": "LayoutView",
      "align_content": null,
      "align_items": null,
      "align_self": null,
      "border": null,
      "bottom": null,
      "display": null,
      "flex": null,
      "flex_flow": null,
      "grid_area": null,
      "grid_auto_columns": null,
      "grid_auto_flow": null,
      "grid_auto_rows": null,
      "grid_column": null,
      "grid_gap": null,
      "grid_row": null,
      "grid_template_areas": null,
      "grid_template_columns": null,
      "grid_template_rows": null,
      "height": null,
      "justify_content": null,
      "justify_items": null,
      "left": null,
      "margin": null,
      "max_height": null,
      "max_width": null,
      "min_height": null,
      "min_width": null,
      "object_fit": null,
      "object_position": null,
      "order": null,
      "overflow": null,
      "overflow_x": null,
      "overflow_y": null,
      "padding": null,
      "right": null,
      "top": null,
      "visibility": null,
      "width": null
     }
    }
   }
  }
 },
 "nbformat": 4,
 "nbformat_minor": 0
}