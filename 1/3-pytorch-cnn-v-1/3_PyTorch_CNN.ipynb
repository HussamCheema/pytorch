{
 "cells": [
  {
   "cell_type": "code",
   "execution_count": 7,
   "metadata": {
    "id": "fyRSzKh-8CTK"
   },
   "outputs": [],
   "source": [
    "import numpy\n",
    "import torch\n",
    "import torch.nn as nn\n",
    "import torch.optim as optim\n",
    "import torch.nn.functional as F # activation functions\n",
    "from torch.utils.data import DataLoader\n",
    "import torchvision.datasets as datasets\n",
    "import torchvision.transforms as transforms\n",
    "from tqdm import tqdm"
   ]
  },
  {
   "cell_type": "markdown",
   "metadata": {
    "id": "sulMikW99Vzu"
   },
   "source": [
    "### Create Fully Connected Neural Network"
   ]
  },
  {
   "cell_type": "code",
   "execution_count": 8,
   "metadata": {
    "id": "x6L2edQu8XQN"
   },
   "outputs": [],
   "source": [
    "class NN(nn.Module):\n",
    "  def __init__(self, input_size, num_classes): # input_size=28*28=784\n",
    "    super(NN, self).__init__()\n",
    "    self.fc1 = nn.Linear(input_size, 50) # 50 hidden layer nodes\n",
    "    self.fc2 = nn.Linear(50, num_classes)\n",
    "\n",
    "  def forward(self, x):\n",
    "    x = F.relu(self.fc1(x))\n",
    "    x = self.fc2(x)\n",
    "    return x"
   ]
  },
  {
   "cell_type": "markdown",
   "metadata": {
    "id": "2hAFgbBu881o"
   },
   "source": [
    "### Create simple CNN"
   ]
  },
  {
   "cell_type": "markdown",
   "metadata": {
    "id": "r-SGg0bt_u68"
   },
   "source": [
    "![image.png](data:image/png;base64,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)"
   ]
  },
  {
   "cell_type": "code",
   "execution_count": 9,
   "metadata": {
    "id": "RuHZ9z4S9c-8"
   },
   "outputs": [],
   "source": [
    "class CNN(nn.Module):\n",
    "  def __init__(self, in_channels=1, num_classes=10):\n",
    "    super(CNN, self).__init__()\n",
    "    self.con1 = nn.Conv2d(in_channels=in_channels, \n",
    "                          out_channels=8, # cnn features \n",
    "                          kernel_size=(3,3), \n",
    "                          stride=(1,1), \n",
    "                          padding=(1,1))\n",
    "    self.pool = nn.MaxPool2d(kernel_size=(2,2), stride=(2,2))\n",
    "    self.con2 = nn.Conv2d(in_channels=8, \n",
    "                          out_channels=16, # cnn features \n",
    "                          kernel_size=(3,3), \n",
    "                          stride=(1,1), \n",
    "                          padding=(1,1))\n",
    "    self.fc1 = nn.Linear(16*7*7, num_classes) # 28 will be divided (halfed) twice becz we'll use pooling twice\n",
    "\n",
    "  def forward(self, x):\n",
    "    x = F.relu(self.con1(x))\n",
    "    x = self.pool(x)\n",
    "    x = F.relu(self.con2(x))\n",
    "    x = self.pool(x)\n",
    "    x = x.reshape(x.shape[0],-1)\n",
    "    x = self.fc1(x)\n",
    "\n",
    "    return x\n"
   ]
  },
  {
   "cell_type": "markdown",
   "metadata": {
    "id": "Yc91g97g9Be3"
   },
   "source": [
    "### Initialize Device"
   ]
  },
  {
   "cell_type": "code",
   "execution_count": 10,
   "metadata": {
    "id": "HWhy7BVd8l46"
   },
   "outputs": [],
   "source": [
    "device = torch.device(\"cuda\" if torch.cuda.is_available() else \"cpu\")"
   ]
  },
  {
   "cell_type": "markdown",
   "metadata": {
    "id": "kT2__bfY9EHM"
   },
   "source": [
    "### Initialize Hyperparameters"
   ]
  },
  {
   "cell_type": "code",
   "execution_count": 16,
   "metadata": {
    "id": "OqOTsF2O8pka"
   },
   "outputs": [],
   "source": [
    "in_channels = 1\n",
    "num_classes = 10\n",
    "learning_rate = 0.001\n",
    "batch_size = 64\n",
    "num_epochs = 5"
   ]
  },
  {
   "cell_type": "markdown",
   "metadata": {
    "id": "U6j4qJIJ9HdV"
   },
   "source": [
    "### Load Data with DataLoader"
   ]
  },
  {
   "cell_type": "code",
   "execution_count": 12,
   "metadata": {
    "colab": {
     "base_uri": "https://localhost:8080/",
     "height": 443,
     "referenced_widgets": [
      "ebc043f5816044c5bc02bfa58e12b528",
      "e9578576171e40d58588caed5e26dc1d",
      "53b5c5c24f594b2fa7c6ef1bf3a3893d",
      "fcda35d4f42f4192a169414b672e29bc",
      "6b3505131c66447f959ca1fa2d61f4ce",
      "3c8e72c6ada1476fbbb01a994da34d1b",
      "6f129b16fad44ff2bf0f969ac9d84237",
      "0f29d2041f694908a88f62ea0488ebdc",
      "fa3a3e4843644735b11e330b9ae904fb",
      "d3c2a037e11840759726e54847af8352",
      "cf4bdc9b850b49048726478055f2e6bb",
      "b201ac8668634905bfe271778a12b2e0",
      "10a6df4b13594213bd27269a26b3d3c1",
      "5083bc1d11fa4457817d7a37c572c69d",
      "2f925e8b2dc34525a18f2e3bc8dd83ff",
      "27a57c9db4404152aae70a0f7ee7272b",
      "7d836e008aab467f8aa000ab4ad5cc4d",
      "0599ad40ab314401bd870b63f0bd6e0b",
      "3df2692164ac4461933bd23eb4a66269",
      "d38ab7de9f6c4d98b14d41263cf35619",
      "d5b8e404a4074c8ea5979301372a0f32",
      "e39758f96da94323ac5496d836d5efe8",
      "0887ad5dfc9f4215a593658119e6a62a",
      "520c0b0ee11344c09ef58fec535be6f0",
      "0d2744558aeb40cca98ee0ee15df04f1",
      "56c6452bbdfd4994865296a3e44b911a",
      "cc22de6ad2f14471a60918737ab04928",
      "5f5912484b98499b8de070dd4d1f0394",
      "0aa23c6aaff6441e8789c2579d0a8eb2",
      "39ebe69c920f4ffa937d1615f46e046d",
      "f51e4a777c0d4c51baca244795cf1b8e",
      "e67a06a810224cd4aba29a8fae1d3ca0",
      "4b34ce6c45e542259369098f9cd5b1a3",
      "7847c033ceee4e9d8f9a6847d9258289",
      "eccf5d1bfa374daa80ce54ceb1f19b38",
      "9de8d54d8801481aaadb0b81ef999dd5",
      "eeb9cc4dc817469597e04a3c800d0235",
      "a4f5de1eb4044c64ad00d65d41b1219b",
      "b4fd3c8152d94637866f9baa4de513df",
      "3b812c2e20de43b094b80afca08b59a4",
      "1e471ec82fcf481a910fe4eb1d623b90",
      "34c1f04caa8f4a2aaf5a0e0d38f45646",
      "02c57e5eff3648ddaf8aa9f44591b041",
      "dd191a2157bc40bd8492959b56cf424d"
     ]
    },
    "id": "Vp66nf3y8rC5",
    "outputId": "c08f6da3-a838-48fc-8af4-d8bfd0958afb"
   },
   "outputs": [
    {
     "name": "stdout",
     "output_type": "stream",
     "text": [
      "Downloading http://yann.lecun.com/exdb/mnist/train-images-idx3-ubyte.gz\n",
      "Downloading http://yann.lecun.com/exdb/mnist/train-images-idx3-ubyte.gz to dataset/MNIST/raw/train-images-idx3-ubyte.gz\n"
     ]
    },
    {
     "data": {
      "application/vnd.jupyter.widget-view+json": {
       "model_id": "ebc043f5816044c5bc02bfa58e12b528",
       "version_major": 2,
       "version_minor": 0
      },
      "text/plain": [
       "  0%|          | 0/9912422 [00:00<?, ?it/s]"
      ]
     },
     "metadata": {},
     "output_type": "display_data"
    },
    {
     "name": "stdout",
     "output_type": "stream",
     "text": [
      "Extracting dataset/MNIST/raw/train-images-idx3-ubyte.gz to dataset/MNIST/raw\n",
      "\n",
      "Downloading http://yann.lecun.com/exdb/mnist/train-labels-idx1-ubyte.gz\n",
      "Downloading http://yann.lecun.com/exdb/mnist/train-labels-idx1-ubyte.gz to dataset/MNIST/raw/train-labels-idx1-ubyte.gz\n"
     ]
    },
    {
     "data": {
      "application/vnd.jupyter.widget-view+json": {
       "model_id": "b201ac8668634905bfe271778a12b2e0",
       "version_major": 2,
       "version_minor": 0
      },
      "text/plain": [
       "  0%|          | 0/28881 [00:00<?, ?it/s]"
      ]
     },
     "metadata": {},
     "output_type": "display_data"
    },
    {
     "name": "stdout",
     "output_type": "stream",
     "text": [
      "Extracting dataset/MNIST/raw/train-labels-idx1-ubyte.gz to dataset/MNIST/raw\n",
      "\n",
      "Downloading http://yann.lecun.com/exdb/mnist/t10k-images-idx3-ubyte.gz\n",
      "Downloading http://yann.lecun.com/exdb/mnist/t10k-images-idx3-ubyte.gz to dataset/MNIST/raw/t10k-images-idx3-ubyte.gz\n"
     ]
    },
    {
     "data": {
      "application/vnd.jupyter.widget-view+json": {
       "model_id": "0887ad5dfc9f4215a593658119e6a62a",
       "version_major": 2,
       "version_minor": 0
      },
      "text/plain": [
       "  0%|          | 0/1648877 [00:00<?, ?it/s]"
      ]
     },
     "metadata": {},
     "output_type": "display_data"
    },
    {
     "name": "stdout",
     "output_type": "stream",
     "text": [
      "Extracting dataset/MNIST/raw/t10k-images-idx3-ubyte.gz to dataset/MNIST/raw\n",
      "\n",
      "Downloading http://yann.lecun.com/exdb/mnist/t10k-labels-idx1-ubyte.gz\n",
      "Downloading http://yann.lecun.com/exdb/mnist/t10k-labels-idx1-ubyte.gz to dataset/MNIST/raw/t10k-labels-idx1-ubyte.gz\n"
     ]
    },
    {
     "data": {
      "application/vnd.jupyter.widget-view+json": {
       "model_id": "7847c033ceee4e9d8f9a6847d9258289",
       "version_major": 2,
       "version_minor": 0
      },
      "text/plain": [
       "  0%|          | 0/4542 [00:00<?, ?it/s]"
      ]
     },
     "metadata": {},
     "output_type": "display_data"
    },
    {
     "name": "stdout",
     "output_type": "stream",
     "text": [
      "Extracting dataset/MNIST/raw/t10k-labels-idx1-ubyte.gz to dataset/MNIST/raw\n",
      "\n"
     ]
    }
   ],
   "source": [
    "train_dataset = datasets.MNIST(root='dataset/', \n",
    "                               train=True, \n",
    "                               transform=transforms.ToTensor(), \n",
    "                               download=True)\n",
    "\n",
    "train_loader = DataLoader(dataset=train_dataset, batch_size=batch_size, shuffle=True)\n",
    "\n",
    "test_dataset = datasets.MNIST(root='dataset/', \n",
    "                               train=False, \n",
    "                               transform=transforms.ToTensor(), \n",
    "                               download=True)\n",
    "\n",
    "test_loader = DataLoader(dataset=test_dataset, batch_size=batch_size, shuffle=True)"
   ]
  },
  {
   "cell_type": "markdown",
   "metadata": {
    "id": "9P5IkRA29MpR"
   },
   "source": [
    "### Initialize the model"
   ]
  },
  {
   "cell_type": "code",
   "execution_count": 13,
   "metadata": {
    "id": "04MQtzNT8tQx"
   },
   "outputs": [],
   "source": [
    "model = CNN(in_channels=in_channels, num_classes=num_classes).to(device)"
   ]
  },
  {
   "cell_type": "markdown",
   "metadata": {
    "id": "yd2h78y99Os6"
   },
   "source": [
    "### Loss & Optimizer"
   ]
  },
  {
   "cell_type": "code",
   "execution_count": 14,
   "metadata": {
    "id": "UDYc_hKM8ulM"
   },
   "outputs": [],
   "source": [
    "criterion = nn.CrossEntropyLoss()\n",
    "optimizer = optim.Adam(model.parameters(), lr=learning_rate) # Remember to give model parameters here"
   ]
  },
  {
   "cell_type": "markdown",
   "metadata": {
    "id": "u6B2KOVA9RZK"
   },
   "source": [
    "### Training the Model"
   ]
  },
  {
   "cell_type": "code",
   "execution_count": 17,
   "metadata": {
    "colab": {
     "base_uri": "https://localhost:8080/"
    },
    "id": "OQqYJzBb8v3N",
    "outputId": "2683a5ba-05ce-4744-c80c-22f7a12470f0"
   },
   "outputs": [
    {
     "name": "stderr",
     "output_type": "stream",
     "text": [
      " 20%|██        | 1/5 [00:18<01:12, 18.25s/it]"
     ]
    },
    {
     "name": "stdout",
     "output_type": "stream",
     "text": [
      "Epoch 1 is done\n"
     ]
    },
    {
     "name": "stderr",
     "output_type": "stream",
     "text": [
      "\r",
      " 40%|████      | 2/5 [00:36<00:54, 18.27s/it]"
     ]
    },
    {
     "name": "stdout",
     "output_type": "stream",
     "text": [
      "Epoch 2 is done\n"
     ]
    },
    {
     "name": "stderr",
     "output_type": "stream",
     "text": [
      "\r",
      " 60%|██████    | 3/5 [00:54<00:36, 18.29s/it]"
     ]
    },
    {
     "name": "stdout",
     "output_type": "stream",
     "text": [
      "Epoch 3 is done\n"
     ]
    },
    {
     "name": "stderr",
     "output_type": "stream",
     "text": [
      "\r",
      " 80%|████████  | 4/5 [01:13<00:18, 18.29s/it]"
     ]
    },
    {
     "name": "stdout",
     "output_type": "stream",
     "text": [
      "Epoch 4 is done\n"
     ]
    },
    {
     "name": "stderr",
     "output_type": "stream",
     "text": [
      "100%|██████████| 5/5 [01:31<00:00, 18.29s/it]"
     ]
    },
    {
     "name": "stdout",
     "output_type": "stream",
     "text": [
      "Epoch 5 is done\n"
     ]
    },
    {
     "name": "stderr",
     "output_type": "stream",
     "text": [
      "\n"
     ]
    }
   ],
   "source": [
    "for epoch in tqdm(range(num_epochs)):\n",
    "  for ind, (data, target) in enumerate(train_loader):\n",
    "    data = data.to(device=device)\n",
    "    target = target.to(device=device)\n",
    "    \n",
    "    # forward\n",
    "    scores = model(data)\n",
    "    loss = criterion(scores, target)\n",
    "\n",
    "    # backward\n",
    "    optimizer.zero_grad() # set all the gradients to 0 for each batch\n",
    "    loss.backward()\n",
    "\n",
    "    # gradient descent or adam step - updates the parameters\n",
    "    optimizer.step()\n",
    "\n",
    "  print(f\"Epoch {epoch+1} is done\")"
   ]
  },
  {
   "cell_type": "markdown",
   "metadata": {
    "id": "NrjqeAEB9TSm"
   },
   "source": [
    "### Testing the Model"
   ]
  },
  {
   "cell_type": "code",
   "execution_count": 18,
   "metadata": {
    "id": "dNvljMn38xYu"
   },
   "outputs": [],
   "source": [
    "def check_accuracy(loader, model):\n",
    "  num_correct = 0\n",
    "  num_samples = 0\n",
    "  model.eval() # Let the model know that this is evaluation mode\n",
    "\n",
    "  with torch.no_grad():\n",
    "    for x, y in loader:\n",
    "      x = x.to(device=device)\n",
    "      y = y.to(device=device)\n",
    "\n",
    "      scores = model(x)\n",
    "      \n",
    "      # Which class has the max value\n",
    "      _, pred = scores.max(dim=1)\n",
    "      num_correct += (pred == y).sum()\n",
    "      num_samples += pred.size(0) # 64\n",
    "\n",
    "    print(f\"Got {num_correct} / {num_samples} with accuracy {(float(num_correct)/float(num_samples)*100):.2f}%\")"
   ]
  },
  {
   "cell_type": "code",
   "execution_count": 19,
   "metadata": {
    "colab": {
     "base_uri": "https://localhost:8080/"
    },
    "id": "dFKWYdgo8z3t",
    "outputId": "57de0a79-d1ec-41ed-99fe-99163a0bfc97"
   },
   "outputs": [
    {
     "name": "stdout",
     "output_type": "stream",
     "text": [
      "Got 9849 / 10000 with accuracy 98.49%\n"
     ]
    }
   ],
   "source": [
    "check_accuracy(test_loader, model)"
   ]
  },
  {
   "cell_type": "code",
   "execution_count": null,
   "metadata": {
    "id": "Hqia-MuxEIxe"
   },
   "outputs": [],
   "source": []
  }
 ],
 "metadata": {
  "accelerator": "GPU",
  "colab": {
   "collapsed_sections": [],
   "name": "3 - PyTorch - CNN.ipynb",
   "provenance": []
  },
  "language_info": {
   "name": "python"
  },
  "widgets": {
   "application/vnd.jupyter.widget-state+json": {
    "02c57e5eff3648ddaf8aa9f44591b041": {
     "model_module": "@jupyter-widgets/controls",
     "model_module_version": "1.5.0",
     "model_name": "DescriptionStyleModel",
     "state": {
      "_model_module": "@jupyter-widgets/controls",
      "_model_module_version": "1.5.0",
      "_model_name": "DescriptionStyleModel",
      "_view_count": null,
      "_view_module": "@jupyter-widgets/base",
      "_view_module_version": "1.2.0",
      "_view_name": "StyleView",
      "description_width": ""
     }
    },
    "0599ad40ab314401bd870b63f0bd6e0b": {
     "model_module": "@jupyter-widgets/base",
     "model_module_version": "1.2.0",
     "model_name": "LayoutModel",
     "state": {
      "_model_module": "@jupyter-widgets/base",
      "_model_module_version": "1.2.0",
      "_model_name": "LayoutModel",
      "_view_count": null,
      "_view_module": "@jupyter-widgets/base",
      "_view_module_version": "1.2.0",
      "_view_name": "LayoutView",
      "align_content": null,
      "align_items": null,
      "align_self": null,
      "border": null,
      "bottom": null,
      "display": null,
      "flex": null,
      "flex_flow": null,
      "grid_area": null,
      "grid_auto_columns": null,
      "grid_auto_flow": null,
      "grid_auto_rows": null,
      "grid_column": null,
      "grid_gap": null,
      "grid_row": null,
      "grid_template_areas": null,
      "grid_template_columns": null,
      "grid_template_rows": null,
      "height": null,
      "justify_content": null,
      "justify_items": null,
      "left": null,
      "margin": null,
      "max_height": null,
      "max_width": null,
      "min_height": null,
      "min_width": null,
      "object_fit": null,
      "object_position": null,
      "order": null,
      "overflow": null,
      "overflow_x": null,
      "overflow_y": null,
      "padding": null,
      "right": null,
      "top": null,
      "visibility": null,
      "width": null
     }
    },
    "0887ad5dfc9f4215a593658119e6a62a": {
     "model_module": "@jupyter-widgets/controls",
     "model_module_version": "1.5.0",
     "model_name": "HBoxModel",
     "state": {
      "_dom_classes": [],
      "_model_module": "@jupyter-widgets/controls",
      "_model_module_version": "1.5.0",
      "_model_name": "HBoxModel",
      "_view_count": null,
      "_view_module": "@jupyter-widgets/controls",
      "_view_module_version": "1.5.0",
      "_view_name": "HBoxView",
      "box_style": "",
      "children": [
       "IPY_MODEL_0d2744558aeb40cca98ee0ee15df04f1",
       "IPY_MODEL_56c6452bbdfd4994865296a3e44b911a",
       "IPY_MODEL_cc22de6ad2f14471a60918737ab04928"
      ],
      "layout": "IPY_MODEL_520c0b0ee11344c09ef58fec535be6f0"
     }
    },
    "0aa23c6aaff6441e8789c2579d0a8eb2": {
     "model_module": "@jupyter-widgets/base",
     "model_module_version": "1.2.0",
     "model_name": "LayoutModel",
     "state": {
      "_model_module": "@jupyter-widgets/base",
      "_model_module_version": "1.2.0",
      "_model_name": "LayoutModel",
      "_view_count": null,
      "_view_module": "@jupyter-widgets/base",
      "_view_module_version": "1.2.0",
      "_view_name": "LayoutView",
      "align_content": null,
      "align_items": null,
      "align_self": null,
      "border": null,
      "bottom": null,
      "display": null,
      "flex": null,
      "flex_flow": null,
      "grid_area": null,
      "grid_auto_columns": null,
      "grid_auto_flow": null,
      "grid_auto_rows": null,
      "grid_column": null,
      "grid_gap": null,
      "grid_row": null,
      "grid_template_areas": null,
      "grid_template_columns": null,
      "grid_template_rows": null,
      "height": null,
      "justify_content": null,
      "justify_items": null,
      "left": null,
      "margin": null,
      "max_height": null,
      "max_width": null,
      "min_height": null,
      "min_width": null,
      "object_fit": null,
      "object_position": null,
      "order": null,
      "overflow": null,
      "overflow_x": null,
      "overflow_y": null,
      "padding": null,
      "right": null,
      "top": null,
      "visibility": null,
      "width": null
     }
    },
    "0d2744558aeb40cca98ee0ee15df04f1": {
     "model_module": "@jupyter-widgets/controls",
     "model_module_version": "1.5.0",
     "model_name": "HTMLModel",
     "state": {
      "_dom_classes": [],
      "_model_module": "@jupyter-widgets/controls",
      "_model_module_version": "1.5.0",
      "_model_name": "HTMLModel",
      "_view_count": null,
      "_view_module": "@jupyter-widgets/controls",
      "_view_module_version": "1.5.0",
      "_view_name": "HTMLView",
      "description": "",
      "description_tooltip": null,
      "layout": "IPY_MODEL_0aa23c6aaff6441e8789c2579d0a8eb2",
      "placeholder": "​",
      "style": "IPY_MODEL_5f5912484b98499b8de070dd4d1f0394",
      "value": ""
     }
    },
    "0f29d2041f694908a88f62ea0488ebdc": {
     "model_module": "@jupyter-widgets/controls",
     "model_module_version": "1.5.0",
     "model_name": "ProgressStyleModel",
     "state": {
      "_model_module": "@jupyter-widgets/controls",
      "_model_module_version": "1.5.0",
      "_model_name": "ProgressStyleModel",
      "_view_count": null,
      "_view_module": "@jupyter-widgets/base",
      "_view_module_version": "1.2.0",
      "_view_name": "StyleView",
      "bar_color": null,
      "description_width": ""
     }
    },
    "10a6df4b13594213bd27269a26b3d3c1": {
     "model_module": "@jupyter-widgets/base",
     "model_module_version": "1.2.0",
     "model_name": "LayoutModel",
     "state": {
      "_model_module": "@jupyter-widgets/base",
      "_model_module_version": "1.2.0",
      "_model_name": "LayoutModel",
      "_view_count": null,
      "_view_module": "@jupyter-widgets/base",
      "_view_module_version": "1.2.0",
      "_view_name": "LayoutView",
      "align_content": null,
      "align_items": null,
      "align_self": null,
      "border": null,
      "bottom": null,
      "display": null,
      "flex": null,
      "flex_flow": null,
      "grid_area": null,
      "grid_auto_columns": null,
      "grid_auto_flow": null,
      "grid_auto_rows": null,
      "grid_column": null,
      "grid_gap": null,
      "grid_row": null,
      "grid_template_areas": null,
      "grid_template_columns": null,
      "grid_template_rows": null,
      "height": null,
      "justify_content": null,
      "justify_items": null,
      "left": null,
      "margin": null,
      "max_height": null,
      "max_width": null,
      "min_height": null,
      "min_width": null,
      "object_fit": null,
      "object_position": null,
      "order": null,
      "overflow": null,
      "overflow_x": null,
      "overflow_y": null,
      "padding": null,
      "right": null,
      "top": null,
      "visibility": null,
      "width": null
     }
    },
    "1e471ec82fcf481a910fe4eb1d623b90": {
     "model_module": "@jupyter-widgets/controls",
     "model_module_version": "1.5.0",
     "model_name": "ProgressStyleModel",
     "state": {
      "_model_module": "@jupyter-widgets/controls",
      "_model_module_version": "1.5.0",
      "_model_name": "ProgressStyleModel",
      "_view_count": null,
      "_view_module": "@jupyter-widgets/base",
      "_view_module_version": "1.2.0",
      "_view_name": "StyleView",
      "bar_color": null,
      "description_width": ""
     }
    },
    "27a57c9db4404152aae70a0f7ee7272b": {
     "model_module": "@jupyter-widgets/controls",
     "model_module_version": "1.5.0",
     "model_name": "HTMLModel",
     "state": {
      "_dom_classes": [],
      "_model_module": "@jupyter-widgets/controls",
      "_model_module_version": "1.5.0",
      "_model_name": "HTMLModel",
      "_view_count": null,
      "_view_module": "@jupyter-widgets/controls",
      "_view_module_version": "1.5.0",
      "_view_name": "HTMLView",
      "description": "",
      "description_tooltip": null,
      "layout": "IPY_MODEL_e39758f96da94323ac5496d836d5efe8",
      "placeholder": "​",
      "style": "IPY_MODEL_d5b8e404a4074c8ea5979301372a0f32",
      "value": " 29696/? [00:00&lt;00:00, 683416.65it/s]"
     }
    },
    "2f925e8b2dc34525a18f2e3bc8dd83ff": {
     "model_module": "@jupyter-widgets/controls",
     "model_module_version": "1.5.0",
     "model_name": "FloatProgressModel",
     "state": {
      "_dom_classes": [],
      "_model_module": "@jupyter-widgets/controls",
      "_model_module_version": "1.5.0",
      "_model_name": "FloatProgressModel",
      "_view_count": null,
      "_view_module": "@jupyter-widgets/controls",
      "_view_module_version": "1.5.0",
      "_view_name": "ProgressView",
      "bar_style": "success",
      "description": "",
      "description_tooltip": null,
      "layout": "IPY_MODEL_d38ab7de9f6c4d98b14d41263cf35619",
      "max": 28881,
      "min": 0,
      "orientation": "horizontal",
      "style": "IPY_MODEL_3df2692164ac4461933bd23eb4a66269",
      "value": 28881
     }
    },
    "34c1f04caa8f4a2aaf5a0e0d38f45646": {
     "model_module": "@jupyter-widgets/base",
     "model_module_version": "1.2.0",
     "model_name": "LayoutModel",
     "state": {
      "_model_module": "@jupyter-widgets/base",
      "_model_module_version": "1.2.0",
      "_model_name": "LayoutModel",
      "_view_count": null,
      "_view_module": "@jupyter-widgets/base",
      "_view_module_version": "1.2.0",
      "_view_name": "LayoutView",
      "align_content": null,
      "align_items": null,
      "align_self": null,
      "border": null,
      "bottom": null,
      "display": null,
      "flex": null,
      "flex_flow": null,
      "grid_area": null,
      "grid_auto_columns": null,
      "grid_auto_flow": null,
      "grid_auto_rows": null,
      "grid_column": null,
      "grid_gap": null,
      "grid_row": null,
      "grid_template_areas": null,
      "grid_template_columns": null,
      "grid_template_rows": null,
      "height": null,
      "justify_content": null,
      "justify_items": null,
      "left": null,
      "margin": null,
      "max_height": null,
      "max_width": null,
      "min_height": null,
      "min_width": null,
      "object_fit": null,
      "object_position": null,
      "order": null,
      "overflow": null,
      "overflow_x": null,
      "overflow_y": null,
      "padding": null,
      "right": null,
      "top": null,
      "visibility": null,
      "width": null
     }
    },
    "39ebe69c920f4ffa937d1615f46e046d": {
     "model_module": "@jupyter-widgets/controls",
     "model_module_version": "1.5.0",
     "model_name": "ProgressStyleModel",
     "state": {
      "_model_module": "@jupyter-widgets/controls",
      "_model_module_version": "1.5.0",
      "_model_name": "ProgressStyleModel",
      "_view_count": null,
      "_view_module": "@jupyter-widgets/base",
      "_view_module_version": "1.2.0",
      "_view_name": "StyleView",
      "bar_color": null,
      "description_width": ""
     }
    },
    "3b812c2e20de43b094b80afca08b59a4": {
     "model_module": "@jupyter-widgets/base",
     "model_module_version": "1.2.0",
     "model_name": "LayoutModel",
     "state": {
      "_model_module": "@jupyter-widgets/base",
      "_model_module_version": "1.2.0",
      "_model_name": "LayoutModel",
      "_view_count": null,
      "_view_module": "@jupyter-widgets/base",
      "_view_module_version": "1.2.0",
      "_view_name": "LayoutView",
      "align_content": null,
      "align_items": null,
      "align_self": null,
      "border": null,
      "bottom": null,
      "display": null,
      "flex": null,
      "flex_flow": null,
      "grid_area": null,
      "grid_auto_columns": null,
      "grid_auto_flow": null,
      "grid_auto_rows": null,
      "grid_column": null,
      "grid_gap": null,
      "grid_row": null,
      "grid_template_areas": null,
      "grid_template_columns": null,
      "grid_template_rows": null,
      "height": null,
      "justify_content": null,
      "justify_items": null,
      "left": null,
      "margin": null,
      "max_height": null,
      "max_width": null,
      "min_height": null,
      "min_width": null,
      "object_fit": null,
      "object_position": null,
      "order": null,
      "overflow": null,
      "overflow_x": null,
      "overflow_y": null,
      "padding": null,
      "right": null,
      "top": null,
      "visibility": null,
      "width": null
     }
    },
    "3c8e72c6ada1476fbbb01a994da34d1b": {
     "model_module": "@jupyter-widgets/controls",
     "model_module_version": "1.5.0",
     "model_name": "DescriptionStyleModel",
     "state": {
      "_model_module": "@jupyter-widgets/controls",
      "_model_module_version": "1.5.0",
      "_model_name": "DescriptionStyleModel",
      "_view_count": null,
      "_view_module": "@jupyter-widgets/base",
      "_view_module_version": "1.2.0",
      "_view_name": "StyleView",
      "description_width": ""
     }
    },
    "3df2692164ac4461933bd23eb4a66269": {
     "model_module": "@jupyter-widgets/controls",
     "model_module_version": "1.5.0",
     "model_name": "ProgressStyleModel",
     "state": {
      "_model_module": "@jupyter-widgets/controls",
      "_model_module_version": "1.5.0",
      "_model_name": "ProgressStyleModel",
      "_view_count": null,
      "_view_module": "@jupyter-widgets/base",
      "_view_module_version": "1.2.0",
      "_view_name": "StyleView",
      "bar_color": null,
      "description_width": ""
     }
    },
    "4b34ce6c45e542259369098f9cd5b1a3": {
     "model_module": "@jupyter-widgets/base",
     "model_module_version": "1.2.0",
     "model_name": "LayoutModel",
     "state": {
      "_model_module": "@jupyter-widgets/base",
      "_model_module_version": "1.2.0",
      "_model_name": "LayoutModel",
      "_view_count": null,
      "_view_module": "@jupyter-widgets/base",
      "_view_module_version": "1.2.0",
      "_view_name": "LayoutView",
      "align_content": null,
      "align_items": null,
      "align_self": null,
      "border": null,
      "bottom": null,
      "display": null,
      "flex": null,
      "flex_flow": null,
      "grid_area": null,
      "grid_auto_columns": null,
      "grid_auto_flow": null,
      "grid_auto_rows": null,
      "grid_column": null,
      "grid_gap": null,
      "grid_row": null,
      "grid_template_areas": null,
      "grid_template_columns": null,
      "grid_template_rows": null,
      "height": null,
      "justify_content": null,
      "justify_items": null,
      "left": null,
      "margin": null,
      "max_height": null,
      "max_width": null,
      "min_height": null,
      "min_width": null,
      "object_fit": null,
      "object_position": null,
      "order": null,
      "overflow": null,
      "overflow_x": null,
      "overflow_y": null,
      "padding": null,
      "right": null,
      "top": null,
      "visibility": null,
      "width": null
     }
    },
    "5083bc1d11fa4457817d7a37c572c69d": {
     "model_module": "@jupyter-widgets/controls",
     "model_module_version": "1.5.0",
     "model_name": "HTMLModel",
     "state": {
      "_dom_classes": [],
      "_model_module": "@jupyter-widgets/controls",
      "_model_module_version": "1.5.0",
      "_model_name": "HTMLModel",
      "_view_count": null,
      "_view_module": "@jupyter-widgets/controls",
      "_view_module_version": "1.5.0",
      "_view_name": "HTMLView",
      "description": "",
      "description_tooltip": null,
      "layout": "IPY_MODEL_0599ad40ab314401bd870b63f0bd6e0b",
      "placeholder": "​",
      "style": "IPY_MODEL_7d836e008aab467f8aa000ab4ad5cc4d",
      "value": ""
     }
    },
    "520c0b0ee11344c09ef58fec535be6f0": {
     "model_module": "@jupyter-widgets/base",
     "model_module_version": "1.2.0",
     "model_name": "LayoutModel",
     "state": {
      "_model_module": "@jupyter-widgets/base",
      "_model_module_version": "1.2.0",
      "_model_name": "LayoutModel",
      "_view_count": null,
      "_view_module": "@jupyter-widgets/base",
      "_view_module_version": "1.2.0",
      "_view_name": "LayoutView",
      "align_content": null,
      "align_items": null,
      "align_self": null,
      "border": null,
      "bottom": null,
      "display": null,
      "flex": null,
      "flex_flow": null,
      "grid_area": null,
      "grid_auto_columns": null,
      "grid_auto_flow": null,
      "grid_auto_rows": null,
      "grid_column": null,
      "grid_gap": null,
      "grid_row": null,
      "grid_template_areas": null,
      "grid_template_columns": null,
      "grid_template_rows": null,
      "height": null,
      "justify_content": null,
      "justify_items": null,
      "left": null,
      "margin": null,
      "max_height": null,
      "max_width": null,
      "min_height": null,
      "min_width": null,
      "object_fit": null,
      "object_position": null,
      "order": null,
      "overflow": null,
      "overflow_x": null,
      "overflow_y": null,
      "padding": null,
      "right": null,
      "top": null,
      "visibility": null,
      "width": null
     }
    },
    "53b5c5c24f594b2fa7c6ef1bf3a3893d": {
     "model_module": "@jupyter-widgets/controls",
     "model_module_version": "1.5.0",
     "model_name": "HTMLModel",
     "state": {
      "_dom_classes": [],
      "_model_module": "@jupyter-widgets/controls",
      "_model_module_version": "1.5.0",
      "_model_name": "HTMLModel",
      "_view_count": null,
      "_view_module": "@jupyter-widgets/controls",
      "_view_module_version": "1.5.0",
      "_view_name": "HTMLView",
      "description": "",
      "description_tooltip": null,
      "layout": "IPY_MODEL_6f129b16fad44ff2bf0f969ac9d84237",
      "placeholder": "​",
      "style": "IPY_MODEL_3c8e72c6ada1476fbbb01a994da34d1b",
      "value": ""
     }
    },
    "56c6452bbdfd4994865296a3e44b911a": {
     "model_module": "@jupyter-widgets/controls",
     "model_module_version": "1.5.0",
     "model_name": "FloatProgressModel",
     "state": {
      "_dom_classes": [],
      "_model_module": "@jupyter-widgets/controls",
      "_model_module_version": "1.5.0",
      "_model_name": "FloatProgressModel",
      "_view_count": null,
      "_view_module": "@jupyter-widgets/controls",
      "_view_module_version": "1.5.0",
      "_view_name": "ProgressView",
      "bar_style": "success",
      "description": "",
      "description_tooltip": null,
      "layout": "IPY_MODEL_f51e4a777c0d4c51baca244795cf1b8e",
      "max": 1648877,
      "min": 0,
      "orientation": "horizontal",
      "style": "IPY_MODEL_39ebe69c920f4ffa937d1615f46e046d",
      "value": 1648877
     }
    },
    "5f5912484b98499b8de070dd4d1f0394": {
     "model_module": "@jupyter-widgets/controls",
     "model_module_version": "1.5.0",
     "model_name": "DescriptionStyleModel",
     "state": {
      "_model_module": "@jupyter-widgets/controls",
      "_model_module_version": "1.5.0",
      "_model_name": "DescriptionStyleModel",
      "_view_count": null,
      "_view_module": "@jupyter-widgets/base",
      "_view_module_version": "1.2.0",
      "_view_name": "StyleView",
      "description_width": ""
     }
    },
    "6b3505131c66447f959ca1fa2d61f4ce": {
     "model_module": "@jupyter-widgets/controls",
     "model_module_version": "1.5.0",
     "model_name": "HTMLModel",
     "state": {
      "_dom_classes": [],
      "_model_module": "@jupyter-widgets/controls",
      "_model_module_version": "1.5.0",
      "_model_name": "HTMLModel",
      "_view_count": null,
      "_view_module": "@jupyter-widgets/controls",
      "_view_module_version": "1.5.0",
      "_view_name": "HTMLView",
      "description": "",
      "description_tooltip": null,
      "layout": "IPY_MODEL_cf4bdc9b850b49048726478055f2e6bb",
      "placeholder": "​",
      "style": "IPY_MODEL_d3c2a037e11840759726e54847af8352",
      "value": " 9913344/? [00:00&lt;00:00, 39276591.86it/s]"
     }
    },
    "6f129b16fad44ff2bf0f969ac9d84237": {
     "model_module": "@jupyter-widgets/base",
     "model_module_version": "1.2.0",
     "model_name": "LayoutModel",
     "state": {
      "_model_module": "@jupyter-widgets/base",
      "_model_module_version": "1.2.0",
      "_model_name": "LayoutModel",
      "_view_count": null,
      "_view_module": "@jupyter-widgets/base",
      "_view_module_version": "1.2.0",
      "_view_name": "LayoutView",
      "align_content": null,
      "align_items": null,
      "align_self": null,
      "border": null,
      "bottom": null,
      "display": null,
      "flex": null,
      "flex_flow": null,
      "grid_area": null,
      "grid_auto_columns": null,
      "grid_auto_flow": null,
      "grid_auto_rows": null,
      "grid_column": null,
      "grid_gap": null,
      "grid_row": null,
      "grid_template_areas": null,
      "grid_template_columns": null,
      "grid_template_rows": null,
      "height": null,
      "justify_content": null,
      "justify_items": null,
      "left": null,
      "margin": null,
      "max_height": null,
      "max_width": null,
      "min_height": null,
      "min_width": null,
      "object_fit": null,
      "object_position": null,
      "order": null,
      "overflow": null,
      "overflow_x": null,
      "overflow_y": null,
      "padding": null,
      "right": null,
      "top": null,
      "visibility": null,
      "width": null
     }
    },
    "7847c033ceee4e9d8f9a6847d9258289": {
     "model_module": "@jupyter-widgets/controls",
     "model_module_version": "1.5.0",
     "model_name": "HBoxModel",
     "state": {
      "_dom_classes": [],
      "_model_module": "@jupyter-widgets/controls",
      "_model_module_version": "1.5.0",
      "_model_name": "HBoxModel",
      "_view_count": null,
      "_view_module": "@jupyter-widgets/controls",
      "_view_module_version": "1.5.0",
      "_view_name": "HBoxView",
      "box_style": "",
      "children": [
       "IPY_MODEL_9de8d54d8801481aaadb0b81ef999dd5",
       "IPY_MODEL_eeb9cc4dc817469597e04a3c800d0235",
       "IPY_MODEL_a4f5de1eb4044c64ad00d65d41b1219b"
      ],
      "layout": "IPY_MODEL_eccf5d1bfa374daa80ce54ceb1f19b38"
     }
    },
    "7d836e008aab467f8aa000ab4ad5cc4d": {
     "model_module": "@jupyter-widgets/controls",
     "model_module_version": "1.5.0",
     "model_name": "DescriptionStyleModel",
     "state": {
      "_model_module": "@jupyter-widgets/controls",
      "_model_module_version": "1.5.0",
      "_model_name": "DescriptionStyleModel",
      "_view_count": null,
      "_view_module": "@jupyter-widgets/base",
      "_view_module_version": "1.2.0",
      "_view_name": "StyleView",
      "description_width": ""
     }
    },
    "9de8d54d8801481aaadb0b81ef999dd5": {
     "model_module": "@jupyter-widgets/controls",
     "model_module_version": "1.5.0",
     "model_name": "HTMLModel",
     "state": {
      "_dom_classes": [],
      "_model_module": "@jupyter-widgets/controls",
      "_model_module_version": "1.5.0",
      "_model_name": "HTMLModel",
      "_view_count": null,
      "_view_module": "@jupyter-widgets/controls",
      "_view_module_version": "1.5.0",
      "_view_name": "HTMLView",
      "description": "",
      "description_tooltip": null,
      "layout": "IPY_MODEL_3b812c2e20de43b094b80afca08b59a4",
      "placeholder": "​",
      "style": "IPY_MODEL_b4fd3c8152d94637866f9baa4de513df",
      "value": ""
     }
    },
    "a4f5de1eb4044c64ad00d65d41b1219b": {
     "model_module": "@jupyter-widgets/controls",
     "model_module_version": "1.5.0",
     "model_name": "HTMLModel",
     "state": {
      "_dom_classes": [],
      "_model_module": "@jupyter-widgets/controls",
      "_model_module_version": "1.5.0",
      "_model_name": "HTMLModel",
      "_view_count": null,
      "_view_module": "@jupyter-widgets/controls",
      "_view_module_version": "1.5.0",
      "_view_name": "HTMLView",
      "description": "",
      "description_tooltip": null,
      "layout": "IPY_MODEL_dd191a2157bc40bd8492959b56cf424d",
      "placeholder": "​",
      "style": "IPY_MODEL_02c57e5eff3648ddaf8aa9f44591b041",
      "value": " 5120/? [00:00&lt;00:00, 144439.53it/s]"
     }
    },
    "b201ac8668634905bfe271778a12b2e0": {
     "model_module": "@jupyter-widgets/controls",
     "model_module_version": "1.5.0",
     "model_name": "HBoxModel",
     "state": {
      "_dom_classes": [],
      "_model_module": "@jupyter-widgets/controls",
      "_model_module_version": "1.5.0",
      "_model_name": "HBoxModel",
      "_view_count": null,
      "_view_module": "@jupyter-widgets/controls",
      "_view_module_version": "1.5.0",
      "_view_name": "HBoxView",
      "box_style": "",
      "children": [
       "IPY_MODEL_5083bc1d11fa4457817d7a37c572c69d",
       "IPY_MODEL_2f925e8b2dc34525a18f2e3bc8dd83ff",
       "IPY_MODEL_27a57c9db4404152aae70a0f7ee7272b"
      ],
      "layout": "IPY_MODEL_10a6df4b13594213bd27269a26b3d3c1"
     }
    },
    "b4fd3c8152d94637866f9baa4de513df": {
     "model_module": "@jupyter-widgets/controls",
     "model_module_version": "1.5.0",
     "model_name": "DescriptionStyleModel",
     "state": {
      "_model_module": "@jupyter-widgets/controls",
      "_model_module_version": "1.5.0",
      "_model_name": "DescriptionStyleModel",
      "_view_count": null,
      "_view_module": "@jupyter-widgets/base",
      "_view_module_version": "1.2.0",
      "_view_name": "StyleView",
      "description_width": ""
     }
    },
    "cc22de6ad2f14471a60918737ab04928": {
     "model_module": "@jupyter-widgets/controls",
     "model_module_version": "1.5.0",
     "model_name": "HTMLModel",
     "state": {
      "_dom_classes": [],
      "_model_module": "@jupyter-widgets/controls",
      "_model_module_version": "1.5.0",
      "_model_name": "HTMLModel",
      "_view_count": null,
      "_view_module": "@jupyter-widgets/controls",
      "_view_module_version": "1.5.0",
      "_view_name": "HTMLView",
      "description": "",
      "description_tooltip": null,
      "layout": "IPY_MODEL_4b34ce6c45e542259369098f9cd5b1a3",
      "placeholder": "​",
      "style": "IPY_MODEL_e67a06a810224cd4aba29a8fae1d3ca0",
      "value": " 1649664/? [00:00&lt;00:00, 20038959.80it/s]"
     }
    },
    "cf4bdc9b850b49048726478055f2e6bb": {
     "model_module": "@jupyter-widgets/base",
     "model_module_version": "1.2.0",
     "model_name": "LayoutModel",
     "state": {
      "_model_module": "@jupyter-widgets/base",
      "_model_module_version": "1.2.0",
      "_model_name": "LayoutModel",
      "_view_count": null,
      "_view_module": "@jupyter-widgets/base",
      "_view_module_version": "1.2.0",
      "_view_name": "LayoutView",
      "align_content": null,
      "align_items": null,
      "align_self": null,
      "border": null,
      "bottom": null,
      "display": null,
      "flex": null,
      "flex_flow": null,
      "grid_area": null,
      "grid_auto_columns": null,
      "grid_auto_flow": null,
      "grid_auto_rows": null,
      "grid_column": null,
      "grid_gap": null,
      "grid_row": null,
      "grid_template_areas": null,
      "grid_template_columns": null,
      "grid_template_rows": null,
      "height": null,
      "justify_content": null,
      "justify_items": null,
      "left": null,
      "margin": null,
      "max_height": null,
      "max_width": null,
      "min_height": null,
      "min_width": null,
      "object_fit": null,
      "object_position": null,
      "order": null,
      "overflow": null,
      "overflow_x": null,
      "overflow_y": null,
      "padding": null,
      "right": null,
      "top": null,
      "visibility": null,
      "width": null
     }
    },
    "d38ab7de9f6c4d98b14d41263cf35619": {
     "model_module": "@jupyter-widgets/base",
     "model_module_version": "1.2.0",
     "model_name": "LayoutModel",
     "state": {
      "_model_module": "@jupyter-widgets/base",
      "_model_module_version": "1.2.0",
      "_model_name": "LayoutModel",
      "_view_count": null,
      "_view_module": "@jupyter-widgets/base",
      "_view_module_version": "1.2.0",
      "_view_name": "LayoutView",
      "align_content": null,
      "align_items": null,
      "align_self": null,
      "border": null,
      "bottom": null,
      "display": null,
      "flex": null,
      "flex_flow": null,
      "grid_area": null,
      "grid_auto_columns": null,
      "grid_auto_flow": null,
      "grid_auto_rows": null,
      "grid_column": null,
      "grid_gap": null,
      "grid_row": null,
      "grid_template_areas": null,
      "grid_template_columns": null,
      "grid_template_rows": null,
      "height": null,
      "justify_content": null,
      "justify_items": null,
      "left": null,
      "margin": null,
      "max_height": null,
      "max_width": null,
      "min_height": null,
      "min_width": null,
      "object_fit": null,
      "object_position": null,
      "order": null,
      "overflow": null,
      "overflow_x": null,
      "overflow_y": null,
      "padding": null,
      "right": null,
      "top": null,
      "visibility": null,
      "width": null
     }
    },
    "d3c2a037e11840759726e54847af8352": {
     "model_module": "@jupyter-widgets/controls",
     "model_module_version": "1.5.0",
     "model_name": "DescriptionStyleModel",
     "state": {
      "_model_module": "@jupyter-widgets/controls",
      "_model_module_version": "1.5.0",
      "_model_name": "DescriptionStyleModel",
      "_view_count": null,
      "_view_module": "@jupyter-widgets/base",
      "_view_module_version": "1.2.0",
      "_view_name": "StyleView",
      "description_width": ""
     }
    },
    "d5b8e404a4074c8ea5979301372a0f32": {
     "model_module": "@jupyter-widgets/controls",
     "model_module_version": "1.5.0",
     "model_name": "DescriptionStyleModel",
     "state": {
      "_model_module": "@jupyter-widgets/controls",
      "_model_module_version": "1.5.0",
      "_model_name": "DescriptionStyleModel",
      "_view_count": null,
      "_view_module": "@jupyter-widgets/base",
      "_view_module_version": "1.2.0",
      "_view_name": "StyleView",
      "description_width": ""
     }
    },
    "dd191a2157bc40bd8492959b56cf424d": {
     "model_module": "@jupyter-widgets/base",
     "model_module_version": "1.2.0",
     "model_name": "LayoutModel",
     "state": {
      "_model_module": "@jupyter-widgets/base",
      "_model_module_version": "1.2.0",
      "_model_name": "LayoutModel",
      "_view_count": null,
      "_view_module": "@jupyter-widgets/base",
      "_view_module_version": "1.2.0",
      "_view_name": "LayoutView",
      "align_content": null,
      "align_items": null,
      "align_self": null,
      "border": null,
      "bottom": null,
      "display": null,
      "flex": null,
      "flex_flow": null,
      "grid_area": null,
      "grid_auto_columns": null,
      "grid_auto_flow": null,
      "grid_auto_rows": null,
      "grid_column": null,
      "grid_gap": null,
      "grid_row": null,
      "grid_template_areas": null,
      "grid_template_columns": null,
      "grid_template_rows": null,
      "height": null,
      "justify_content": null,
      "justify_items": null,
      "left": null,
      "margin": null,
      "max_height": null,
      "max_width": null,
      "min_height": null,
      "min_width": null,
      "object_fit": null,
      "object_position": null,
      "order": null,
      "overflow": null,
      "overflow_x": null,
      "overflow_y": null,
      "padding": null,
      "right": null,
      "top": null,
      "visibility": null,
      "width": null
     }
    },
    "e39758f96da94323ac5496d836d5efe8": {
     "model_module": "@jupyter-widgets/base",
     "model_module_version": "1.2.0",
     "model_name": "LayoutModel",
     "state": {
      "_model_module": "@jupyter-widgets/base",
      "_model_module_version": "1.2.0",
      "_model_name": "LayoutModel",
      "_view_count": null,
      "_view_module": "@jupyter-widgets/base",
      "_view_module_version": "1.2.0",
      "_view_name": "LayoutView",
      "align_content": null,
      "align_items": null,
      "align_self": null,
      "border": null,
      "bottom": null,
      "display": null,
      "flex": null,
      "flex_flow": null,
      "grid_area": null,
      "grid_auto_columns": null,
      "grid_auto_flow": null,
      "grid_auto_rows": null,
      "grid_column": null,
      "grid_gap": null,
      "grid_row": null,
      "grid_template_areas": null,
      "grid_template_columns": null,
      "grid_template_rows": null,
      "height": null,
      "justify_content": null,
      "justify_items": null,
      "left": null,
      "margin": null,
      "max_height": null,
      "max_width": null,
      "min_height": null,
      "min_width": null,
      "object_fit": null,
      "object_position": null,
      "order": null,
      "overflow": null,
      "overflow_x": null,
      "overflow_y": null,
      "padding": null,
      "right": null,
      "top": null,
      "visibility": null,
      "width": null
     }
    },
    "e67a06a810224cd4aba29a8fae1d3ca0": {
     "model_module": "@jupyter-widgets/controls",
     "model_module_version": "1.5.0",
     "model_name": "DescriptionStyleModel",
     "state": {
      "_model_module": "@jupyter-widgets/controls",
      "_model_module_version": "1.5.0",
      "_model_name": "DescriptionStyleModel",
      "_view_count": null,
      "_view_module": "@jupyter-widgets/base",
      "_view_module_version": "1.2.0",
      "_view_name": "StyleView",
      "description_width": ""
     }
    },
    "e9578576171e40d58588caed5e26dc1d": {
     "model_module": "@jupyter-widgets/base",
     "model_module_version": "1.2.0",
     "model_name": "LayoutModel",
     "state": {
      "_model_module": "@jupyter-widgets/base",
      "_model_module_version": "1.2.0",
      "_model_name": "LayoutModel",
      "_view_count": null,
      "_view_module": "@jupyter-widgets/base",
      "_view_module_version": "1.2.0",
      "_view_name": "LayoutView",
      "align_content": null,
      "align_items": null,
      "align_self": null,
      "border": null,
      "bottom": null,
      "display": null,
      "flex": null,
      "flex_flow": null,
      "grid_area": null,
      "grid_auto_columns": null,
      "grid_auto_flow": null,
      "grid_auto_rows": null,
      "grid_column": null,
      "grid_gap": null,
      "grid_row": null,
      "grid_template_areas": null,
      "grid_template_columns": null,
      "grid_template_rows": null,
      "height": null,
      "justify_content": null,
      "justify_items": null,
      "left": null,
      "margin": null,
      "max_height": null,
      "max_width": null,
      "min_height": null,
      "min_width": null,
      "object_fit": null,
      "object_position": null,
      "order": null,
      "overflow": null,
      "overflow_x": null,
      "overflow_y": null,
      "padding": null,
      "right": null,
      "top": null,
      "visibility": null,
      "width": null
     }
    },
    "ebc043f5816044c5bc02bfa58e12b528": {
     "model_module": "@jupyter-widgets/controls",
     "model_module_version": "1.5.0",
     "model_name": "HBoxModel",
     "state": {
      "_dom_classes": [],
      "_model_module": "@jupyter-widgets/controls",
      "_model_module_version": "1.5.0",
      "_model_name": "HBoxModel",
      "_view_count": null,
      "_view_module": "@jupyter-widgets/controls",
      "_view_module_version": "1.5.0",
      "_view_name": "HBoxView",
      "box_style": "",
      "children": [
       "IPY_MODEL_53b5c5c24f594b2fa7c6ef1bf3a3893d",
       "IPY_MODEL_fcda35d4f42f4192a169414b672e29bc",
       "IPY_MODEL_6b3505131c66447f959ca1fa2d61f4ce"
      ],
      "layout": "IPY_MODEL_e9578576171e40d58588caed5e26dc1d"
     }
    },
    "eccf5d1bfa374daa80ce54ceb1f19b38": {
     "model_module": "@jupyter-widgets/base",
     "model_module_version": "1.2.0",
     "model_name": "LayoutModel",
     "state": {
      "_model_module": "@jupyter-widgets/base",
      "_model_module_version": "1.2.0",
      "_model_name": "LayoutModel",
      "_view_count": null,
      "_view_module": "@jupyter-widgets/base",
      "_view_module_version": "1.2.0",
      "_view_name": "LayoutView",
      "align_content": null,
      "align_items": null,
      "align_self": null,
      "border": null,
      "bottom": null,
      "display": null,
      "flex": null,
      "flex_flow": null,
      "grid_area": null,
      "grid_auto_columns": null,
      "grid_auto_flow": null,
      "grid_auto_rows": null,
      "grid_column": null,
      "grid_gap": null,
      "grid_row": null,
      "grid_template_areas": null,
      "grid_template_columns": null,
      "grid_template_rows": null,
      "height": null,
      "justify_content": null,
      "justify_items": null,
      "left": null,
      "margin": null,
      "max_height": null,
      "max_width": null,
      "min_height": null,
      "min_width": null,
      "object_fit": null,
      "object_position": null,
      "order": null,
      "overflow": null,
      "overflow_x": null,
      "overflow_y": null,
      "padding": null,
      "right": null,
      "top": null,
      "visibility": null,
      "width": null
     }
    },
    "eeb9cc4dc817469597e04a3c800d0235": {
     "model_module": "@jupyter-widgets/controls",
     "model_module_version": "1.5.0",
     "model_name": "FloatProgressModel",
     "state": {
      "_dom_classes": [],
      "_model_module": "@jupyter-widgets/controls",
      "_model_module_version": "1.5.0",
      "_model_name": "FloatProgressModel",
      "_view_count": null,
      "_view_module": "@jupyter-widgets/controls",
      "_view_module_version": "1.5.0",
      "_view_name": "ProgressView",
      "bar_style": "success",
      "description": "",
      "description_tooltip": null,
      "layout": "IPY_MODEL_34c1f04caa8f4a2aaf5a0e0d38f45646",
      "max": 4542,
      "min": 0,
      "orientation": "horizontal",
      "style": "IPY_MODEL_1e471ec82fcf481a910fe4eb1d623b90",
      "value": 4542
     }
    },
    "f51e4a777c0d4c51baca244795cf1b8e": {
     "model_module": "@jupyter-widgets/base",
     "model_module_version": "1.2.0",
     "model_name": "LayoutModel",
     "state": {
      "_model_module": "@jupyter-widgets/base",
      "_model_module_version": "1.2.0",
      "_model_name": "LayoutModel",
      "_view_count": null,
      "_view_module": "@jupyter-widgets/base",
      "_view_module_version": "1.2.0",
      "_view_name": "LayoutView",
      "align_content": null,
      "align_items": null,
      "align_self": null,
      "border": null,
      "bottom": null,
      "display": null,
      "flex": null,
      "flex_flow": null,
      "grid_area": null,
      "grid_auto_columns": null,
      "grid_auto_flow": null,
      "grid_auto_rows": null,
      "grid_column": null,
      "grid_gap": null,
      "grid_row": null,
      "grid_template_areas": null,
      "grid_template_columns": null,
      "grid_template_rows": null,
      "height": null,
      "justify_content": null,
      "justify_items": null,
      "left": null,
      "margin": null,
      "max_height": null,
      "max_width": null,
      "min_height": null,
      "min_width": null,
      "object_fit": null,
      "object_position": null,
      "order": null,
      "overflow": null,
      "overflow_x": null,
      "overflow_y": null,
      "padding": null,
      "right": null,
      "top": null,
      "visibility": null,
      "width": null
     }
    },
    "fa3a3e4843644735b11e330b9ae904fb": {
     "model_module": "@jupyter-widgets/base",
     "model_module_version": "1.2.0",
     "model_name": "LayoutModel",
     "state": {
      "_model_module": "@jupyter-widgets/base",
      "_model_module_version": "1.2.0",
      "_model_name": "LayoutModel",
      "_view_count": null,
      "_view_module": "@jupyter-widgets/base",
      "_view_module_version": "1.2.0",
      "_view_name": "LayoutView",
      "align_content": null,
      "align_items": null,
      "align_self": null,
      "border": null,
      "bottom": null,
      "display": null,
      "flex": null,
      "flex_flow": null,
      "grid_area": null,
      "grid_auto_columns": null,
      "grid_auto_flow": null,
      "grid_auto_rows": null,
      "grid_column": null,
      "grid_gap": null,
      "grid_row": null,
      "grid_template_areas": null,
      "grid_template_columns": null,
      "grid_template_rows": null,
      "height": null,
      "justify_content": null,
      "justify_items": null,
      "left": null,
      "margin": null,
      "max_height": null,
      "max_width": null,
      "min_height": null,
      "min_width": null,
      "object_fit": null,
      "object_position": null,
      "order": null,
      "overflow": null,
      "overflow_x": null,
      "overflow_y": null,
      "padding": null,
      "right": null,
      "top": null,
      "visibility": null,
      "width": null
     }
    },
    "fcda35d4f42f4192a169414b672e29bc": {
     "model_module": "@jupyter-widgets/controls",
     "model_module_version": "1.5.0",
     "model_name": "FloatProgressModel",
     "state": {
      "_dom_classes": [],
      "_model_module": "@jupyter-widgets/controls",
      "_model_module_version": "1.5.0",
      "_model_name": "FloatProgressModel",
      "_view_count": null,
      "_view_module": "@jupyter-widgets/controls",
      "_view_module_version": "1.5.0",
      "_view_name": "ProgressView",
      "bar_style": "success",
      "description": "",
      "description_tooltip": null,
      "layout": "IPY_MODEL_fa3a3e4843644735b11e330b9ae904fb",
      "max": 9912422,
      "min": 0,
      "orientation": "horizontal",
      "style": "IPY_MODEL_0f29d2041f694908a88f62ea0488ebdc",
      "value": 9912422
     }
    }
   }
  }
 },
 "nbformat": 4,
 "nbformat_minor": 0
}