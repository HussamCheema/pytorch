{
 "cells": [
  {
   "cell_type": "code",
   "execution_count": 5,
   "metadata": {
    "id": "KyqNTqX1m3Hq"
   },
   "outputs": [],
   "source": [
    "import torch\n",
    "import torchvision\n",
    "import torch.nn as nn  # All neural network modules, nn.Linear, nn.Conv2d, BatchNorm, Loss functions\n",
    "import torch.optim as optim  # For all Optimization algorithms, SGD, Adam, etc.\n",
    "import torch.nn.functional as F  # All functions that don't have any parameters\n",
    "from torch.utils.data import (\n",
    "    DataLoader,\n",
    "    Dataset,\n",
    ")  # Gives easier dataset managment and creates mini batches\n",
    "import torchvision.transforms as transforms  # Transformations we can perform on our dataset\n",
    "import torchvision\n",
    "from tqdm import tqdm\n",
    "import pandas as pd\n",
    "from skimage import io\n",
    "import os"
   ]
  },
  {
   "cell_type": "markdown",
   "metadata": {
    "id": "PXNiunjgkJ3T"
   },
   "source": [
    "### Set Device"
   ]
  },
  {
   "cell_type": "code",
   "execution_count": 7,
   "metadata": {
    "colab": {
     "base_uri": "https://localhost:8080/"
    },
    "id": "Buaogz1-ifEK",
    "outputId": "ae79784f-5f8a-4077-c9a4-bffc67fb5d0c"
   },
   "outputs": [
    {
     "name": "stdout",
     "output_type": "stream",
     "text": [
      "cpu\n"
     ]
    }
   ],
   "source": [
    "device = torch.device(\"cuda\" if torch.cuda.is_available() else \"cpu\")\n",
    "print(device)"
   ]
  },
  {
   "cell_type": "markdown",
   "metadata": {
    "id": "bwPvpBc7kN_t"
   },
   "source": [
    "### Hyperparameters"
   ]
  },
  {
   "cell_type": "code",
   "execution_count": 8,
   "metadata": {
    "id": "_8dO8I5XkMO-"
   },
   "outputs": [],
   "source": [
    "in_channel = 3\n",
    "num_classes = 10\n",
    "learning_rate = 1e-3\n",
    "batch_size = 32\n",
    "num_epochs = 2"
   ]
  },
  {
   "cell_type": "markdown",
   "metadata": {
    "id": "jDQunpk2kY9V"
   },
   "source": [
    "### Load Dataset"
   ]
  },
  {
   "cell_type": "code",
   "execution_count": 11,
   "metadata": {
    "id": "CKQs4D4YkWkS"
   },
   "outputs": [],
   "source": [
    "class CatsAndDogsDataset(Dataset):\n",
    "  def __init__(self, csv_file, root_dir, transform=None):\n",
    "    self.annotations = pd.read_csv(csv_file)\n",
    "    self.root_dir = root_dir\n",
    "    self.transform = transform\n",
    "\n",
    "  def __len__(self):\n",
    "    return len(self.annotations)\n",
    "\n",
    "  def __getitem__(self, index):\n",
    "    img_path = os.path.join(self.root_dir, self.annotations.iloc[index, 0])\n",
    "    image = io.imread(img_path)\n",
    "    y_label = torch.tensor(int(self.annotations.iloc[index, 1]))\n",
    "\n",
    "    if self.transform:\n",
    "      image = self.transform(image)\n",
    "\n",
    "    return (image, y_label)"
   ]
  },
  {
   "cell_type": "code",
   "execution_count": null,
   "metadata": {
    "id": "Hg8lH0RFl96v"
   },
   "outputs": [],
   "source": [
    "dataset = CatsAndDogsDataset(\"cats_dogs.csv\", \n",
    "                             \"cats_dogs_resized\", \n",
    "                             transforms.ToTensor())\n",
    "train_set, test_set = torch.utils.data.random_split(dataset, [20000, 5000])\n",
    "train_loader = DataLoader(dataset=train_set, batch_size=batch_size, shuffle=True)\n",
    "test_loader = DataLoader(dataset=test_set, batch_size=batch_size, shuffle=True)"
   ]
  }
 ],
 "metadata": {
  "colab": {
   "collapsed_sections": [],
   "name": "8 - PyTorch - Custom Image Dataset.ipynb",
   "provenance": []
  },
  "language_info": {
   "name": "python"
  }
 },
 "nbformat": 4,
 "nbformat_minor": 0
}