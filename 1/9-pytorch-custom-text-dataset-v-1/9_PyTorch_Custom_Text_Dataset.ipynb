{
 "cells": [
  {
   "cell_type": "markdown",
   "id": "4c1efb4f",
   "metadata": {},
   "source": [
    "#### 1) We need to convert Text to Numerical Values\n",
    "#### 2) We need a vocabulary mapping each word to a index\n",
    "#### 3) We need to setup a PyTorch dataset to load the data\n",
    "#### 4) Setup padding for every batch (to make same sequence length for all examples)\n",
    "#### 5) Setup DataLoader"
   ]
  },
  {
   "cell_type": "markdown",
   "id": "f56f7012",
   "metadata": {},
   "source": [
    "Ref: https://www.youtube.com/watch?v=9sHcLvVXsns&list=PLhhyoLH6IjfxeoooqP9rhU3HJIAVAJ3Vz&index=12&ab_channel=AladdinPersson\n",
    "\n",
    "Ref: https://github.com/aladdinpersson/Machine-Learning-Collection/blob/master/ML/Pytorch/Basics/custom_dataset_txt/loader_customtext.py     "
   ]
  },
  {
   "cell_type": "code",
   "execution_count": 66,
   "id": "3b9cdd8c",
   "metadata": {},
   "outputs": [],
   "source": [
    "import os\n",
    "import pandas as pd\n",
    "import spacy # For Tokenization\n",
    "import torch\n",
    "from torch.nn.utils.rnn import pad_sequence\n",
    "from torch.utils.data import DataLoader, Dataset\n",
    "import torchvision.transforms as transforms\n",
    "from PIL import Image"
   ]
  },
  {
   "cell_type": "code",
   "execution_count": 49,
   "id": "4c535a10",
   "metadata": {},
   "outputs": [],
   "source": [
    "spacy_eng = spacy.load(\"en_core_web_sm\")"
   ]
  },
  {
   "cell_type": "code",
   "execution_count": 50,
   "id": "d5582c3e",
   "metadata": {},
   "outputs": [],
   "source": [
    "class Vocabulary():\n",
    "    # freq_threshold => How many times a word is being repeated in vocab\n",
    "    # Ignore if a word is not being repeated a certain amount of times\n",
    "    def __init__(self, freq_threshold):\n",
    "        # Index to string\n",
    "        self.itos = {0: \"<PAD>\", 1: \"<SOS>\", 2: \"<EOS>\", 3: \"<UNK>\"}\n",
    "        # String to index\n",
    "        self.stoi = {\"<PAD>\": 0, \"<SOS>\": 1, \"<EOS>\": 2, \"UNK\": 3}\n",
    "        self.freq_threshold = freq_threshold\n",
    "        \n",
    "    def __len__(self):\n",
    "        return len(self.itos)\n",
    "    \n",
    "    @staticmethod\n",
    "    def tokenizer_eng(text):\n",
    "        return [tok.text.lower() for tok in spacy_eng.tokenizer(text)]\n",
    "    \n",
    "    def build_vocabulary(self, sentence_list):\n",
    "        frequencies = {}\n",
    "        idx = 4 # because 3 are already initialized in self.itos\n",
    "        \n",
    "        for sentence in sentence_list:\n",
    "            for word in self.tokenizer_eng(sentence):\n",
    "                if word not in frequencies:\n",
    "                    frequencies[word] = 1\n",
    "                else:\n",
    "                    frequencies[word] += 1\n",
    "                    \n",
    "                if frequencies[word] == self.freq_threshold:\n",
    "                    self.stoi[word] = idx\n",
    "                    self.itos[idx] = word\n",
    "                    idx += 1\n",
    "                    \n",
    "    def numericalize(self, text):\n",
    "        tokenized_text = self.tokenizer_eng(text)\n",
    "        \n",
    "        return [\n",
    "            self.stoi[token] if token in self.stoi else self.stoi[\"UNK\"]\n",
    "            for token in tokenized_text\n",
    "        ]"
   ]
  },
  {
   "cell_type": "code",
   "execution_count": 51,
   "id": "ff35e486",
   "metadata": {},
   "outputs": [],
   "source": [
    "class FlickerDataset(Dataset):\n",
    "    def __init__(self, root_dir, captions_file, transform=None, freq_threshold=5):\n",
    "        self.root_dir = root_dir\n",
    "        self.df = pd.read_csv(captions_file)\n",
    "        self.transform = transform\n",
    "        \n",
    "        self.imgs = self.df[\"image\"]\n",
    "        self.captions = self.df[\"caption\"]\n",
    "        \n",
    "        # Initialize/Build the vocabulary\n",
    "        self.vocab = Vocabulary(freq_threshold)\n",
    "        self.vocab.build_vocabulary(self.captions.tolist())\n",
    "        \n",
    "    def __len__(self):\n",
    "        return len(self.df)\n",
    "    \n",
    "    def __getitem__(self, index):\n",
    "        caption = self.captions[index]\n",
    "        img_id = self.imgs[index]\n",
    "        img = Image.open(os.path.join(self.root_dir, img_id)).convert(\"RGB\")\n",
    "        \n",
    "        if self.transform:\n",
    "            img = self.transform(img)\n",
    "            \n",
    "        numericalized_caption = [self.vocab.stoi[\"<SOS>\"]]\n",
    "        numericalized_caption += self.vocab.numericalize(caption)\n",
    "        numericalized_caption.append(self.vocab.stoi[\"<EOS>\"])\n",
    "        \n",
    "        return img, torch.tensor(numericalized_caption)"
   ]
  },
  {
   "cell_type": "code",
   "execution_count": 77,
   "id": "d1b2846b",
   "metadata": {},
   "outputs": [],
   "source": [
    "class MyCollate:\n",
    "    def __init__(self, pad_idx):\n",
    "        self.pad_idx = pad_idx\n",
    "        \n",
    "    def __call__(self, batch):\n",
    "        imgs = [item[0].unsqueeze(0) for item in batch]\n",
    "        imgs = torch.cat(imgs, dim=0)\n",
    "        targets = [item[1] for item in batch]\n",
    "        targets = pad_sequence(targets, batch_first=False, padding_value=self.pad_idx)\n",
    "        \n",
    "        return imgs, targets"
   ]
  },
  {
   "cell_type": "code",
   "execution_count": 78,
   "id": "83f869e1",
   "metadata": {},
   "outputs": [],
   "source": [
    "def get_loader(root_folder, \n",
    "               annotation_file, \n",
    "               transform, \n",
    "               batch_size=32, \n",
    "               num_workers=8, \n",
    "               shuffle=True,\n",
    "               pin_memory=True):\n",
    "    \n",
    "    dataset = FlickerDataset(root_folder, annotation_file, transform=transform)\n",
    "    pad_idx = dataset.vocab.stoi[\"<PAD>\"]\n",
    "    \n",
    "    loader = DataLoader(dataset=dataset, batch_size=batch_size,\n",
    "                        num_workers=num_workers, shuffle=shuffle,\n",
    "                        pin_memory=pin_memory, collate_fn=MyCollate(pad_idx=pad_idx)\n",
    "                       )\n",
    "    \n",
    "    return loader"
   ]
  },
  {
   "cell_type": "code",
   "execution_count": 79,
   "id": "47976f90",
   "metadata": {},
   "outputs": [],
   "source": [
    "root_dir = \"../../Data/data5/flickr8k/images/\"\n",
    "annotation_dir = \"../../Data/data5/flickr8k/captions.txt\"\n",
    "\n",
    "transform = transforms.Compose(\n",
    "    [\n",
    "        transforms.Resize((224, 224)),\n",
    "        transforms.ToTensor(),\n",
    "    ]\n",
    ")\n",
    "dataloader = get_loader(root_dir, annotation_dir, transform=transform)"
   ]
  },
  {
   "cell_type": "code",
   "execution_count": 81,
   "id": "3fd1565a",
   "metadata": {},
   "outputs": [
    {
     "name": "stdout",
     "output_type": "stream",
     "text": [
      "torch.Size([32, 3, 224, 224])\n",
      "torch.Size([29, 32])\n"
     ]
    }
   ],
   "source": [
    "for idx, (imgs, captions) in enumerate(dataloader):\n",
    "    print(imgs.shape)\n",
    "    print(captions.shape)\n",
    "    break"
   ]
  },
  {
   "cell_type": "code",
   "execution_count": 84,
   "id": "657fdd1e",
   "metadata": {},
   "outputs": [
    {
     "data": {
      "text/plain": [
       "tensor([[[0.1647, 0.1686, 0.1843,  ..., 0.1922, 0.1725, 0.1725],\n",
       "         [0.1647, 0.1765, 0.1765,  ..., 0.2549, 0.1804, 0.1725],\n",
       "         [0.1686, 0.2157, 0.2196,  ..., 0.1725, 0.1451, 0.1569],\n",
       "         ...,\n",
       "         [1.0000, 1.0000, 1.0000,  ..., 1.0000, 1.0000, 1.0000],\n",
       "         [1.0000, 1.0000, 1.0000,  ..., 1.0000, 1.0000, 1.0000],\n",
       "         [1.0000, 1.0000, 1.0000,  ..., 1.0000, 1.0000, 1.0000]],\n",
       "\n",
       "        [[0.1373, 0.1529, 0.1961,  ..., 0.1843, 0.1569, 0.1451],\n",
       "         [0.1765, 0.1647, 0.1882,  ..., 0.2745, 0.1608, 0.1804],\n",
       "         [0.1882, 0.2000, 0.2627,  ..., 0.1725, 0.0980, 0.1373],\n",
       "         ...,\n",
       "         [1.0000, 1.0000, 1.0000,  ..., 1.0000, 1.0000, 1.0000],\n",
       "         [1.0000, 1.0000, 1.0000,  ..., 1.0000, 1.0000, 1.0000],\n",
       "         [1.0000, 1.0000, 1.0000,  ..., 1.0000, 1.0000, 1.0000]],\n",
       "\n",
       "        [[0.0471, 0.0392, 0.0941,  ..., 0.1098, 0.0902, 0.0863],\n",
       "         [0.0627, 0.0745, 0.0941,  ..., 0.1843, 0.0980, 0.1098],\n",
       "         [0.0941, 0.1098, 0.1412,  ..., 0.0980, 0.0667, 0.0627],\n",
       "         ...,\n",
       "         [1.0000, 1.0000, 1.0000,  ..., 1.0000, 1.0000, 1.0000],\n",
       "         [1.0000, 1.0000, 1.0000,  ..., 1.0000, 1.0000, 1.0000],\n",
       "         [1.0000, 1.0000, 1.0000,  ..., 1.0000, 1.0000, 1.0000]]])"
      ]
     },
     "execution_count": 84,
     "metadata": {},
     "output_type": "execute_result"
    }
   ],
   "source": [
    "imgs[0]"
   ]
  },
  {
   "cell_type": "code",
   "execution_count": 83,
   "id": "2721c36d",
   "metadata": {},
   "outputs": [
    {
     "data": {
      "text/plain": [
       "tensor([1, 1, 1, 1, 1, 1, 1, 1, 1, 1, 1, 1, 1, 1, 1, 1, 1, 1, 1, 1, 1, 1, 1, 1,\n",
       "        1, 1, 1, 1, 1, 1, 1, 1])"
      ]
     },
     "execution_count": 83,
     "metadata": {},
     "output_type": "execute_result"
    }
   ],
   "source": [
    "captions[0]"
   ]
  },
  {
   "cell_type": "code",
   "execution_count": null,
   "id": "e1eedd48",
   "metadata": {},
   "outputs": [],
   "source": []
  }
 ],
 "metadata": {
  "language_info": {
   "codemirror_mode": {
    "name": "ipython",
    "version": 3
   },
   "file_extension": ".py",
   "mimetype": "text/x-python",
   "name": "python",
   "nbconvert_exporter": "python",
   "pygments_lexer": "ipython3",
   "version": "3.8.10"
  }
 },
 "nbformat": 4,
 "nbformat_minor": 5
}