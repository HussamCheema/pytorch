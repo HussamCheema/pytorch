{
 "cells": [
  {
   "cell_type": "code",
   "execution_count": 125,
   "metadata": {
    "id": "egx3ReW9aPTy"
   },
   "outputs": [],
   "source": [
    "import torch\n",
    "import numpy as np"
   ]
  },
  {
   "cell_type": "code",
   "execution_count": 126,
   "metadata": {
    "colab": {
     "base_uri": "https://localhost:8080/"
    },
    "id": "gLtEFMqmalFU",
    "outputId": "b40e2745-aa0b-4d60-8594-7f4ea3580335"
   },
   "outputs": [
    {
     "name": "stdout",
     "output_type": "stream",
     "text": [
      "tensor([[1, 2, 3],\n",
      "        [4, 5, 6]])\n",
      "tensor([[1., 2., 3.],\n",
      "        [4., 5., 6.]])\n",
      "tensor([[1., 2., 3.],\n",
      "        [4., 5., 6.]], device='cuda:0')\n",
      "tensor([[1., 2., 3.],\n",
      "        [4., 5., 6.]], device='cuda:0', requires_grad=True)\n"
     ]
    }
   ],
   "source": [
    "# 2D Tensor\n",
    "tensor_2d = torch.tensor([[1,2,3],[4,5,6]])\n",
    "print(tensor_2d)\n",
    "\n",
    "# 2D Tensor with Type\n",
    "tensor_2d = torch.tensor([[1,2,3],[4,5,6]], dtype=torch.float32)\n",
    "print(tensor_2d)\n",
    "\n",
    "# 2D Tensor with cuda\n",
    "tensor_2d = torch.tensor([[1,2,3],[4,5,6]], dtype=torch.float32, device=\"cuda\")\n",
    "print(tensor_2d)\n",
    "\n",
    "# 2D Tensor with grad - when we need to compute gradients of the parameters\n",
    "tensor_2d = torch.tensor([[1,2,3],[4,5,6]], dtype=torch.float32, device=\"cuda\", requires_grad=True)\n",
    "print(tensor_2d)"
   ]
  },
  {
   "cell_type": "code",
   "execution_count": 127,
   "metadata": {
    "colab": {
     "base_uri": "https://localhost:8080/"
    },
    "id": "qhL-IU-jbTL_",
    "outputId": "2a5b8758-6f47-417d-c793-aff3b06bdce9"
   },
   "outputs": [
    {
     "name": "stdout",
     "output_type": "stream",
     "text": [
      "tensor([[1., 2., 3.],\n",
      "        [4., 5., 6.]], device='cuda:0')\n",
      "torch.Size([2, 3])\n"
     ]
    }
   ],
   "source": [
    "# Dynamically setting gpu and cpu\n",
    "device = \"cuda\" if torch.cuda.is_available() else \"cpu\"\n",
    "tensor_2d = torch.tensor([[1,2,3],[4,5,6]], dtype=torch.float32, device=device)\n",
    "print(tensor_2d)\n",
    "print(tensor_2d.shape)"
   ]
  },
  {
   "cell_type": "markdown",
   "metadata": {
    "id": "e81N9Bb6fWid"
   },
   "source": [
    "### Common initialization methods"
   ]
  },
  {
   "cell_type": "code",
   "execution_count": 128,
   "metadata": {
    "colab": {
     "base_uri": "https://localhost:8080/"
    },
    "id": "kqUhwnGHeR2O",
    "outputId": "60de0b9d-9096-4b35-fa09-5693324208cf"
   },
   "outputs": [
    {
     "name": "stdout",
     "output_type": "stream",
     "text": [
      "tensor([[-5.2900e-33,  3.0757e-41,  3.3631e-44],\n",
      "        [ 0.0000e+00,         nan,  0.0000e+00],\n",
      "        [ 4.4721e+21,  1.5956e+25,  4.7399e+16]])\n",
      "tensor([[0., 0., 0.],\n",
      "        [0., 0., 0.],\n",
      "        [0., 0., 0.]])\n",
      "tensor([[0.1727, 0.1201, 0.2493],\n",
      "        [0.4145, 0.6877, 0.3384],\n",
      "        [0.8747, 0.1384, 0.7308]])\n",
      "tensor([[1., 1., 1.],\n",
      "        [1., 1., 1.],\n",
      "        [1., 1., 1.]])\n",
      "tensor([[1., 0., 0.],\n",
      "        [0., 1., 0.],\n",
      "        [0., 0., 1.]])\n",
      "tensor([0, 1, 2, 3, 4, 5, 6, 7, 8, 9])\n",
      "tensor([0.1000, 0.2000, 0.3000, 0.4000, 0.5000, 0.6000, 0.7000, 0.8000, 0.9000,\n",
      "        1.0000])\n",
      "tensor([[ 0.0723, -1.0331, -0.7821]])\n",
      "tensor([[0.4545, 0.8554, 0.8612]])\n",
      "tensor([[1., 0., 0.],\n",
      "        [0., 1., 0.],\n",
      "        [0., 0., 1.]])\n"
     ]
    }
   ],
   "source": [
    "x = torch.empty(size=(3,3))\n",
    "print(x)\n",
    "x = torch.zeros((3,3)) # size is first argument bydefault\n",
    "print(x)\n",
    "x = torch.rand((3,3)) # Uniform Distribution\n",
    "print(x)\n",
    "x = torch.ones((3,3))\n",
    "print(x)\n",
    "x = torch.eye(3,3)\n",
    "print(x)\n",
    "x = torch.arange(0,10,1) # Just like range\n",
    "print(x)\n",
    "x = torch.linspace(0.1,1,10)\n",
    "print(x)\n",
    "x = torch.empty(size=(1,3)).normal_(mean=0, std=1) # Normal Distribution\n",
    "print(x)\n",
    "x = torch.empty(size=(1,3)).uniform_(0,1) # Uniform Distribution\n",
    "print(x)\n",
    "x = torch.diag(torch.ones(3))\n",
    "print(x)"
   ]
  },
  {
   "cell_type": "markdown",
   "metadata": {
    "id": "bji-UbzI9w1X"
   },
   "source": [
    "### Initializing/Converting tensors to different types"
   ]
  },
  {
   "cell_type": "code",
   "execution_count": 129,
   "metadata": {
    "colab": {
     "base_uri": "https://localhost:8080/"
    },
    "id": "VCwWLF9c9fo6",
    "outputId": "90092fed-ebeb-400c-b9ff-e3c0817da8cf"
   },
   "outputs": [
    {
     "name": "stdout",
     "output_type": "stream",
     "text": [
      "tensor([False,  True,  True,  True])\n",
      "tensor([0, 1, 2, 3], dtype=torch.int16)\n",
      "tensor([0, 1, 2, 3])\n",
      "tensor([0., 1., 2., 3.], dtype=torch.float16)\n",
      "tensor([0., 1., 2., 3.], dtype=torch.float16)\n",
      "tensor([0., 1., 2., 3.], dtype=torch.float64)\n"
     ]
    }
   ],
   "source": [
    "# These functions will always work for cpu as well as for cuda\n",
    "tensor = torch.arange(4)\n",
    "print(tensor.bool())\n",
    "print(tensor.short()) # Int16\n",
    "print(tensor.long()) # Int64\n",
    "print(tensor.half()) # float16\n",
    "print(tensor.half()) # float16\n",
    "print(tensor.double()) # float64"
   ]
  },
  {
   "cell_type": "markdown",
   "metadata": {
    "id": "MmL3Tp2Y_Xru"
   },
   "source": [
    "### Numpy to Tensor and Vice Versa"
   ]
  },
  {
   "cell_type": "code",
   "execution_count": 130,
   "metadata": {
    "colab": {
     "base_uri": "https://localhost:8080/"
    },
    "id": "i3dC1bSw_XWd",
    "outputId": "7bfe2aec-e5a5-41c8-b7ca-64a089566922"
   },
   "outputs": [
    {
     "name": "stdout",
     "output_type": "stream",
     "text": [
      "tensor([[0., 0., 0., 0., 0.],\n",
      "        [0., 0., 0., 0., 0.],\n",
      "        [0., 0., 0., 0., 0.],\n",
      "        [0., 0., 0., 0., 0.],\n",
      "        [0., 0., 0., 0., 0.]], dtype=torch.float64)\n",
      "[[0. 0. 0. 0. 0.]\n",
      " [0. 0. 0. 0. 0.]\n",
      " [0. 0. 0. 0. 0.]\n",
      " [0. 0. 0. 0. 0.]\n",
      " [0. 0. 0. 0. 0.]]\n"
     ]
    }
   ],
   "source": [
    "arr = np.zeros((5,5))\n",
    "tensor = torch.from_numpy(arr)\n",
    "print(tensor)\n",
    "arr2 = tensor.numpy()\n",
    "print(arr2)"
   ]
  },
  {
   "cell_type": "markdown",
   "metadata": {
    "id": "QQimfvHR_30y"
   },
   "source": [
    "### Tensor Math & Comparison Operations"
   ]
  },
  {
   "cell_type": "code",
   "execution_count": 131,
   "metadata": {
    "colab": {
     "base_uri": "https://localhost:8080/"
    },
    "id": "dcf7PZWC-CJ2",
    "outputId": "85d14f4f-723b-4380-bf84-98630d86ea72"
   },
   "outputs": [
    {
     "name": "stdout",
     "output_type": "stream",
     "text": [
      "tensor([10., 10., 10.])\n",
      "torch.float32\n",
      "tensor([10, 10, 10])\n",
      "torch.int64\n",
      "tensor([10, 10, 10])\n",
      "torch.int64\n"
     ]
    }
   ],
   "source": [
    "x = torch.tensor([1,2,3])\n",
    "y = torch.tensor([9,8,7])\n",
    "\n",
    "# Addition\n",
    "z1 = torch.empty(3)\n",
    "torch.add(x,y,out=z1)\n",
    "print(z1)\n",
    "print(z1.dtype)\n",
    "\n",
    "# OR\n",
    "z1 = torch.add(x,y)\n",
    "print(z1)\n",
    "print(z1.dtype)\n",
    "\n",
    "# OR\n",
    "z1 = x + y\n",
    "print(z1)\n",
    "print(z1.dtype)"
   ]
  },
  {
   "cell_type": "code",
   "execution_count": 132,
   "metadata": {
    "colab": {
     "base_uri": "https://localhost:8080/"
    },
    "id": "PHBT79EdBYdX",
    "outputId": "861f3239-5797-49b6-f714-100504a0bc92"
   },
   "outputs": [
    {
     "name": "stdout",
     "output_type": "stream",
     "text": [
      "tensor([0.1111, 0.2500, 0.4286])\n"
     ]
    }
   ],
   "source": [
    "# Division\n",
    "z1 = x/y\n",
    "print(z1)"
   ]
  },
  {
   "cell_type": "code",
   "execution_count": 133,
   "metadata": {
    "colab": {
     "base_uri": "https://localhost:8080/"
    },
    "id": "HTZWm9vzB7fE",
    "outputId": "32c05996-e5cf-4d89-a786-cab81caee680"
   },
   "outputs": [
    {
     "name": "stdout",
     "output_type": "stream",
     "text": [
      "tensor([2., 3., 4.])\n",
      "tensor([2., 3., 4.])\n"
     ]
    }
   ],
   "source": [
    "# Inplace Operations (computationally efficient)\n",
    "t = torch.ones(3)\n",
    "t.add_(x)\n",
    "print(t)\n",
    "\n",
    "# OR\n",
    "t = torch.ones(3)\n",
    "t += x\n",
    "print(t)"
   ]
  },
  {
   "cell_type": "code",
   "execution_count": 134,
   "metadata": {
    "colab": {
     "base_uri": "https://localhost:8080/"
    },
    "id": "hGa1dAEYB9GN",
    "outputId": "e46fa53e-a3a3-4e73-cd7d-10790533e5b7"
   },
   "outputs": [
    {
     "name": "stdout",
     "output_type": "stream",
     "text": [
      "tensor([1, 4, 9])\n",
      "tensor([1, 4, 9])\n"
     ]
    }
   ],
   "source": [
    "# Exponentiation\n",
    "z = x.pow(2)\n",
    "print(z)\n",
    "\n",
    "# OR\n",
    "z = x ** 2\n",
    "print(z)"
   ]
  },
  {
   "cell_type": "code",
   "execution_count": 135,
   "metadata": {
    "colab": {
     "base_uri": "https://localhost:8080/"
    },
    "id": "UojBWospC91O",
    "outputId": "3f09eb03-915e-4096-b443-31ae530b843d"
   },
   "outputs": [
    {
     "name": "stdout",
     "output_type": "stream",
     "text": [
      "tensor([True, True, True])\n"
     ]
    }
   ],
   "source": [
    "# Comparison\n",
    "z = x > 0\n",
    "print(z)"
   ]
  },
  {
   "cell_type": "code",
   "execution_count": 136,
   "metadata": {
    "colab": {
     "base_uri": "https://localhost:8080/"
    },
    "id": "oU70wGyyDL_2",
    "outputId": "69fd2338-e53b-4486-a579-f3e9d3c60a7b"
   },
   "outputs": [
    {
     "name": "stdout",
     "output_type": "stream",
     "text": [
      "tensor([[0.7224, 0.6172, 0.8909],\n",
      "        [1.9378, 1.6177, 2.3978]])\n",
      "tensor([[0.7224, 0.6172, 0.8909],\n",
      "        [1.9378, 1.6177, 2.3978]])\n"
     ]
    }
   ],
   "source": [
    "# Matrix Multiplication\n",
    "x1 = torch.rand((2,5))\n",
    "x2 = torch.rand((5,3))\n",
    "res = torch.mm(x1,x2)\n",
    "print(res)\n",
    "\n",
    "# OR\n",
    "res = x1.mm(x2)\n",
    "print(res)"
   ]
  },
  {
   "cell_type": "code",
   "execution_count": 137,
   "metadata": {
    "colab": {
     "base_uri": "https://localhost:8080/"
    },
    "id": "_DZbzVtPEnGt",
    "outputId": "b88f52e3-e320-4f93-95ff-aabb59526297"
   },
   "outputs": [
    {
     "name": "stdout",
     "output_type": "stream",
     "text": [
      "tensor([ 9, 16, 21])\n"
     ]
    }
   ],
   "source": [
    "# Element wise multiplication\n",
    "x = torch.tensor([1,2,3])\n",
    "y = torch.tensor([9,8,7])\n",
    "z = x * y\n",
    "print(z)"
   ]
  },
  {
   "cell_type": "code",
   "execution_count": 138,
   "metadata": {
    "colab": {
     "base_uri": "https://localhost:8080/"
    },
    "id": "GZgBiDQ7G8Qs",
    "outputId": "11e0acd2-5f98-41ae-90b0-69235111f39c"
   },
   "outputs": [
    {
     "name": "stdout",
     "output_type": "stream",
     "text": [
      "tensor(46)\n"
     ]
    }
   ],
   "source": [
    "# Dot Product (Sum(Element Wise))\n",
    "z = torch.dot(x,y)\n",
    "print(z)"
   ]
  },
  {
   "cell_type": "code",
   "execution_count": 139,
   "metadata": {
    "colab": {
     "base_uri": "https://localhost:8080/"
    },
    "id": "r7QASP2MHKfm",
    "outputId": "ad3ecc55-fdd2-497e-d0c5-3d82421588ab"
   },
   "outputs": [
    {
     "name": "stdout",
     "output_type": "stream",
     "text": [
      "tensor([[[5.0407, 4.4782, 5.3948,  ..., 4.1681, 3.7195, 5.1325],\n",
      "         [5.4720, 3.8781, 4.9625,  ..., 5.0888, 4.5243, 4.9479],\n",
      "         [5.0075, 3.7820, 5.4080,  ..., 4.5880, 4.2038, 5.9843],\n",
      "         ...,\n",
      "         [4.8689, 3.4334, 4.9943,  ..., 4.4043, 4.2350, 5.5951],\n",
      "         [5.3173, 3.7799, 5.1721,  ..., 4.6662, 5.1718, 5.8796],\n",
      "         [5.0784, 4.2786, 5.7995,  ..., 4.3510, 4.4769, 5.1508]],\n",
      "\n",
      "        [[3.2058, 3.3784, 3.7221,  ..., 3.5264, 3.2175, 2.6355],\n",
      "         [3.7702, 3.9454, 4.6961,  ..., 4.5110, 2.8231, 3.6373],\n",
      "         [3.6381, 3.9513, 3.3183,  ..., 4.0678, 3.0960, 3.2969],\n",
      "         ...,\n",
      "         [4.0574, 4.2981, 4.6436,  ..., 5.0187, 3.8602, 3.6274],\n",
      "         [4.3088, 4.9005, 6.0120,  ..., 5.2443, 4.5197, 5.5285],\n",
      "         [3.9955, 5.2751, 5.2443,  ..., 5.0072, 4.0970, 5.1980]],\n",
      "\n",
      "        [[4.4439, 3.8145, 5.4574,  ..., 3.3412, 3.5231, 3.0078],\n",
      "         [5.6296, 5.1769, 6.4834,  ..., 4.8876, 4.7522, 4.4989],\n",
      "         [4.5629, 4.3247, 5.0124,  ..., 3.5529, 3.1948, 3.6784],\n",
      "         ...,\n",
      "         [5.3225, 4.7933, 6.4791,  ..., 4.0936, 3.6416, 3.8726],\n",
      "         [5.2027, 4.3449, 6.1899,  ..., 4.4334, 4.1556, 3.3543],\n",
      "         [5.9543, 5.1629, 6.1050,  ..., 4.7251, 3.9355, 3.8734]],\n",
      "\n",
      "        ...,\n",
      "\n",
      "        [[3.6304, 5.1848, 3.8383,  ..., 5.3760, 4.2470, 3.6910],\n",
      "         [4.7999, 5.9018, 6.2889,  ..., 7.3183, 5.7744, 5.4593],\n",
      "         [4.1934, 5.9234, 5.1776,  ..., 6.4852, 4.6666, 4.1149],\n",
      "         ...,\n",
      "         [4.8743, 6.6002, 5.7963,  ..., 7.5857, 6.2419, 4.4920],\n",
      "         [4.3513, 5.8943, 5.4392,  ..., 7.2709, 6.0787, 5.1865],\n",
      "         [5.0695, 4.9921, 5.0882,  ..., 6.2573, 5.2766, 4.7383]],\n",
      "\n",
      "        [[5.5542, 4.8141, 4.5877,  ..., 4.4263, 5.7344, 5.1698],\n",
      "         [5.1408, 4.5722, 4.0881,  ..., 4.7210, 4.3938, 4.5500],\n",
      "         [6.1067, 5.8189, 5.0546,  ..., 6.3988, 6.7626, 6.3898],\n",
      "         ...,\n",
      "         [4.4055, 4.0528, 3.2789,  ..., 4.3203, 4.5718, 4.4611],\n",
      "         [4.8145, 5.0942, 4.0946,  ..., 5.1418, 5.7880, 4.7656],\n",
      "         [6.0912, 5.3798, 4.6242,  ..., 5.4825, 6.4574, 6.0496]],\n",
      "\n",
      "        [[4.6826, 5.7605, 3.8330,  ..., 5.2938, 4.2822, 4.9857],\n",
      "         [4.0152, 5.7459, 3.8671,  ..., 5.1457, 4.0378, 5.7016],\n",
      "         [4.3446, 5.7546, 3.9166,  ..., 5.0150, 5.3779, 5.4901],\n",
      "         ...,\n",
      "         [5.7324, 5.6536, 5.7351,  ..., 5.6080, 5.0478, 5.7995],\n",
      "         [5.1213, 5.9321, 4.9538,  ..., 5.4115, 6.8607, 5.7986],\n",
      "         [4.2714, 6.6198, 3.6805,  ..., 5.1476, 3.9533, 5.9206]]])\n",
      "torch.Size([32, 10, 30])\n"
     ]
    }
   ],
   "source": [
    "# Batch Matrix Multiplication\n",
    "batch = 32\n",
    "n = 10\n",
    "m = 20\n",
    "p = 30\n",
    "\n",
    "t1 = torch.rand((batch, n, m))\n",
    "t2 = torch.rand((batch, m, p))\n",
    "out_bmm = torch.bmm(t1, t2) # (batch,n,p)\n",
    "print(out_bmm)\n",
    "print(out_bmm.shape)"
   ]
  },
  {
   "cell_type": "markdown",
   "metadata": {
    "id": "KH_7L_bfIIXY"
   },
   "source": [
    "### Broadcasting"
   ]
  },
  {
   "cell_type": "code",
   "execution_count": 140,
   "metadata": {
    "colab": {
     "base_uri": "https://localhost:8080/"
    },
    "id": "9t35pIIGHpE7",
    "outputId": "57fe2e71-9d54-4de6-86e9-00e4ba5d66d7"
   },
   "outputs": [
    {
     "name": "stdout",
     "output_type": "stream",
     "text": [
      "tensor([[0.0392, 0.5338, 0.8452, 0.0579, 0.6508],\n",
      "        [0.6406, 0.2027, 0.0253, 0.8507, 0.7146],\n",
      "        [0.5870, 0.5742, 0.7932, 0.5165, 0.0377],\n",
      "        [0.1090, 0.2407, 0.3424, 0.5695, 0.3347],\n",
      "        [0.6006, 0.6466, 0.9674, 0.2019, 0.0904]])\n",
      "tensor([[0.5939, 0.6116, 0.0468, 0.2537, 0.0402]])\n",
      "tensor([[-0.5547, -0.0778,  0.7984, -0.1959,  0.6106],\n",
      "        [ 0.0467, -0.4089, -0.0214,  0.5969,  0.6744],\n",
      "        [-0.0069, -0.0374,  0.7464,  0.2628, -0.0025],\n",
      "        [-0.4850, -0.3709,  0.2956,  0.3157,  0.2945],\n",
      "        [ 0.0067,  0.0350,  0.9206, -0.0518,  0.0501]])\n",
      "tensor([[0.1461, 0.6812, 0.9922, 0.4852, 0.9829],\n",
      "        [0.7676, 0.3768, 0.8420, 0.9598, 0.9866],\n",
      "        [0.7288, 0.7123, 0.9892, 0.8457, 0.8764],\n",
      "        [0.2680, 0.4185, 0.9511, 0.8669, 0.9569],\n",
      "        [0.7388, 0.7659, 0.9985, 0.6663, 0.9078]])\n"
     ]
    }
   ],
   "source": [
    "x1 = torch.rand((5,5))\n",
    "print(x1)\n",
    "\n",
    "x2 = torch.rand((1,5))\n",
    "print(x2)\n",
    "\n",
    "z1 = x1 - x2\n",
    "print(z1) # x2 row got subtracted from each row of x1\n",
    "\n",
    "z1 = x1 ** x2\n",
    "print(z1)"
   ]
  },
  {
   "cell_type": "markdown",
   "metadata": {
    "id": "zpdDAVmDI6NY"
   },
   "source": [
    "### Other useful tensor math operations"
   ]
  },
  {
   "cell_type": "code",
   "execution_count": 141,
   "metadata": {
    "colab": {
     "base_uri": "https://localhost:8080/"
    },
    "id": "du2JyiuxI2rv",
    "outputId": "87a1f043-5d87-480f-8b82-9400ea8c67bf"
   },
   "outputs": [
    {
     "name": "stdout",
     "output_type": "stream",
     "text": [
      "tensor([1.9765, 2.1979, 2.9736, 2.1964, 1.8282])\n",
      "tensor([2.1269, 2.4339, 2.5087, 1.5963, 2.5069])\n"
     ]
    }
   ],
   "source": [
    "sum_x = torch.sum(x1, dim=0)\n",
    "print(sum_x)\n",
    "\n",
    "sum_y = torch.sum(x1, dim=1)\n",
    "print(sum_y)"
   ]
  },
  {
   "cell_type": "code",
   "execution_count": 142,
   "metadata": {
    "colab": {
     "base_uri": "https://localhost:8080/"
    },
    "id": "ma2Iw5o2LMga",
    "outputId": "a22b6831-ffac-44c9-8363-26b70e5d3193"
   },
   "outputs": [
    {
     "name": "stdout",
     "output_type": "stream",
     "text": [
      "tensor([0.6406, 0.6466, 0.9674, 0.8507, 0.7146])\n",
      "tensor([1, 4, 4, 1, 1])\n",
      "tensor([0.8452, 0.8507, 0.7932, 0.5695, 0.9674])\n",
      "tensor([2, 3, 2, 3, 2])\n"
     ]
    }
   ],
   "source": [
    "values, indices = torch.max(x1, dim=0)\n",
    "print(values)\n",
    "print(indices)\n",
    "\n",
    "values, indices = torch.max(x1, dim=1)\n",
    "print(values)\n",
    "print(indices)"
   ]
  },
  {
   "cell_type": "code",
   "execution_count": 143,
   "metadata": {
    "colab": {
     "base_uri": "https://localhost:8080/"
    },
    "id": "i7G4O1w1LUjx",
    "outputId": "fa1ab831-738e-4806-b1af-fbbf3a493e93"
   },
   "outputs": [
    {
     "name": "stdout",
     "output_type": "stream",
     "text": [
      "tensor([0.0392, 0.2027, 0.0253, 0.0579, 0.0377])\n",
      "tensor([0, 1, 1, 0, 2])\n",
      "tensor([0.0392, 0.0253, 0.0377, 0.1090, 0.0904])\n",
      "tensor([0, 2, 4, 0, 4])\n"
     ]
    }
   ],
   "source": [
    "values, indices = torch.min(x1, dim=0)\n",
    "print(values)\n",
    "print(indices)\n",
    "\n",
    "values, indices = torch.min(x1, dim=1)\n",
    "print(values)\n",
    "print(indices)"
   ]
  },
  {
   "cell_type": "code",
   "execution_count": 144,
   "metadata": {
    "colab": {
     "base_uri": "https://localhost:8080/"
    },
    "id": "bH8h-JP7MVi_",
    "outputId": "383dfd8b-3700-4bb9-89aa-1190dde91dea"
   },
   "outputs": [
    {
     "name": "stdout",
     "output_type": "stream",
     "text": [
      "tensor([[0.0392, 0.5338, 0.8452, 0.0579, 0.6508],\n",
      "        [0.6406, 0.2027, 0.0253, 0.8507, 0.7146],\n",
      "        [0.5870, 0.5742, 0.7932, 0.5165, 0.0377],\n",
      "        [0.1090, 0.2407, 0.3424, 0.5695, 0.3347],\n",
      "        [0.6006, 0.6466, 0.9674, 0.2019, 0.0904]])\n"
     ]
    }
   ],
   "source": [
    "abs_x = torch.abs(x1)\n",
    "print(abs_x)"
   ]
  },
  {
   "cell_type": "code",
   "execution_count": 145,
   "metadata": {
    "colab": {
     "base_uri": "https://localhost:8080/"
    },
    "id": "ZHcle_hmMb7h",
    "outputId": "fd20bcfe-d357-4f74-f5af-da879312725b"
   },
   "outputs": [
    {
     "name": "stdout",
     "output_type": "stream",
     "text": [
      "tensor([1, 4, 4, 1, 1])\n",
      "tensor([2, 3, 2, 3, 2])\n",
      "tensor([0, 1, 1, 0, 2])\n",
      "tensor([0, 2, 4, 0, 4])\n"
     ]
    }
   ],
   "source": [
    "z = torch.argmax(x1, dim=0)\n",
    "print(z)\n",
    "\n",
    "z = torch.argmax(x1, dim=1)\n",
    "print(z)\n",
    "\n",
    "z = torch.argmin(x1, dim=0)\n",
    "print(z)\n",
    "\n",
    "z = torch.argmin(x1, dim=1)\n",
    "print(z)"
   ]
  },
  {
   "cell_type": "code",
   "execution_count": 146,
   "metadata": {
    "colab": {
     "base_uri": "https://localhost:8080/"
    },
    "id": "0qr9oSTZMlRc",
    "outputId": "759f9db1-041a-47b9-b4eb-d1e2f1ff97d2"
   },
   "outputs": [
    {
     "name": "stdout",
     "output_type": "stream",
     "text": [
      "tensor([0.3953, 0.4396, 0.5947, 0.4393, 0.3656])\n"
     ]
    }
   ],
   "source": [
    "mean_x = torch.mean(x1.float(), dim=0) # It requires the values to be float\n",
    "print(mean_x)"
   ]
  },
  {
   "cell_type": "code",
   "execution_count": 147,
   "metadata": {
    "colab": {
     "base_uri": "https://localhost:8080/"
    },
    "id": "ne8R6tAAMy9o",
    "outputId": "341274a1-2748-44e9-c10c-bfb0be315809"
   },
   "outputs": [
    {
     "name": "stdout",
     "output_type": "stream",
     "text": [
      "tensor([[False, False, False, False, False],\n",
      "        [False, False, False, False, False],\n",
      "        [False, False, False, False, False],\n",
      "        [False, False, False, False, False],\n",
      "        [False, False, False, False, False]])\n"
     ]
    }
   ],
   "source": [
    "# Element wise compare\n",
    "z = torch.eq(x1,x2)\n",
    "print(z)"
   ]
  },
  {
   "cell_type": "code",
   "execution_count": 148,
   "metadata": {
    "colab": {
     "base_uri": "https://localhost:8080/"
    },
    "id": "z4PTVSFeM85m",
    "outputId": "ff2097c1-a2b1-4296-a382-a3db25e7cdb1"
   },
   "outputs": [
    {
     "name": "stdout",
     "output_type": "stream",
     "text": [
      "torch.return_types.sort(\n",
      "values=tensor([[0.0392, 0.2027, 0.0253, 0.0579, 0.0377],\n",
      "        [0.1090, 0.2407, 0.3424, 0.2019, 0.0904],\n",
      "        [0.5870, 0.5338, 0.7932, 0.5165, 0.3347],\n",
      "        [0.6006, 0.5742, 0.8452, 0.5695, 0.6508],\n",
      "        [0.6406, 0.6466, 0.9674, 0.8507, 0.7146]]),\n",
      "indices=tensor([[0, 1, 1, 0, 2],\n",
      "        [3, 3, 3, 4, 4],\n",
      "        [2, 0, 2, 2, 3],\n",
      "        [4, 2, 0, 3, 0],\n",
      "        [1, 4, 4, 1, 1]]))\n",
      "torch.return_types.sort(\n",
      "values=tensor([[0.8452, 0.6508, 0.5338, 0.0579, 0.0392],\n",
      "        [0.8507, 0.7146, 0.6406, 0.2027, 0.0253],\n",
      "        [0.7932, 0.5870, 0.5742, 0.5165, 0.0377],\n",
      "        [0.5695, 0.3424, 0.3347, 0.2407, 0.1090],\n",
      "        [0.9674, 0.6466, 0.6006, 0.2019, 0.0904]]),\n",
      "indices=tensor([[2, 4, 1, 3, 0],\n",
      "        [3, 4, 0, 1, 2],\n",
      "        [2, 0, 1, 3, 4],\n",
      "        [3, 2, 4, 1, 0],\n",
      "        [2, 1, 0, 3, 4]]))\n"
     ]
    }
   ],
   "source": [
    "sx0 = torch.sort(x1, dim=0, descending=False)\n",
    "sx1 = torch.sort(x1, dim=1, descending=True)\n",
    "print(sx0)\n",
    "print(sx1)"
   ]
  },
  {
   "cell_type": "code",
   "execution_count": 149,
   "metadata": {
    "colab": {
     "base_uri": "https://localhost:8080/"
    },
    "id": "YExyzAYRNQJ-",
    "outputId": "a687e1b9-11ce-4141-d9fe-49679b5275b3"
   },
   "outputs": [
    {
     "name": "stdout",
     "output_type": "stream",
     "text": [
      "tensor([ 1.,  2.,  3.,  1., 10., 10., 10.], dtype=torch.float64)\n"
     ]
    }
   ],
   "source": [
    "X = torch.from_numpy(np.array([0.1,2,3,0.5,10,12,15]))\n",
    "\n",
    "# Convert values less than 1 to 1\n",
    "# Convert values more than 10 to 10\n",
    "X_clamp = torch.clamp(X, min=1, max=10)\n",
    "print(X_clamp)"
   ]
  },
  {
   "cell_type": "code",
   "execution_count": 150,
   "metadata": {
    "colab": {
     "base_uri": "https://localhost:8080/"
    },
    "id": "RpiIUYzBOoCR",
    "outputId": "59fc545e-619d-42fa-9f8c-81967f7a5807"
   },
   "outputs": [
    {
     "name": "stdout",
     "output_type": "stream",
     "text": [
      "tensor([ True, False,  True,  True,  True])\n",
      "tensor(True)\n",
      "True\n"
     ]
    }
   ],
   "source": [
    "# Check any of the values is True\n",
    "x = torch.tensor([1,0,1,1,1], dtype=torch.bool)\n",
    "print(x)\n",
    "z = torch.any(x)\n",
    "print(z)\n",
    "\n",
    "# Getting value out of tensor\n",
    "print(z.item())"
   ]
  },
  {
   "cell_type": "code",
   "execution_count": 151,
   "metadata": {
    "colab": {
     "base_uri": "https://localhost:8080/"
    },
    "id": "Q9qN6DU6PMg7",
    "outputId": "0a735a7f-1e6e-48e9-ddd1-8aef0939d86c"
   },
   "outputs": [
    {
     "name": "stdout",
     "output_type": "stream",
     "text": [
      "tensor(False)\n"
     ]
    }
   ],
   "source": [
    "z = torch.all(x)\n",
    "print(z)"
   ]
  },
  {
   "cell_type": "markdown",
   "metadata": {
    "id": "cG35hNqJQWfV"
   },
   "source": [
    "### Tensor Indexing"
   ]
  },
  {
   "cell_type": "markdown",
   "metadata": {
    "id": "qG40bHCURITw"
   },
   "source": [
    "Same as Python List indexing"
   ]
  },
  {
   "cell_type": "code",
   "execution_count": 152,
   "metadata": {
    "colab": {
     "base_uri": "https://localhost:8080/"
    },
    "id": "k_ydoX3DPpDe",
    "outputId": "082740a5-3f42-448f-9297-a70a47f81932"
   },
   "outputs": [
    {
     "name": "stdout",
     "output_type": "stream",
     "text": [
      "tensor([0.7738, 0.5918, 0.8584, 0.7732, 0.6388, 0.4894, 0.8645, 0.1212, 0.8528,\n",
      "        0.7586, 0.6690, 0.5896, 0.1459, 0.8117, 0.4771, 0.9519, 0.1088, 0.4410,\n",
      "        0.6088, 0.9554, 0.7182, 0.2316, 0.7926, 0.3720, 0.3781])\n"
     ]
    }
   ],
   "source": [
    "batch_size = 10\n",
    "features = 25\n",
    "X = torch.rand((batch_size, features))\n",
    "print(X[0])"
   ]
  },
  {
   "cell_type": "code",
   "execution_count": 153,
   "metadata": {
    "colab": {
     "base_uri": "https://localhost:8080/"
    },
    "id": "DQOd0TV1Qs7d",
    "outputId": "88ece466-33c2-4886-9317-61bcdd29442b"
   },
   "outputs": [
    {
     "name": "stdout",
     "output_type": "stream",
     "text": [
      "tensor([3, 4, 5, 6, 7])\n",
      "tensor([0, 2, 4, 6, 8])\n"
     ]
    }
   ],
   "source": [
    "x = torch.arange(10)\n",
    "\n",
    "# Filtering like Pandas\n",
    "print(x[(x > 2) & (x < 8)])\n",
    "\n",
    "print(x[x.remainder(2) == 0])"
   ]
  },
  {
   "cell_type": "code",
   "execution_count": 154,
   "metadata": {
    "colab": {
     "base_uri": "https://localhost:8080/"
    },
    "id": "XhHyCle1SSVn",
    "outputId": "78a2c660-e655-4a6e-e892-4fca5de4c425"
   },
   "outputs": [
    {
     "data": {
      "text/plain": [
       "tensor([ 0,  2,  4,  6,  8, 10,  6,  7,  8,  9])"
      ]
     },
     "execution_count": 154,
     "metadata": {},
     "output_type": "execute_result"
    }
   ],
   "source": [
    "torch.where((x > 5), x, x*2) # if condition is true then same else multiplied by 2"
   ]
  },
  {
   "cell_type": "code",
   "execution_count": 155,
   "metadata": {
    "colab": {
     "base_uri": "https://localhost:8080/"
    },
    "id": "wkKoT3ICTGyn",
    "outputId": "7b04a1b7-6c68-4723-a4db-6662634b6177"
   },
   "outputs": [
    {
     "data": {
      "text/plain": [
       "tensor([0, 1, 2, 3, 4, 6])"
      ]
     },
     "execution_count": 155,
     "metadata": {},
     "output_type": "execute_result"
    }
   ],
   "source": [
    "# Getting unique values\n",
    "torch.tensor([0,0,1,2,3,3,4,4,4,4,6]).unique()"
   ]
  },
  {
   "cell_type": "code",
   "execution_count": 156,
   "metadata": {
    "colab": {
     "base_uri": "https://localhost:8080/"
    },
    "id": "bGL7i2sBTYch",
    "outputId": "882f196f-86d4-44a8-9190-f144fe04d05d"
   },
   "outputs": [
    {
     "name": "stdout",
     "output_type": "stream",
     "text": [
      "1\n"
     ]
    }
   ],
   "source": [
    "# Number of dimensions\n",
    "print(x.ndimension())"
   ]
  },
  {
   "cell_type": "code",
   "execution_count": 157,
   "metadata": {
    "colab": {
     "base_uri": "https://localhost:8080/"
    },
    "id": "3Q_8hYYMTbkw",
    "outputId": "91fb911f-6b26-42f8-db2f-ffc52629f7ea"
   },
   "outputs": [
    {
     "name": "stdout",
     "output_type": "stream",
     "text": [
      "10\n",
      "10\n"
     ]
    }
   ],
   "source": [
    "# Count no of elements in \"x\"\n",
    "print(x.numel())\n",
    "print(len(x))"
   ]
  },
  {
   "cell_type": "markdown",
   "metadata": {
    "id": "2txBgONgTykT"
   },
   "source": [
    "### Reshaping Tensors"
   ]
  },
  {
   "cell_type": "code",
   "execution_count": 159,
   "metadata": {
    "colab": {
     "base_uri": "https://localhost:8080/"
    },
    "id": "SsRtiVq2TtMA",
    "outputId": "efc49eec-c1b0-449e-f524-624b19859ea2"
   },
   "outputs": [
    {
     "name": "stdout",
     "output_type": "stream",
     "text": [
      "tensor([[0, 1, 2],\n",
      "        [3, 4, 5],\n",
      "        [6, 7, 8]])\n",
      "tensor([[0, 1, 2],\n",
      "        [3, 4, 5],\n",
      "        [6, 7, 8]])\n"
     ]
    }
   ],
   "source": [
    "x = torch.arange(9)\n",
    "\n",
    "# VIEW\n",
    "x_3x3 = x.view(3,3) # Tensor stored contiguously in memory\n",
    "print(x_3x3)\n",
    "\n",
    "# RESHAPE\n",
    "x_3x3 = x.reshape(3,3)\n",
    "print(x_3x3)"
   ]
  },
  {
   "cell_type": "code",
   "execution_count": 161,
   "metadata": {
    "colab": {
     "base_uri": "https://localhost:8080/"
    },
    "id": "wrHt1OxQcdvY",
    "outputId": "6e188b6d-342a-4df2-c7de-30dcfb4667de"
   },
   "outputs": [
    {
     "name": "stdout",
     "output_type": "stream",
     "text": [
      "torch.Size([4, 5])\n",
      "torch.Size([2, 10])\n"
     ]
    }
   ],
   "source": [
    "# Concatenation\n",
    "x1 = torch.rand((2,5))\n",
    "x2 = torch.rand((2,5))\n",
    "print(torch.cat((x1,x2), dim=0).shape)\n",
    "print(torch.cat((x1,x2), dim=1).shape)"
   ]
  },
  {
   "cell_type": "code",
   "execution_count": 164,
   "metadata": {
    "colab": {
     "base_uri": "https://localhost:8080/"
    },
    "id": "QPKvbcEhdzPd",
    "outputId": "4def9584-fba5-49e4-b276-eb9539e49f7e"
   },
   "outputs": [
    {
     "name": "stdout",
     "output_type": "stream",
     "text": [
      "tensor([[0.6434, 0.7737, 0.2272],\n",
      "        [0.6872, 0.2502, 0.0302],\n",
      "        [0.2806, 0.5029, 0.6870]])\n",
      "tensor([0.6434, 0.7737, 0.2272, 0.6872, 0.2502, 0.0302, 0.2806, 0.5029, 0.6870])\n",
      "torch.Size([64, 45])\n"
     ]
    }
   ],
   "source": [
    "x = torch.rand((3,3))\n",
    "print(x)\n",
    "\n",
    "# View and Reshape are functionally same but view is memory efficient - reshape creates the copy\n",
    "# Flatten the vector/matrix\n",
    "print(x.view(-1))\n",
    "\n",
    "# Keep the batch but flatten the rest\n",
    "batch = 64\n",
    "x = torch.rand((batch, 3, 5, 3))\n",
    "print(x.view(batch, -1).shape)"
   ]
  },
  {
   "cell_type": "code",
   "execution_count": 166,
   "metadata": {
    "colab": {
     "base_uri": "https://localhost:8080/"
    },
    "id": "8gY0zA1reE_c",
    "outputId": "38053961-95ee-43e6-8a8c-d6f70382ae96"
   },
   "outputs": [
    {
     "name": "stdout",
     "output_type": "stream",
     "text": [
      "torch.Size([64, 5, 4, 3])\n"
     ]
    }
   ],
   "source": [
    "# Switching the dimensions\n",
    "batch = 64\n",
    "x = torch.rand((batch, 3, 5, 4))\n",
    "z = x.permute(0, 2, 3, 1) # Setting the order\n",
    "print(z.shape)"
   ]
  },
  {
   "attachments": {
    "image.png": {
     "image/png": "[encoded data removed]"
    }
   },
   "cell_type": "markdown",
   "metadata": {},
   "source": [
    "![image.png](attachment:image.png)"
   ]
  },
  {
   "cell_type": "code",
   "execution_count": 169,
   "metadata": {
    "colab": {
     "base_uri": "https://localhost:8080/"
    },
    "id": "RLF3RYGReueL",
    "outputId": "ac9f3932-f937-4d56-fc69-afe4b41a5cb5"
   },
   "outputs": [
    {
     "name": "stdout",
     "output_type": "stream",
     "text": [
      "torch.Size([10])\n",
      "torch.Size([1, 10])\n",
      "torch.Size([10, 1])\n"
     ]
    }
   ],
   "source": [
    "# Adding one more dimension\n",
    "x = torch.arange(10)\n",
    "print(x.shape)\n",
    "y = x.unsqueeze(0)\n",
    "print(y.shape)\n",
    "z = x.unsqueeze(1)\n",
    "print(z.shape)"
   ]
  },
  {
   "cell_type": "code",
   "execution_count": 174,
   "metadata": {
    "colab": {
     "base_uri": "https://localhost:8080/"
    },
    "id": "RsKOdBdIfsuD",
    "outputId": "1189d614-5f32-4b13-f096-036ddfd1ee48"
   },
   "outputs": [
    {
     "name": "stdout",
     "output_type": "stream",
     "text": [
      "tensor([0, 1, 2, 3, 4, 5, 6, 7, 8, 9])\n",
      "tensor([0, 1, 2, 3, 4, 5, 6, 7, 8, 9])\n"
     ]
    }
   ],
   "source": [
    "# Excluding extra dimension\n",
    "print(y.squeeze(0)) # 1 wouldn't work here\n",
    "print(z.squeeze(1)) # 0 wouldn't work here"
   ]
  },
  {
   "cell_type": "code",
   "execution_count": 182,
   "metadata": {
    "colab": {
     "base_uri": "https://localhost:8080/"
    },
    "id": "7eX0C6wvf0zx",
    "outputId": "9aab10a4-01c0-4bf8-d9ce-dcbdb099a0e5"
   },
   "outputs": [
    {
     "data": {
      "text/plain": [
       "torch.Size([1, 10, 1])"
      ]
     },
     "execution_count": 182,
     "metadata": {},
     "output_type": "execute_result"
    }
   ],
   "source": [
    "# Play with it\n",
    "torch.arange(10).unsqueeze(1).unsqueeze(0).shape"
   ]
  },
  {
   "cell_type": "code",
   "execution_count": null,
   "metadata": {
    "id": "hoTr7UX-iziD"
   },
   "outputs": [],
   "source": []
  }
 ],
 "metadata": {
  "accelerator": "GPU",
  "colab": {
   "collapsed_sections": [],
   "name": "1 - PyTorch - Tensors.ipynb",
   "provenance": []
  },
  "language_info": {
   "codemirror_mode": {
    "name": "ipython",
    "version": 3
   },
   "file_extension": ".py",
   "mimetype": "text/x-python",
   "name": "python",
   "nbconvert_exporter": "python",
   "pygments_lexer": "ipython3",
   "version": "3.8.10"
  }
 },
 "nbformat": 4,
 "nbformat_minor": 1
}