{
 "cells": [
  {
   "cell_type": "markdown",
   "metadata": {
    "id": "0cI94xyPNLnW"
   },
   "source": [
    "### 1) Specify how preprocessing should be done (Fields)\n",
    "### 2) Use Dataset to load the data -> TabularDataset\n",
    "### 3) Construct an iterator to do batching and padding -> BucketIterator"
   ]
  },
  {
   "cell_type": "code",
   "execution_count": 17,
   "metadata": {
    "id": "_k4ffdofM3UK"
   },
   "outputs": [],
   "source": [
    "from torchtext.legacy.data import Field, TabularDataset, BucketIterator\n",
    "import spacy"
   ]
  },
  {
   "cell_type": "code",
   "execution_count": 37,
   "metadata": {
    "id": "_d3YC7gITmPp"
   },
   "outputs": [],
   "source": [
    "spacy_en = spacy.load(\"en\")\n",
    "device = torch.device(\"cuda\" if torch.cuda.is_available() else \"cpu\")"
   ]
  },
  {
   "cell_type": "code",
   "execution_count": 20,
   "metadata": {
    "id": "4z5OsJ4sNnW_"
   },
   "outputs": [],
   "source": [
    "def tokenize(text):\n",
    "  return [tok.text for tok in spacy_en.tokenizer(text)]"
   ]
  },
  {
   "cell_type": "code",
   "execution_count": 21,
   "metadata": {
    "id": "b8UKcvh-N6HC"
   },
   "outputs": [],
   "source": [
    "quote = Field(sequential=True, use_vocab=True, tokenize=tokenize, lower=True)\n",
    "score = Field(sequential=False, use_vocab=False)"
   ]
  },
  {
   "cell_type": "code",
   "execution_count": 22,
   "metadata": {
    "id": "32oYDl92OC8T"
   },
   "outputs": [],
   "source": [
    "# Specify which columns to use in Dataset\n",
    "fields = {\"quote\": (\"q\", quote), \"score\": (\"s\", score)}\n",
    "train_data, test_data = TabularDataset.splits(\n",
    "    path=\".\",\n",
    "    train=\"train.json\",\n",
    "    # validation=\"validation.json\"\n",
    "    test=\"test.json\",\n",
    "    format=\"json\",\n",
    "    fields=fields\n",
    ")"
   ]
  },
  {
   "cell_type": "code",
   "execution_count": 23,
   "metadata": {
    "id": "oVdYZqMZO-zS"
   },
   "outputs": [],
   "source": [
    "# # Specify which columns to use in Dataset\n",
    "# fields = {\"quote\": (\"q\", quote), \"score\": (\"s\", score)}\n",
    "# train_data, test_data = TabularDataset.splits(\n",
    "#     path=\".\",\n",
    "#     train=\"train.csv\",\n",
    "#     test=\"test.csv\",\n",
    "#     format=\"csv\",\n",
    "#     fields=fields\n",
    "# )"
   ]
  },
  {
   "cell_type": "code",
   "execution_count": 24,
   "metadata": {
    "id": "wJGi9UsxPG2r"
   },
   "outputs": [],
   "source": [
    "# # Specify which columns to use in Dataset\n",
    "# fields = {\"quote\": (\"q\", quote), \"score\": (\"s\", score)}\n",
    "# train_data, test_data = TabularDataset.splits(\n",
    "#     path=\".\",\n",
    "#     train=\"train.tsv\",\n",
    "#     test=\"test.tsv\",\n",
    "#     format=\"tsv\",\n",
    "#     fields=fields\n",
    "# )"
   ]
  },
  {
   "cell_type": "code",
   "execution_count": 25,
   "metadata": {
    "colab": {
     "base_uri": "https://localhost:8080/"
    },
    "id": "nxY2W29MPIvs",
    "outputId": "aa6976f3-962b-467d-f541-db6b99708b3c"
   },
   "outputs": [
    {
     "name": "stdout",
     "output_type": "stream",
     "text": [
      "dict_keys(['q', 's'])\n",
      "dict_values([['you', 'must', 'own', 'everything', 'in', 'your', 'world', '.', 'there', 'is', 'no', 'one', 'else', 'to', 'blame', '.'], 1])\n"
     ]
    }
   ],
   "source": [
    "print(train_data[0].__dict__.keys())\n",
    "print(train_data[0].__dict__.values())"
   ]
  },
  {
   "cell_type": "code",
   "execution_count": 30,
   "metadata": {
    "colab": {
     "base_uri": "https://localhost:8080/"
    },
    "id": "FeWM9VcRPcPP",
    "outputId": "f40d1c0a-24b9-49fe-8212-9513e1450fab"
   },
   "outputs": [
    {
     "name": "stderr",
     "output_type": "stream",
     "text": [
      ".vector_cache/glove.6B.zip: 862MB [02:41, 5.35MB/s]                           \n",
      "100%|█████████▉| 399999/400000 [00:21<00:00, 18621.10it/s]\n"
     ]
    }
   ],
   "source": [
    "# Building vocabulary for quote filed\n",
    "# We can also have pretrained embeddings\n",
    "quote.build_vocab(train_data,\n",
    "                  max_size=10000,\n",
    "                  min_freq=1,\n",
    "                  vectors=\"glove.6B.100d\") # If you don't pass vectors/embeddings, it would build index vocabulary"
   ]
  },
  {
   "cell_type": "code",
   "execution_count": 38,
   "metadata": {
    "id": "-XR9acukPs0Y"
   },
   "outputs": [],
   "source": [
    "# Does padding automatically\n",
    "train_iterator, test_iterator = BucketIterator.splits(\n",
    "    (train_data, test_data),\n",
    "    batch_size=3,\n",
    "    device=device,\n",
    ")"
   ]
  },
  {
   "cell_type": "code",
   "execution_count": 39,
   "metadata": {
    "colab": {
     "base_uri": "https://localhost:8080/"
    },
    "id": "QOkt4qGJQOxw",
    "outputId": "4e9a5821-b28b-4b00-ab2b-604f0f852865"
   },
   "outputs": [
    {
     "name": "stdout",
     "output_type": "stream",
     "text": [
      "tensor([[14, 35, 29],\n",
      "        [25, 23, 31],\n",
      "        [ 7, 26,  3],\n",
      "        [ 5, 18, 11],\n",
      "        [10, 19, 28],\n",
      "        [15, 36, 22],\n",
      "        [21, 34,  4],\n",
      "        [ 3,  2, 27],\n",
      "        [ 7, 33,  9],\n",
      "        [ 5, 20,  1],\n",
      "        [32, 24,  1],\n",
      "        [30,  6,  1],\n",
      "        [ 8, 16,  1],\n",
      "        [17,  8,  1],\n",
      "        [ 4, 12,  1],\n",
      "        [13,  2,  1],\n",
      "        [ 6,  1,  1],\n",
      "        [ 2,  1,  1]], device='cuda:0')\n",
      "tensor([1, 1, 0], device='cuda:0')\n"
     ]
    }
   ],
   "source": [
    "for batch in train_iterator:\n",
    "  print(batch.q)\n",
    "  print(batch.s)"
   ]
  },
  {
   "cell_type": "code",
   "execution_count": 40,
   "metadata": {
    "id": "h3BFDt__WSrJ"
   },
   "outputs": [],
   "source": [
    "import torch\n",
    "import torch.nn as nn\n",
    "import torch.optim as optim"
   ]
  },
  {
   "cell_type": "code",
   "execution_count": 41,
   "metadata": {
    "id": "rYe5-4rmUQGh"
   },
   "outputs": [],
   "source": [
    "######### Training a simple LSTM on this toy data of ours #########\n",
    "class RNN_LSTM(nn.Module):\n",
    "    def __init__(self, input_size, embed_size, hidden_size, num_layers):\n",
    "        super(RNN_LSTM, self).__init__()\n",
    "        self.hidden_size = hidden_size\n",
    "        self.num_layers = num_layers\n",
    "\n",
    "        self.embedding = nn.Embedding(input_size, embed_size)\n",
    "        self.rnn = nn.LSTM(embed_size, hidden_size, num_layers)\n",
    "        self.fc_out = nn.Linear(hidden_size, 1)\n",
    "\n",
    "    def forward(self, x):\n",
    "        # Set initial hidden and cell states\n",
    "        h0 = torch.zeros(self.num_layers, x.size(1), self.hidden_size).to(device)\n",
    "        c0 = torch.zeros(self.num_layers, x.size(1), self.hidden_size).to(device)\n",
    "\n",
    "        embedded = self.embedding(x)\n",
    "        outputs, _ = self.rnn(embedded, (h0, c0))\n",
    "        prediction = self.fc_out(outputs[-1, :, :])\n",
    "\n",
    "        return prediction"
   ]
  },
  {
   "cell_type": "code",
   "execution_count": 42,
   "metadata": {
    "id": "iVkMurr9WPV9"
   },
   "outputs": [],
   "source": [
    "# Hyperparameters\n",
    "input_size = len(quote.vocab)\n",
    "hidden_size = 512\n",
    "num_layers = 2\n",
    "embedding_size = 100\n",
    "learning_rate = 0.005\n",
    "num_epochs = 10"
   ]
  },
  {
   "cell_type": "code",
   "execution_count": 43,
   "metadata": {
    "id": "qc4ExjNmWV8U"
   },
   "outputs": [],
   "source": [
    "# Initialize network\n",
    "model = RNN_LSTM(input_size, embedding_size, hidden_size, num_layers).to(device)"
   ]
  },
  {
   "cell_type": "code",
   "execution_count": 44,
   "metadata": {
    "colab": {
     "base_uri": "https://localhost:8080/"
    },
    "id": "ZOdJJCXwWfCK",
    "outputId": "8a0f6275-ea3f-4889-bb3c-aa1b03eae2c9"
   },
   "outputs": [
    {
     "data": {
      "text/plain": [
       "tensor([[ 0.0000,  0.0000,  0.0000,  ...,  0.0000,  0.0000,  0.0000],\n",
       "        [ 0.0000,  0.0000,  0.0000,  ...,  0.0000,  0.0000,  0.0000],\n",
       "        [-0.3398,  0.2094,  0.4635,  ..., -0.2339,  0.4730, -0.0288],\n",
       "        ...,\n",
       "        [ 0.4918,  1.1164,  1.1424,  ..., -0.5088,  0.6256,  0.4392],\n",
       "        [-0.4989,  0.7660,  0.8975,  ..., -0.4118,  0.4054,  0.7850],\n",
       "        [-0.5718,  0.0463,  0.8673,  ..., -0.3566,  0.9293,  0.8995]],\n",
       "       device='cuda:0')"
      ]
     },
     "execution_count": 44,
     "metadata": {},
     "output_type": "execute_result"
    }
   ],
   "source": [
    "# Load the pretrained embeddings onto our model\n",
    "pretrained_embeddings = quote.vocab.vectors\n",
    "model.embedding.weight.data.copy_(pretrained_embeddings)"
   ]
  },
  {
   "cell_type": "code",
   "execution_count": 45,
   "metadata": {
    "id": "I0a82qE6WyXc"
   },
   "outputs": [],
   "source": [
    "# Loss and optimizer\n",
    "criterion = nn.BCEWithLogitsLoss()\n",
    "optimizer = optim.Adam(model.parameters(), lr=learning_rate)"
   ]
  },
  {
   "cell_type": "code",
   "execution_count": 47,
   "metadata": {
    "id": "ik_UTzQwXKNj"
   },
   "outputs": [],
   "source": [
    "from tqdm.notebook import tqdm"
   ]
  },
  {
   "cell_type": "code",
   "execution_count": 50,
   "metadata": {
    "colab": {
     "base_uri": "https://localhost:8080/",
     "height": 223,
     "referenced_widgets": [
      "2dee620404e3420a9791ff9e6825c616",
      "3dc6069dd66443349221c7053425378f",
      "632f13ceb7934fb295a6a3caab4973c4",
      "c3de5d9fc32140018925799b7a47a356",
      "cd158f8cf99b47d9bfd2b44115155eef",
      "b8b9f25a81a149f1897daa9e26df3954",
      "5f0bd6bc13b64afe8b0e69d48ce40086",
      "a1bcb979b0f545009c84dd5250ea18dd",
      "3329be83a811446c8173f2f3afac513b",
      "73118e4484074a75aca52d4bd50e15d8",
      "f54b5381d45d47a6b7cafbbbf35d12d3"
     ]
    },
    "id": "482iTmFSW0BJ",
    "outputId": "d03e6f9d-7afc-46fa-d8ae-d4e77e8a58c8"
   },
   "outputs": [
    {
     "data": {
      "application/vnd.jupyter.widget-view+json": {
       "model_id": "2dee620404e3420a9791ff9e6825c616",
       "version_major": 2,
       "version_minor": 0
      },
      "text/plain": [
       "  0%|          | 0/10 [00:00<?, ?it/s]"
      ]
     },
     "metadata": {},
     "output_type": "display_data"
    },
    {
     "name": "stdout",
     "output_type": "stream",
     "text": [
      "Epoch 0 is done\n",
      "Epoch 1 is done\n",
      "Epoch 2 is done\n",
      "Epoch 3 is done\n",
      "Epoch 4 is done\n",
      "Epoch 5 is done\n",
      "Epoch 6 is done\n",
      "Epoch 7 is done\n",
      "Epoch 8 is done\n",
      "Epoch 9 is done\n"
     ]
    }
   ],
   "source": [
    "# Train Network\n",
    "for epoch in tqdm(range(num_epochs)):\n",
    "    for batch_idx, batch in enumerate(train_iterator):\n",
    "        # Get data to cuda if possible\n",
    "        data = batch.q.to(device=device)\n",
    "        targets = batch.s.to(device=device)\n",
    "\n",
    "        # forward\n",
    "        scores = model(data)\n",
    "        loss = criterion(scores.squeeze(1), targets.type_as(scores))\n",
    "\n",
    "        # backward\n",
    "        optimizer.zero_grad()\n",
    "        loss.backward()\n",
    "\n",
    "        # gradient descent\n",
    "        optimizer.step()\n",
    "\n",
    "    print(f\"Epoch {epoch} is done\")"
   ]
  },
  {
   "cell_type": "code",
   "execution_count": null,
   "metadata": {
    "id": "xl5wTHm5XCDR"
   },
   "outputs": [],
   "source": []
  }
 ],
 "metadata": {
  "accelerator": "GPU",
  "colab": {
   "collapsed_sections": [],
   "name": "1-Custom Datasets and Loading.ipynb",
   "provenance": []
  },
  "language_info": {
   "name": "python"
  },
  "widgets": {
   "application/vnd.jupyter.widget-state+json": {
    "2dee620404e3420a9791ff9e6825c616": {
     "model_module": "@jupyter-widgets/controls",
     "model_module_version": "1.5.0",
     "model_name": "HBoxModel",
     "state": {
      "_dom_classes": [],
      "_model_module": "@jupyter-widgets/controls",
      "_model_module_version": "1.5.0",
      "_model_name": "HBoxModel",
      "_view_count": null,
      "_view_module": "@jupyter-widgets/controls",
      "_view_module_version": "1.5.0",
      "_view_name": "HBoxView",
      "box_style": "",
      "children": [
       "IPY_MODEL_632f13ceb7934fb295a6a3caab4973c4",
       "IPY_MODEL_c3de5d9fc32140018925799b7a47a356",
       "IPY_MODEL_cd158f8cf99b47d9bfd2b44115155eef"
      ],
      "layout": "IPY_MODEL_3dc6069dd66443349221c7053425378f"
     }
    },
    "3329be83a811446c8173f2f3afac513b": {
     "model_module": "@jupyter-widgets/base",
     "model_module_version": "1.2.0",
     "model_name": "LayoutModel",
     "state": {
      "_model_module": "@jupyter-widgets/base",
      "_model_module_version": "1.2.0",
      "_model_name": "LayoutModel",
      "_view_count": null,
      "_view_module": "@jupyter-widgets/base",
      "_view_module_version": "1.2.0",
      "_view_name": "LayoutView",
      "align_content": null,
      "align_items": null,
      "align_self": null,
      "border": null,
      "bottom": null,
      "display": null,
      "flex": null,
      "flex_flow": null,
      "grid_area": null,
      "grid_auto_columns": null,
      "grid_auto_flow": null,
      "grid_auto_rows": null,
      "grid_column": null,
      "grid_gap": null,
      "grid_row": null,
      "grid_template_areas": null,
      "grid_template_columns": null,
      "grid_template_rows": null,
      "height": null,
      "justify_content": null,
      "justify_items": null,
      "left": null,
      "margin": null,
      "max_height": null,
      "max_width": null,
      "min_height": null,
      "min_width": null,
      "object_fit": null,
      "object_position": null,
      "order": null,
      "overflow": null,
      "overflow_x": null,
      "overflow_y": null,
      "padding": null,
      "right": null,
      "top": null,
      "visibility": null,
      "width": null
     }
    },
    "3dc6069dd66443349221c7053425378f": {
     "model_module": "@jupyter-widgets/base",
     "model_module_version": "1.2.0",
     "model_name": "LayoutModel",
     "state": {
      "_model_module": "@jupyter-widgets/base",
      "_model_module_version": "1.2.0",
      "_model_name": "LayoutModel",
      "_view_count": null,
      "_view_module": "@jupyter-widgets/base",
      "_view_module_version": "1.2.0",
      "_view_name": "LayoutView",
      "align_content": null,
      "align_items": null,
      "align_self": null,
      "border": null,
      "bottom": null,
      "display": null,
      "flex": null,
      "flex_flow": null,
      "grid_area": null,
      "grid_auto_columns": null,
      "grid_auto_flow": null,
      "grid_auto_rows": null,
      "grid_column": null,
      "grid_gap": null,
      "grid_row": null,
      "grid_template_areas": null,
      "grid_template_columns": null,
      "grid_template_rows": null,
      "height": null,
      "justify_content": null,
      "justify_items": null,
      "left": null,
      "margin": null,
      "max_height": null,
      "max_width": null,
      "min_height": null,
      "min_width": null,
      "object_fit": null,
      "object_position": null,
      "order": null,
      "overflow": null,
      "overflow_x": null,
      "overflow_y": null,
      "padding": null,
      "right": null,
      "top": null,
      "visibility": null,
      "width": null
     }
    },
    "5f0bd6bc13b64afe8b0e69d48ce40086": {
     "model_module": "@jupyter-widgets/base",
     "model_module_version": "1.2.0",
     "model_name": "LayoutModel",
     "state": {
      "_model_module": "@jupyter-widgets/base",
      "_model_module_version": "1.2.0",
      "_model_name": "LayoutModel",
      "_view_count": null,
      "_view_module": "@jupyter-widgets/base",
      "_view_module_version": "1.2.0",
      "_view_name": "LayoutView",
      "align_content": null,
      "align_items": null,
      "align_self": null,
      "border": null,
      "bottom": null,
      "display": null,
      "flex": null,
      "flex_flow": null,
      "grid_area": null,
      "grid_auto_columns": null,
      "grid_auto_flow": null,
      "grid_auto_rows": null,
      "grid_column": null,
      "grid_gap": null,
      "grid_row": null,
      "grid_template_areas": null,
      "grid_template_columns": null,
      "grid_template_rows": null,
      "height": null,
      "justify_content": null,
      "justify_items": null,
      "left": null,
      "margin": null,
      "max_height": null,
      "max_width": null,
      "min_height": null,
      "min_width": null,
      "object_fit": null,
      "object_position": null,
      "order": null,
      "overflow": null,
      "overflow_x": null,
      "overflow_y": null,
      "padding": null,
      "right": null,
      "top": null,
      "visibility": null,
      "width": null
     }
    },
    "632f13ceb7934fb295a6a3caab4973c4": {
     "model_module": "@jupyter-widgets/controls",
     "model_module_version": "1.5.0",
     "model_name": "HTMLModel",
     "state": {
      "_dom_classes": [],
      "_model_module": "@jupyter-widgets/controls",
      "_model_module_version": "1.5.0",
      "_model_name": "HTMLModel",
      "_view_count": null,
      "_view_module": "@jupyter-widgets/controls",
      "_view_module_version": "1.5.0",
      "_view_name": "HTMLView",
      "description": "",
      "description_tooltip": null,
      "layout": "IPY_MODEL_5f0bd6bc13b64afe8b0e69d48ce40086",
      "placeholder": "​",
      "style": "IPY_MODEL_b8b9f25a81a149f1897daa9e26df3954",
      "value": "100%"
     }
    },
    "73118e4484074a75aca52d4bd50e15d8": {
     "model_module": "@jupyter-widgets/controls",
     "model_module_version": "1.5.0",
     "model_name": "DescriptionStyleModel",
     "state": {
      "_model_module": "@jupyter-widgets/controls",
      "_model_module_version": "1.5.0",
      "_model_name": "DescriptionStyleModel",
      "_view_count": null,
      "_view_module": "@jupyter-widgets/base",
      "_view_module_version": "1.2.0",
      "_view_name": "StyleView",
      "description_width": ""
     }
    },
    "a1bcb979b0f545009c84dd5250ea18dd": {
     "model_module": "@jupyter-widgets/controls",
     "model_module_version": "1.5.0",
     "model_name": "ProgressStyleModel",
     "state": {
      "_model_module": "@jupyter-widgets/controls",
      "_model_module_version": "1.5.0",
      "_model_name": "ProgressStyleModel",
      "_view_count": null,
      "_view_module": "@jupyter-widgets/base",
      "_view_module_version": "1.2.0",
      "_view_name": "StyleView",
      "bar_color": null,
      "description_width": ""
     }
    },
    "b8b9f25a81a149f1897daa9e26df3954": {
     "model_module": "@jupyter-widgets/controls",
     "model_module_version": "1.5.0",
     "model_name": "DescriptionStyleModel",
     "state": {
      "_model_module": "@jupyter-widgets/controls",
      "_model_module_version": "1.5.0",
      "_model_name": "DescriptionStyleModel",
      "_view_count": null,
      "_view_module": "@jupyter-widgets/base",
      "_view_module_version": "1.2.0",
      "_view_name": "StyleView",
      "description_width": ""
     }
    },
    "c3de5d9fc32140018925799b7a47a356": {
     "model_module": "@jupyter-widgets/controls",
     "model_module_version": "1.5.0",
     "model_name": "FloatProgressModel",
     "state": {
      "_dom_classes": [],
      "_model_module": "@jupyter-widgets/controls",
      "_model_module_version": "1.5.0",
      "_model_name": "FloatProgressModel",
      "_view_count": null,
      "_view_module": "@jupyter-widgets/controls",
      "_view_module_version": "1.5.0",
      "_view_name": "ProgressView",
      "bar_style": "success",
      "description": "",
      "description_tooltip": null,
      "layout": "IPY_MODEL_3329be83a811446c8173f2f3afac513b",
      "max": 10,
      "min": 0,
      "orientation": "horizontal",
      "style": "IPY_MODEL_a1bcb979b0f545009c84dd5250ea18dd",
      "value": 10
     }
    },
    "cd158f8cf99b47d9bfd2b44115155eef": {
     "model_module": "@jupyter-widgets/controls",
     "model_module_version": "1.5.0",
     "model_name": "HTMLModel",
     "state": {
      "_dom_classes": [],
      "_model_module": "@jupyter-widgets/controls",
      "_model_module_version": "1.5.0",
      "_model_name": "HTMLModel",
      "_view_count": null,
      "_view_module": "@jupyter-widgets/controls",
      "_view_module_version": "1.5.0",
      "_view_name": "HTMLView",
      "description": "",
      "description_tooltip": null,
      "layout": "IPY_MODEL_f54b5381d45d47a6b7cafbbbf35d12d3",
      "placeholder": "​",
      "style": "IPY_MODEL_73118e4484074a75aca52d4bd50e15d8",
      "value": " 10/10 [00:00&lt;00:00, 39.42it/s]"
     }
    },
    "f54b5381d45d47a6b7cafbbbf35d12d3": {
     "model_module": "@jupyter-widgets/base",
     "model_module_version": "1.2.0",
     "model_name": "LayoutModel",
     "state": {
      "_model_module": "@jupyter-widgets/base",
      "_model_module_version": "1.2.0",
      "_model_name": "LayoutModel",
      "_view_count": null,
      "_view_module": "@jupyter-widgets/base",
      "_view_module_version": "1.2.0",
      "_view_name": "LayoutView",
      "align_content": null,
      "align_items": null,
      "align_self": null,
      "border": null,
      "bottom": null,
      "display": null,
      "flex": null,
      "flex_flow": null,
      "grid_area": null,
      "grid_auto_columns": null,
      "grid_auto_flow": null,
      "grid_auto_rows": null,
      "grid_column": null,
      "grid_gap": null,
      "grid_row": null,
      "grid_template_areas": null,
      "grid_template_columns": null,
      "grid_template_rows": null,
      "height": null,
      "justify_content": null,
      "justify_items": null,
      "left": null,
      "margin": null,
      "max_height": null,
      "max_width": null,
      "min_height": null,
      "min_width": null,
      "object_fit": null,
      "object_position": null,
      "order": null,
      "overflow": null,
      "overflow_x": null,
      "overflow_y": null,
      "padding": null,
      "right": null,
      "top": null,
      "visibility": null,
      "width": null
     }
    }
   }
  }
 },
 "nbformat": 4,
 "nbformat_minor": 0
}